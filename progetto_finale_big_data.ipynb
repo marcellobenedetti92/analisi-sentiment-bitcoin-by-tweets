{
 "cells": [
  {
   "cell_type": "markdown",
   "metadata": {
    "application/vnd.databricks.v1+cell": {
     "cellMetadata": {},
     "inputWidgets": {},
     "nuid": "ff9ff2e6-bf2c-44b4-a490-0e8d0d53bce0",
     "showTitle": false,
     "tableResultSettingsMap": {},
     "title": ""
    }
   },
   "source": [
    "# Import"
   ]
  },
  {
   "cell_type": "code",
   "execution_count": 0,
   "metadata": {
    "application/vnd.databricks.v1+cell": {
     "cellMetadata": {
      "byteLimit": 2048000,
      "rowLimit": 10000
     },
     "inputWidgets": {},
     "nuid": "1a9134f5-ed33-4b11-ba19-0f91a7cf37f3",
     "showTitle": false,
     "tableResultSettingsMap": {},
     "title": ""
    }
   },
   "outputs": [
    {
     "output_type": "stream",
     "name": "stdout",
     "output_type": "stream",
     "text": [
      "Python interpreter will be restarted.\nRequirement already satisfied: pip in /local_disk0/.ephemeral_nfs/envs/pythonEnv-89af958c-09e1-4e68-8305-d26716ab2078/lib/python3.9/site-packages (21.2.4)\nCollecting pip\n  Downloading pip-25.0.1-py3-none-any.whl (1.8 MB)\nInstalling collected packages: pip\n  Attempting uninstall: pip\n    Found existing installation: pip 21.2.4\n    Uninstalling pip-21.2.4:\n      Successfully uninstalled pip-21.2.4\nSuccessfully installed pip-25.0.1\nPython interpreter will be restarted.\nPython interpreter will be restarted.\nCollecting pydantic<2\n  Downloading pydantic-1.10.21-cp39-cp39-manylinux_2_17_x86_64.manylinux2014_x86_64.whl.metadata (153 kB)\nCollecting spacy\n  Downloading spacy-3.8.3-cp39-cp39-manylinux_2_17_x86_64.manylinux2014_x86_64.whl.metadata (27 kB)\nCollecting typing-extensions>=4.2.0 (from pydantic<2)\n  Downloading typing_extensions-4.13.0-py3-none-any.whl.metadata (3.0 kB)\nCollecting spacy-legacy<3.1.0,>=3.0.11 (from spacy)\n  Downloading spacy_legacy-3.0.12-py2.py3-none-any.whl.metadata (2.8 kB)\nCollecting spacy-loggers<2.0.0,>=1.0.0 (from spacy)\n  Downloading spacy_loggers-1.0.5-py3-none-any.whl.metadata (23 kB)\nCollecting murmurhash<1.1.0,>=0.28.0 (from spacy)\n  Downloading murmurhash-1.0.12-cp39-cp39-manylinux_2_5_x86_64.manylinux1_x86_64.manylinux_2_17_x86_64.manylinux2014_x86_64.whl.metadata (2.1 kB)\nCollecting cymem<2.1.0,>=2.0.2 (from spacy)\n  Downloading cymem-2.0.11-cp39-cp39-manylinux_2_17_x86_64.manylinux2014_x86_64.whl.metadata (8.5 kB)\nCollecting preshed<3.1.0,>=3.0.2 (from spacy)\n  Downloading preshed-3.0.9-cp39-cp39-manylinux_2_5_x86_64.manylinux1_x86_64.manylinux_2_17_x86_64.manylinux2014_x86_64.whl.metadata (2.2 kB)\nCollecting thinc<8.4.0,>=8.3.0 (from spacy)\n  Downloading thinc-8.3.4-cp39-cp39-manylinux_2_17_x86_64.manylinux2014_x86_64.whl.metadata (15 kB)\nCollecting wasabi<1.2.0,>=0.9.1 (from spacy)\n  Downloading wasabi-1.1.3-py3-none-any.whl.metadata (28 kB)\nCollecting srsly<3.0.0,>=2.4.3 (from spacy)\n  Downloading srsly-2.5.1-cp39-cp39-manylinux_2_17_x86_64.manylinux2014_x86_64.whl.metadata (19 kB)\nCollecting catalogue<2.1.0,>=2.0.6 (from spacy)\n  Downloading catalogue-2.0.10-py3-none-any.whl.metadata (14 kB)\nCollecting weasel<0.5.0,>=0.1.0 (from spacy)\n  Downloading weasel-0.4.1-py3-none-any.whl.metadata (4.6 kB)\nCollecting typer<1.0.0,>=0.3.0 (from spacy)\n  Downloading typer-0.15.2-py3-none-any.whl.metadata (15 kB)\nCollecting tqdm<5.0.0,>=4.38.0 (from spacy)\n  Downloading tqdm-4.67.1-py3-none-any.whl.metadata (57 kB)\nRequirement already satisfied: numpy>=1.19.0 in /databricks/python3/lib/python3.9/site-packages (from spacy) (1.21.5)\nRequirement already satisfied: requests<3.0.0,>=2.13.0 in /databricks/python3/lib/python3.9/site-packages (from spacy) (2.27.1)\nRequirement already satisfied: jinja2 in /databricks/python3/lib/python3.9/site-packages (from spacy) (2.11.3)\nRequirement already satisfied: setuptools in /databricks/python3/lib/python3.9/site-packages (from spacy) (61.2.0)\nRequirement already satisfied: packaging>=20.0 in /databricks/python3/lib/python3.9/site-packages (from spacy) (21.3)\nCollecting langcodes<4.0.0,>=3.2.0 (from spacy)\n  Downloading langcodes-3.5.0-py3-none-any.whl.metadata (29 kB)\nCollecting language-data>=1.2 (from langcodes<4.0.0,>=3.2.0->spacy)\n  Downloading language_data-1.3.0-py3-none-any.whl.metadata (4.3 kB)\nRequirement already satisfied: pyparsing!=3.0.5,>=2.0.2 in /databricks/python3/lib/python3.9/site-packages (from packaging>=20.0->spacy) (3.0.4)\nRequirement already satisfied: urllib3<1.27,>=1.21.1 in /databricks/python3/lib/python3.9/site-packages (from requests<3.0.0,>=2.13.0->spacy) (1.26.9)\nRequirement already satisfied: certifi>=2017.4.17 in /databricks/python3/lib/python3.9/site-packages (from requests<3.0.0,>=2.13.0->spacy) (2021.10.8)\nRequirement already satisfied: charset-normalizer~=2.0.0 in /databricks/python3/lib/python3.9/site-packages (from requests<3.0.0,>=2.13.0->spacy) (2.0.4)\nRequirement already satisfied: idna<4,>=2.5 in /databricks/python3/lib/python3.9/site-packages (from requests<3.0.0,>=2.13.0->spacy) (3.3)\nCollecting blis<1.3.0,>=1.2.0 (from thinc<8.4.0,>=8.3.0->spacy)\n  Downloading blis-1.2.0-cp39-cp39-manylinux_2_17_x86_64.manylinux2014_x86_64.whl.metadata (7.7 kB)\nCollecting confection<1.0.0,>=0.0.1 (from thinc<8.4.0,>=8.3.0->spacy)\n  Downloading confection-0.1.5-py3-none-any.whl.metadata (19 kB)\nRequirement already satisfied: click>=8.0.0 in /databricks/python3/lib/python3.9/site-packages (from typer<1.0.0,>=0.3.0->spacy) (8.0.4)\nCollecting shellingham>=1.3.0 (from typer<1.0.0,>=0.3.0->spacy)\n  Downloading shellingham-1.5.4-py2.py3-none-any.whl.metadata (3.5 kB)\nCollecting rich>=10.11.0 (from typer<1.0.0,>=0.3.0->spacy)\n  Downloading rich-13.9.4-py3-none-any.whl.metadata (18 kB)\nCollecting cloudpathlib<1.0.0,>=0.7.0 (from weasel<0.5.0,>=0.1.0->spacy)\n  Downloading cloudpathlib-0.21.0-py3-none-any.whl.metadata (14 kB)\nCollecting smart-open<8.0.0,>=5.2.1 (from weasel<0.5.0,>=0.1.0->spacy)\n  Downloading smart_open-7.1.0-py3-none-any.whl.metadata (24 kB)\nRequirement already satisfied: MarkupSafe>=0.23 in /databricks/python3/lib/python3.9/site-packages (from jinja2->spacy) (2.0.1)\nCollecting marisa-trie>=1.1.0 (from language-data>=1.2->langcodes<4.0.0,>=3.2.0->spacy)\n  Downloading marisa_trie-1.2.1-cp39-cp39-manylinux_2_17_x86_64.manylinux2014_x86_64.whl.metadata (9.0 kB)\nCollecting markdown-it-py>=2.2.0 (from rich>=10.11.0->typer<1.0.0,>=0.3.0->spacy)\n  Downloading markdown_it_py-3.0.0-py3-none-any.whl.metadata (6.9 kB)\nCollecting pygments<3.0.0,>=2.13.0 (from rich>=10.11.0->typer<1.0.0,>=0.3.0->spacy)\n  Downloading pygments-2.19.1-py3-none-any.whl.metadata (2.5 kB)\nCollecting wrapt (from smart-open<8.0.0,>=5.2.1->weasel<0.5.0,>=0.1.0->spacy)\n  Downloading wrapt-1.17.2-cp39-cp39-manylinux_2_5_x86_64.manylinux1_x86_64.manylinux_2_17_x86_64.manylinux2014_x86_64.whl.metadata (6.4 kB)\nCollecting mdurl~=0.1 (from markdown-it-py>=2.2.0->rich>=10.11.0->typer<1.0.0,>=0.3.0->spacy)\n  Downloading mdurl-0.1.2-py3-none-any.whl.metadata (1.6 kB)\nDownloading pydantic-1.10.21-cp39-cp39-manylinux_2_17_x86_64.manylinux2014_x86_64.whl (3.3 MB)\n   ━━━━━━━━━━━━━━━━━━━━━━━━━━━━━━━━━━━━━━━━ 3.3/3.3 MB 82.6 MB/s eta 0:00:00\nDownloading spacy-3.8.3-cp39-cp39-manylinux_2_17_x86_64.manylinux2014_x86_64.whl (29.4 MB)\n   ━━━━━━━━━━━━━━━━━━━━━━━━━━━━━━━━━━━━━━━━ 29.4/29.4 MB 186.1 MB/s eta 0:00:00\nDownloading catalogue-2.0.10-py3-none-any.whl (17 kB)\nDownloading cymem-2.0.11-cp39-cp39-manylinux_2_17_x86_64.manylinux2014_x86_64.whl (208 kB)\nDownloading langcodes-3.5.0-py3-none-any.whl (182 kB)\nDownloading murmurhash-1.0.12-cp39-cp39-manylinux_2_5_x86_64.manylinux1_x86_64.manylinux_2_17_x86_64.manylinux2014_x86_64.whl (124 kB)\nDownloading preshed-3.0.9-cp39-cp39-manylinux_2_5_x86_64.manylinux1_x86_64.manylinux_2_17_x86_64.manylinux2014_x86_64.whl (157 kB)\nDownloading spacy_legacy-3.0.12-py2.py3-none-any.whl (29 kB)\nDownloading spacy_loggers-1.0.5-py3-none-any.whl (22 kB)\nDownloading srsly-2.5.1-cp39-cp39-manylinux_2_17_x86_64.manylinux2014_x86_64.whl (1.1 MB)\n   ━━━━━━━━━━━━━━━━━━━━━━━━━━━━━━━━━━━━━━━━ 1.1/1.1 MB 62.9 MB/s eta 0:00:00\nDownloading thinc-8.3.4-cp39-cp39-manylinux_2_17_x86_64.manylinux2014_x86_64.whl (3.7 MB)\n   ━━━━━━━━━━━━━━━━━━━━━━━━━━━━━━━━━━━━━━━━ 3.7/3.7 MB 147.2 MB/s eta 0:00:00\nDownloading tqdm-4.67.1-py3-none-any.whl (78 kB)\nDownloading typer-0.15.2-py3-none-any.whl (45 kB)\nDownloading typing_extensions-4.13.0-py3-none-any.whl (45 kB)\nDownloading wasabi-1.1.3-py3-none-any.whl (27 kB)\nDownloading weasel-0.4.1-py3-none-any.whl (50 kB)\nDownloading blis-1.2.0-cp39-cp39-manylinux_2_17_x86_64.manylinux2014_x86_64.whl (11.5 MB)\n   ━━━━━━━━━━━━━━━━━━━━━━━━━━━━━━━━━━━━━━━━ 11.5/11.5 MB 152.8 MB/s eta 0:00:00\nDownloading cloudpathlib-0.21.0-py3-none-any.whl (52 kB)\nDownloading confection-0.1.5-py3-none-any.whl (35 kB)\nDownloading language_data-1.3.0-py3-none-any.whl (5.4 MB)\n   ━━━━━━━━━━━━━━━━━━━━━━━━━━━━━━━━━━━━━━━━ 5.4/5.4 MB 125.3 MB/s eta 0:00:00\nDownloading rich-13.9.4-py3-none-any.whl (242 kB)\nDownloading shellingham-1.5.4-py2.py3-none-any.whl (9.8 kB)\nDownloading smart_open-7.1.0-py3-none-any.whl (61 kB)\nDownloading marisa_trie-1.2.1-cp39-cp39-manylinux_2_17_x86_64.manylinux2014_x86_64.whl (1.3 MB)\n   ━━━━━━━━━━━━━━━━━━━━━━━━━━━━━━━━━━━━━━━━ 1.3/1.3 MB 55.4 MB/s eta 0:00:00\nDownloading markdown_it_py-3.0.0-py3-none-any.whl (87 kB)\nDownloading pygments-2.19.1-py3-none-any.whl (1.2 MB)\n   ━━━━━━━━━━━━━━━━━━━━━━━━━━━━━━━━━━━━━━━━ 1.2/1.2 MB 63.9 MB/s eta 0:00:00\nDownloading wrapt-1.17.2-cp39-cp39-manylinux_2_5_x86_64.manylinux1_x86_64.manylinux_2_17_x86_64.manylinux2014_x86_64.whl (82 kB)\nDownloading mdurl-0.1.2-py3-none-any.whl (10.0 kB)\nInstalling collected packages: cymem, wrapt, wasabi, typing-extensions, tqdm, spacy-loggers, spacy-legacy, shellingham, pygments, murmurhash, mdurl, marisa-trie, catalogue, blis, srsly, smart-open, pydantic, preshed, markdown-it-py, language-data, cloudpathlib, rich, langcodes, confection, typer, thinc, weasel, spacy\n  Attempting uninstall: typing-extensions\n    Found existing installation: typing_extensions 4.1.1\n    Not uninstalling typing-extensions at /databricks/python3/lib/python3.9/site-packages, outside environment /local_disk0/.ephemeral_nfs/envs/pythonEnv-89af958c-09e1-4e68-8305-d26716ab2078\n    Can't uninstall 'typing_extensions'. No files were found to uninstall.\n  Attempting uninstall: pygments\n    Found existing installation: Pygments 2.11.2\n    Not uninstalling pygments at /databricks/python3/lib/python3.9/site-packages, outside environment /local_disk0/.ephemeral_nfs/envs/pythonEnv-89af958c-09e1-4e68-8305-d26716ab2078\n    Can't uninstall 'Pygments'. No files were found to uninstall.\nSuccessfully installed blis-1.2.0 catalogue-2.0.10 cloudpathlib-0.21.0 confection-0.1.5 cymem-2.0.11 langcodes-3.5.0 language-data-1.3.0 marisa-trie-1.2.1 markdown-it-py-3.0.0 mdurl-0.1.2 murmurhash-1.0.12 preshed-3.0.9 pydantic-1.10.21 pygments-2.19.1 rich-13.9.4 shellingham-1.5.4 smart-open-7.1.0 spacy-3.8.3 spacy-legacy-3.0.12 spacy-loggers-1.0.5 srsly-2.5.1 thinc-8.3.4 tqdm-4.67.1 typer-0.15.2 typing-extensions-4.13.0 wasabi-1.1.3 weasel-0.4.1 wrapt-1.17.2\nPython interpreter will be restarted.\nPython interpreter will be restarted.\nCollecting langdetect\n  Downloading langdetect-1.0.9.tar.gz (981 kB)\n     ━━━━━━━━━━━━━━━━━━━━━━━━━━━━━━━━━━━━━━ 981.5/981.5 kB 30.6 MB/s eta 0:00:00\n  Preparing metadata (setup.py): started\n  Preparing metadata (setup.py): finished with status 'done'\nRequirement already satisfied: six in /databricks/python3/lib/python3.9/site-packages (from langdetect) (1.16.0)\nBuilding wheels for collected packages: langdetect\n  Building wheel for langdetect (setup.py): started\n  Building wheel for langdetect (setup.py): finished with status 'done'\n  Created wheel for langdetect: filename=langdetect-1.0.9-py3-none-any.whl size=993242 sha256=7a5139f604e2e4388537cf2bf0a6755307a8db24c722321f668386c2e3633424\n  Stored in directory: /root/.cache/pip/wheels/d1/c1/d9/7e068de779d863bc8f8fc9467d85e25cfe47fa5051fff1a1bb\nSuccessfully built langdetect\nInstalling collected packages: langdetect\nSuccessfully installed langdetect-1.0.9\nPython interpreter will be restarted.\nPython interpreter will be restarted.\nCollecting vaderSentiment\n  Downloading vaderSentiment-3.3.2-py2.py3-none-any.whl.metadata (572 bytes)\nRequirement already satisfied: requests in /databricks/python3/lib/python3.9/site-packages (from vaderSentiment) (2.27.1)\nRequirement already satisfied: urllib3<1.27,>=1.21.1 in /databricks/python3/lib/python3.9/site-packages (from requests->vaderSentiment) (1.26.9)\nRequirement already satisfied: certifi>=2017.4.17 in /databricks/python3/lib/python3.9/site-packages (from requests->vaderSentiment) (2021.10.8)\nRequirement already satisfied: charset-normalizer~=2.0.0 in /databricks/python3/lib/python3.9/site-packages (from requests->vaderSentiment) (2.0.4)\nRequirement already satisfied: idna<4,>=2.5 in /databricks/python3/lib/python3.9/site-packages (from requests->vaderSentiment) (3.3)\nDownloading vaderSentiment-3.3.2-py2.py3-none-any.whl (125 kB)\nInstalling collected packages: vaderSentiment\nSuccessfully installed vaderSentiment-3.3.2\nPython interpreter will be restarted.\n"
     ]
    }
   ],
   "source": [
    "%pip install --upgrade pip\n",
    "%pip install \"pydantic<2\" spacy\n",
    "%pip install langdetect\n",
    "%pip install vaderSentiment"
   ]
  },
  {
   "cell_type": "code",
   "execution_count": 0,
   "metadata": {
    "application/vnd.databricks.v1+cell": {
     "cellMetadata": {
      "byteLimit": 2048000,
      "rowLimit": 10000
     },
     "inputWidgets": {},
     "nuid": "db8ea5d9-08b5-440b-aced-bcd8c94511f4",
     "showTitle": false,
     "tableResultSettingsMap": {},
     "title": ""
    }
   },
   "outputs": [
    {
     "output_type": "stream",
     "name": "stdout",
     "output_type": "stream",
     "text": [
      "Collecting en-core-web-sm==3.8.0\r\n  Downloading https://github.com/explosion/spacy-models/releases/download/en_core_web_sm-3.8.0/en_core_web_sm-3.8.0-py3-none-any.whl (12.8 MB)\r\n\u001B[?25l     \u001B[90m━━━━━━━━━━━━━━━━━━━━━━━━━━━━━━━━━━━━━━━━\u001B[0m \u001B[32m0.0/12.8 MB\u001B[0m \u001B[31m?\u001B[0m eta \u001B[36m-:--:--\u001B[0m\r\u001B[2K     \u001B[91m━━━━━━━━━━━━━━━━━━━━━━━━━━━━━━━━━━━━━━\u001B[0m\u001B[90m╺\u001B[0m \u001B[32m12.6/12.8 MB\u001B[0m \u001B[31m200.9 MB/s\u001B[0m eta \u001B[36m0:00:01\u001B[0m\r\u001B[2K     \u001B[91m━━━━━━━━━━━━━━━━━━━━━━━━━━━━━━━━━━━━━━\u001B[0m\u001B[90m╺\u001B[0m \u001B[32m12.6/12.8 MB\u001B[0m \u001B[31m200.9 MB/s\u001B[0m eta \u001B[36m0:00:01\u001B[0m\r\u001B[2K     \u001B[90m━━━━━━━━━━━━━━━━━━━━━━━━━━━━━━━━━━━━━━━━\u001B[0m \u001B[32m12.8/12.8 MB\u001B[0m \u001B[31m24.6 MB/s\u001B[0m eta \u001B[36m0:00:00\u001B[0m\r\n\u001B[?25hInstalling collected packages: en-core-web-sm\r\nSuccessfully installed en-core-web-sm-3.8.0\r\n\u001B[38;5;2m✔ Download and installation successful\u001B[0m\r\nYou can now load the package via spacy.load('en_core_web_sm')\r\n"
     ]
    }
   ],
   "source": [
    "!python -m spacy download en_core_web_sm"
   ]
  },
  {
   "cell_type": "code",
   "execution_count": 0,
   "metadata": {
    "application/vnd.databricks.v1+cell": {
     "cellMetadata": {
      "byteLimit": 2048000,
      "rowLimit": 10000
     },
     "inputWidgets": {},
     "nuid": "6ed95b7d-4d27-4bda-83bb-dac90ccc9072",
     "showTitle": false,
     "tableResultSettingsMap": {},
     "title": ""
    }
   },
   "outputs": [
    {
     "output_type": "display_data",
     "data": {
      "application/vnd.databricks.v1+bamboolib_hint": "{\"pd.DataFrames\": [], \"version\": \"0.0.1\"}",
      "text/plain": []
     },
     "metadata": {},
     "output_type": "display_data"
    }
   ],
   "source": [
    "import pandas as pd\n",
    "import matplotlib.pyplot as plt\n",
    "\n",
    "from pyspark.sql.functions import sum, max, min\n",
    "\n",
    "from langdetect import detect\n",
    "\n",
    "import re\n",
    "from pyspark.sql.functions import udf, explode, split, to_date, when, col, count, lag, datediff, length, avg\n",
    "from pyspark.sql.types import StringType, FloatType\n",
    "from pyspark.sql.window import Window\n",
    "\n",
    "import spacy\n",
    "\n",
    "from vaderSentiment.vaderSentiment import SentimentIntensityAnalyzer\n",
    "\n",
    "import time"
   ]
  },
  {
   "cell_type": "code",
   "execution_count": 0,
   "metadata": {
    "application/vnd.databricks.v1+cell": {
     "cellMetadata": {},
     "inputWidgets": {},
     "nuid": "102909f7-778a-4969-8695-4cf6e0f3b59d",
     "showTitle": false,
     "tableResultSettingsMap": {},
     "title": ""
    }
   },
   "outputs": [],
   "source": [
    "#!wget https://proai-datasets.s3.eu-west-3.amazonaws.com/bitcoin_tweets.csv\n",
    "\n",
    "#dataset = pd.read_csv('/databricks/driver/bitcoin_tweets.csv', delimiter=\",\")\n",
    "\n",
    "#spark_df = spark.createDataFrame(dataset)\n",
    "#spark_df.write.saveAsTable(\"bitcoin_tweets\")"
   ]
  },
  {
   "cell_type": "code",
   "execution_count": 0,
   "metadata": {
    "application/vnd.databricks.v1+cell": {
     "cellMetadata": {
      "byteLimit": 2048000,
      "rowLimit": 10000
     },
     "inputWidgets": {},
     "nuid": "7acba04d-28a8-43b3-a746-dd3072f56738",
     "showTitle": false,
     "tableResultSettingsMap": {},
     "title": ""
    }
   },
   "outputs": [],
   "source": [
    "spark_df = spark.read.format(\"delta\").load(\"dbfs:/user/hive/warehouse/bitcoin_tweets\")"
   ]
  },
  {
   "cell_type": "markdown",
   "metadata": {
    "application/vnd.databricks.v1+cell": {
     "cellMetadata": {},
     "inputWidgets": {},
     "nuid": "7370a94d-1bd8-4149-a03c-4dc8ca171665",
     "showTitle": false,
     "tableResultSettingsMap": {},
     "title": ""
    }
   },
   "source": [
    "# EDA"
   ]
  },
  {
   "cell_type": "markdown",
   "metadata": {
    "application/vnd.databricks.v1+cell": {
     "cellMetadata": {},
     "inputWidgets": {},
     "nuid": "7bfbc81a-a712-402e-b42e-43e6789ef7ca",
     "showTitle": false,
     "tableResultSettingsMap": {},
     "title": ""
    }
   },
   "source": [
    "## Taking a look"
   ]
  },
  {
   "cell_type": "code",
   "execution_count": 0,
   "metadata": {
    "application/vnd.databricks.v1+cell": {
     "cellMetadata": {
      "byteLimit": 2048000,
      "rowLimit": 10000
     },
     "inputWidgets": {},
     "nuid": "2a3726fc-1ac6-4c76-bd67-4e376008c0df",
     "showTitle": false,
     "tableResultSettingsMap": {},
     "title": ""
    }
   },
   "outputs": [
    {
     "output_type": "display_data",
     "data": {
      "text/html": [
       "<style scoped>\n",
       "  .table-result-container {\n",
       "    max-height: 300px;\n",
       "    overflow: auto;\n",
       "  }\n",
       "  table, th, td {\n",
       "    border: 1px solid black;\n",
       "    border-collapse: collapse;\n",
       "  }\n",
       "  th, td {\n",
       "    padding: 5px;\n",
       "  }\n",
       "  th {\n",
       "    text-align: left;\n",
       "  }\n",
       "</style><div class='table-result-container'><table class='table-result'><thead style='background-color: white'><tr><th>id</th><th>user</th><th>fullname</th><th>url</th><th>timestamp</th><th>replies</th><th>likes</th><th>retweets</th><th>text</th></tr></thead><tbody><tr><td>1.1329770553003008E18</td><td>KamdemAbdiel</td><td>Abdiel kamdem</td><td>null</td><td>2019-05-27 11:49:14+00</td><td>0.0</td><td>0.0</td><td>0.0</td><td>È appena uscito un nuovo video! LES CRYPTOMONNAIES QUI PULVÉRISENT BITCOIN EN 2019 https://t.co/yCsQMvRnyS</td></tr><tr><td>1.13297707340273664E18</td><td>bitcointe</td><td>Bitcointe</td><td>null</td><td>2019-05-27 11:49:18+00</td><td>0.0</td><td>0.0</td><td>0.0</td><td>Cardano: Digitize Currencies; EOS https://t.co/1kTKqKEBlS 6500% ROI; AT&amp;T Bitcoin Bill Pay https://t.co/eQCwOXKHK0   |  Cardano (ADA) 🌏📢😎🤑💵 | #FolloForFolloBack #follo4folloback #followforfollow #bitcointe #cryptocurrency</td></tr><tr><td>1.13297702389313958E18</td><td>3eyedbran</td><td>Bran - 3 Eyed Raven</td><td>null</td><td>2019-05-27 11:49:06+00</td><td>0.0</td><td>2.0</td><td>1.0</td><td>Another Test tweet that wasn't caught in the stream ! bitcoin</td></tr><tr><td>1.13297708908955635E18</td><td>DetroitCrypto</td><td>J. Scardina</td><td>null</td><td>2019-05-27 11:49:22+00</td><td>0.0</td><td>0.0</td><td>0.0</td><td>Current Crypto Prices! \n",
       "\n",
       "BTC: $8721.99 USD\n",
       "ETH: $266.62 USD\n",
       "LTC: $114.03 USD\n",
       "BCH: $432.02 USD\n",
       "XLM: $0.133 USD\n",
       "DOGE: $ 0.00314 USD\n",
       "NEO: $12.04 USD\n",
       "XRP: $0.4092 USD\n",
       "CANN: $0.001482 USD\n",
       "EMC2: $0.1198 USD\n",
       "XMR: $94.65 USD\n",
       "BTG: $24.31 USD</td></tr><tr><td>1.13297709234019123E18</td><td>mmursaleen72</td><td>Muhammad Mursaleen</td><td>null</td><td>2019-05-27 11:49:23+00</td><td>0.0</td><td>0.0</td><td>0.0</td><td>Spiv (Nosar Baz): BITCOIN Is An Asset &amp; NOT A Currency.\n",
       "\n",
       "https://t.co/FJru1ooxSM\n",
       "\n",
       "https://t.co/fYBX4H6r6r\n",
       "\n",
       "https://t.co/xZSjmZ0h3K\n",
       "\n",
       "https://t.co/v7GRFIQG7w\n",
       "\n",
       "https://t.co/Oq5hQt5hNn</td></tr></tbody></table></div>"
      ]
     },
     "metadata": {
      "application/vnd.databricks.v1+output": {
       "addedWidgets": {},
       "aggData": [],
       "aggError": "",
       "aggOverflow": false,
       "aggSchema": [],
       "aggSeriesLimitReached": false,
       "aggType": "",
       "arguments": {},
       "columnCustomDisplayInfos": {},
       "data": [
        [
         1.1329770553003008E18,
         "KamdemAbdiel",
         "Abdiel kamdem",
         null,
         "2019-05-27 11:49:14+00",
         0.0,
         0.0,
         0.0,
         "È appena uscito un nuovo video! LES CRYPTOMONNAIES QUI PULVÉRISENT BITCOIN EN 2019 https://t.co/yCsQMvRnyS"
        ],
        [
         1.13297707340273664E18,
         "bitcointe",
         "Bitcointe",
         null,
         "2019-05-27 11:49:18+00",
         0.0,
         0.0,
         0.0,
         "Cardano: Digitize Currencies; EOS https://t.co/1kTKqKEBlS 6500% ROI; AT&amp;T Bitcoin Bill Pay https://t.co/eQCwOXKHK0   |  Cardano (ADA) 🌏📢😎🤑💵 | #FolloForFolloBack #follo4folloback #followforfollow #bitcointe #cryptocurrency"
        ],
        [
         1.13297702389313958E18,
         "3eyedbran",
         "Bran - 3 Eyed Raven",
         null,
         "2019-05-27 11:49:06+00",
         0.0,
         2.0,
         1.0,
         "Another Test tweet that wasn't caught in the stream ! bitcoin"
        ],
        [
         1.13297708908955635E18,
         "DetroitCrypto",
         "J. Scardina",
         null,
         "2019-05-27 11:49:22+00",
         0.0,
         0.0,
         0.0,
         "Current Crypto Prices! \n\nBTC: $8721.99 USD\nETH: $266.62 USD\nLTC: $114.03 USD\nBCH: $432.02 USD\nXLM: $0.133 USD\nDOGE: $ 0.00314 USD\nNEO: $12.04 USD\nXRP: $0.4092 USD\nCANN: $0.001482 USD\nEMC2: $0.1198 USD\nXMR: $94.65 USD\nBTG: $24.31 USD"
        ],
        [
         1.13297709234019123E18,
         "mmursaleen72",
         "Muhammad Mursaleen",
         null,
         "2019-05-27 11:49:23+00",
         0.0,
         0.0,
         0.0,
         "Spiv (Nosar Baz): BITCOIN Is An Asset &amp; NOT A Currency.\n\nhttps://t.co/FJru1ooxSM\n\nhttps://t.co/fYBX4H6r6r\n\nhttps://t.co/xZSjmZ0h3K\n\nhttps://t.co/v7GRFIQG7w\n\nhttps://t.co/Oq5hQt5hNn"
        ]
       ],
       "datasetInfos": [],
       "dbfsResultPath": null,
       "isJsonSchema": true,
       "metadata": {},
       "overflow": false,
       "plotOptions": {
        "customPlotOptions": {},
        "displayType": "table",
        "pivotAggregation": null,
        "pivotColumns": null,
        "xColumns": null,
        "yColumns": null
       },
       "removedWidgets": [],
       "schema": [
        {
         "metadata": "{}",
         "name": "id",
         "type": "\"double\""
        },
        {
         "metadata": "{}",
         "name": "user",
         "type": "\"string\""
        },
        {
         "metadata": "{}",
         "name": "fullname",
         "type": "\"string\""
        },
        {
         "metadata": "{}",
         "name": "url",
         "type": "\"string\""
        },
        {
         "metadata": "{}",
         "name": "timestamp",
         "type": "\"string\""
        },
        {
         "metadata": "{}",
         "name": "replies",
         "type": "\"double\""
        },
        {
         "metadata": "{}",
         "name": "likes",
         "type": "\"double\""
        },
        {
         "metadata": "{}",
         "name": "retweets",
         "type": "\"double\""
        },
        {
         "metadata": "{}",
         "name": "text",
         "type": "\"string\""
        }
       ],
       "type": "table"
      }
     },
     "output_type": "display_data"
    }
   ],
   "source": [
    "display(spark_df.limit(5))"
   ]
  },
  {
   "cell_type": "markdown",
   "metadata": {
    "application/vnd.databricks.v1+cell": {
     "cellMetadata": {},
     "inputWidgets": {},
     "nuid": "2a8ae7e7-2da5-43e2-9977-f26f91f6f64c",
     "showTitle": false,
     "tableResultSettingsMap": {},
     "title": ""
    }
   },
   "source": [
    "## Shape"
   ]
  },
  {
   "cell_type": "code",
   "execution_count": 0,
   "metadata": {
    "application/vnd.databricks.v1+cell": {
     "cellMetadata": {
      "byteLimit": 2048000,
      "rowLimit": 10000
     },
     "inputWidgets": {},
     "nuid": "dfa12cca-0146-4729-bcfd-98efa6751d0e",
     "showTitle": false,
     "tableResultSettingsMap": {},
     "title": ""
    }
   },
   "outputs": [
    {
     "output_type": "stream",
     "name": "stdout",
     "output_type": "stream",
     "text": [
      "DataFrame has 100001 rows e 9 cols.\n"
     ]
    }
   ],
   "source": [
    "num_rows = spark_df.count()  # # of rows\n",
    "num_cols = len(spark_df.columns)  # # of cols\n",
    "\n",
    "print(f\"DataFrame has {num_rows} rows e {num_cols} cols.\")"
   ]
  },
  {
   "cell_type": "markdown",
   "metadata": {
    "application/vnd.databricks.v1+cell": {
     "cellMetadata": {},
     "inputWidgets": {},
     "nuid": "985646a6-8772-4a4b-8ae8-1cd7b2c6869e",
     "showTitle": false,
     "tableResultSettingsMap": {},
     "title": ""
    }
   },
   "source": [
    "## Duplicates?"
   ]
  },
  {
   "cell_type": "code",
   "execution_count": 0,
   "metadata": {
    "application/vnd.databricks.v1+cell": {
     "cellMetadata": {
      "byteLimit": 2048000,
      "rowLimit": 10000
     },
     "inputWidgets": {},
     "nuid": "a5ba578b-9be5-4fc9-b837-4c8a8761f69b",
     "showTitle": false,
     "tableResultSettingsMap": {},
     "title": ""
    }
   },
   "outputs": [
    {
     "output_type": "stream",
     "name": "stdout",
     "output_type": "stream",
     "text": [
      "+---+----+--------+---+---------+-------+-----+--------+----+-----+\n| id|user|fullname|url|timestamp|replies|likes|retweets|text|count|\n+---+----+--------+---+---------+-------+-----+--------+----+-----+\n+---+----+--------+---+---------+-------+-----+--------+----+-----+\n\n"
     ]
    }
   ],
   "source": [
    "# Group by all columns and count occurrences\n",
    "df_duplicates = (\n",
    "    spark_df.groupBy(*spark_df.columns)\n",
    "    .agg(count(\"*\").alias(\"count\"))  # Count occurrences of each unique row\n",
    "    .filter(col(\"count\") > 1)  # Keep only duplicate rows\n",
    ")\n",
    "\n",
    "# Show duplicate rows with their count\n",
    "df_duplicates.show()"
   ]
  },
  {
   "cell_type": "markdown",
   "metadata": {
    "application/vnd.databricks.v1+cell": {
     "cellMetadata": {},
     "inputWidgets": {},
     "nuid": "cd40c7d8-c796-407e-ad97-74a83f3d9b19",
     "showTitle": false,
     "tableResultSettingsMap": {},
     "title": ""
    }
   },
   "source": [
    "## Missing values"
   ]
  },
  {
   "cell_type": "code",
   "execution_count": 0,
   "metadata": {
    "application/vnd.databricks.v1+cell": {
     "cellMetadata": {
      "byteLimit": 2048000,
      "rowLimit": 10000
     },
     "inputWidgets": {},
     "nuid": "91d3a77a-3861-4833-93e4-38971f65ccc1",
     "showTitle": false,
     "tableResultSettingsMap": {},
     "title": ""
    }
   },
   "outputs": [
    {
     "output_type": "stream",
     "name": "stdout",
     "output_type": "stream",
     "text": [
      "+---+----+--------+-----+---------+-------+-----+--------+----+\n| id|user|fullname|  url|timestamp|replies|likes|retweets|text|\n+---+----+--------+-----+---------+-------+-----+--------+----+\n|  0|   0|       3|96679|        0|      0|    0|       0|   0|\n+---+----+--------+-----+---------+-------+-----+--------+----+\n\n"
     ]
    }
   ],
   "source": [
    "# Compute missing values count for each column\n",
    "missing_values = spark_df.select(\n",
    "    [(sum(col(c).isNull().cast(\"int\")).alias(c)) for c in spark_df.columns]\n",
    ")\n",
    "\n",
    "# Show the number of missing values per column\n",
    "missing_values.show()"
   ]
  },
  {
   "cell_type": "markdown",
   "metadata": {
    "application/vnd.databricks.v1+cell": {
     "cellMetadata": {},
     "inputWidgets": {},
     "nuid": "a9b2fa83-a5e1-41e5-bc5b-e44be7ac7a25",
     "showTitle": false,
     "tableResultSettingsMap": {},
     "title": ""
    }
   },
   "source": [
    "## Incosistent data?"
   ]
  },
  {
   "cell_type": "code",
   "execution_count": 0,
   "metadata": {
    "application/vnd.databricks.v1+cell": {
     "cellMetadata": {
      "byteLimit": 2048000,
      "rowLimit": 10000
     },
     "inputWidgets": {},
     "nuid": "cf7ddbdf-ec5b-49e5-8425-64c7f273936d",
     "showTitle": false,
     "tableResultSettingsMap": {},
     "title": ""
    }
   },
   "outputs": [
    {
     "output_type": "stream",
     "name": "stdout",
     "output_type": "stream",
     "text": [
      "+-------+-----------------+------------------+\n|summary|            likes|           replies|\n+-------+-----------------+------------------+\n|  count|           100001|            100001|\n|   mean|7.209347906520935|0.8356216437835622|\n| stddev|95.27780194261304|14.136569579845233|\n|    min|              0.0|               0.0|\n|    max|          14470.0|            2104.0|\n+-------+-----------------+------------------+\n\n"
     ]
    }
   ],
   "source": [
    "# are # of likes and replies reasonable for a human being and not a bot?\n",
    "spark_df.describe([\"likes\", \"replies\"]).show()"
   ]
  },
  {
   "cell_type": "code",
   "execution_count": 0,
   "metadata": {
    "application/vnd.databricks.v1+cell": {
     "cellMetadata": {
      "byteLimit": 2048000,
      "rowLimit": 10000
     },
     "inputWidgets": {},
     "nuid": "e18ea86b-88f6-475c-953b-6243e87e034c",
     "showTitle": false,
     "tableResultSettingsMap": {},
     "title": ""
    }
   },
   "outputs": [
    {
     "output_type": "stream",
     "name": "stdout",
     "output_type": "stream",
     "text": [
      "+--------------------+--------------------+---------------+\n|          start_date|            end_date|days_difference|\n+--------------------+--------------------+---------------+\n|2009-01-11 03:33:...|2019-05-27 12:21:...|           3788|\n+--------------------+--------------------+---------------+\n\n"
     ]
    }
   ],
   "source": [
    "# in how many days 14470 as max?\n",
    "\n",
    "# Get the first and last date\n",
    "date_range = spark_df.select(min(\"timestamp\").alias(\"start_date\"), max(\"timestamp\").alias(\"end_date\"))\n",
    "\n",
    "# Compute the difference in days\n",
    "date_diff = date_range.withColumn(\"days_difference\", datediff(col(\"end_date\"), col(\"start_date\")))\n",
    "\n",
    "# Show the result\n",
    "date_diff.show()"
   ]
  },
  {
   "cell_type": "code",
   "execution_count": 0,
   "metadata": {
    "application/vnd.databricks.v1+cell": {
     "cellMetadata": {
      "byteLimit": 2048000,
      "rowLimit": 10000
     },
     "inputWidgets": {},
     "nuid": "e5c3241b-8d57-4a73-ad7e-e41931faea16",
     "showTitle": false,
     "tableResultSettingsMap": {},
     "title": ""
    }
   },
   "outputs": [
    {
     "output_type": "stream",
     "name": "stdout",
     "output_type": "stream",
     "text": [
      "+--------------------+---------------+--------------------+----+--------------------+-------+-----+--------+--------+\n|                  id|           user|            fullname| url|           timestamp|replies|likes|retweets|    text|\n+--------------------+---------------+--------------------+----+--------------------+-------+-----+--------+--------+\n|1.132977185910870...|    sigizmundo8|           sigizmund|null|2019-05-27 11:49:...|    0.0|  0.0|     0.0|  🤣🤣🤣|\n|1.126826102956204...|  thabubbajames|        Crypto Bubba|null|2019-05-10 10:27:...|    0.0|  0.0|     0.0|    😂😂|\n|1.127004033162588...|    hao32927291|                 hao|null|2019-05-10 22:14:...|    0.0|  0.0|     0.0|    nice|\n|1.126890051386912...|         TI__Ed|                TIED|null|2019-05-10 14:41:...|    0.0|  0.0|     0.0|     BTC|\n|1.127004265858224E18|         birmas|              birmas|null|2019-05-10 22:15:...|    0.0|  0.0|     0.0|      👍|\n|1.127045801769930...|       mironyan|          Yavruyan E|null|2019-05-11 01:00:...|    0.0|  0.0|     0.0|     !!!|\n|1.127164184440057...|         RT0ph3|              t0ph3R|null|2019-05-11 08:50:...|    0.0|  0.0|     0.0|    🙏🏻|\n|1.127181490096365...|       ifebigh_|               OKIJA|null|2019-05-11 09:59:...|    0.0|  0.0|     0.0|   No 🧢|\n|1.132978450615230...|  hamada5719812|          حماده محمد|null|2019-05-27 11:54:...|    0.0|  0.0|     0.0|    good|\n|1.126824489046687...|    yelitzardgz|       Yeli 🤷🏼‍♀️✨|null|2019-05-10 10:21:...|    0.0|  0.0|     0.0|    $BTC|\n|1.127045860234338...|       mironyan|          Yavruyan E|null|2019-05-11 01:00:...|    0.0|  0.0|     0.0|     !!!|\n|1.127189722206437...|       OpenUp40|                KAYE|null|2019-05-11 10:32:...|    0.0|  0.0|     0.0|    😍😍|\n|1.127257461755224...|     TriAmbari_|           TriAmbari|null|2019-05-11 15:01:...|    0.0|  0.0|     0.0|     Kuy|\n|1.132980481014657...|       8787sora|               華Chu|null|2019-05-27 12:02:...|    0.0|  0.0|     0.0|  お願い|\n|1.132980494633561...|      cryptoJUN|                 JUN|null|2019-05-27 12:02:...|    0.0|  0.0|     0.0|   BTC〜|\n|1.132981011422306...|        mef_btc|             bitcoin|null|2019-05-27 12:04:...|    0.0|  0.0|     0.0|    #btc|\n|1.132981043508776...|         viwnie|Viwnie|Followback...|null|2019-05-27 12:05:...|    0.0|  0.0|     0.0|    #QKC|\n|1.126828547635654...|rafiktahiri1983|        Rafik tahiri|null|2019-05-10 10:37:...|    0.0|  0.0|     0.0|    Good|\n|1.126824438496997...|    ovstrelec72|         ovstrelec72|null|2019-05-10 10:20:...|    0.0|  0.0|     0.0|    👍🔥|\n|1.126818906742480...|hqnveAaPVhIw5Go|              こしよ|null|2019-05-10 09:58:...|    0.0|  0.0|     0.0|😍😍😍😍|\n+--------------------+---------------+--------------------+----+--------------------+-------+-----+--------+--------+\nonly showing top 20 rows\n\n"
     ]
    }
   ],
   "source": [
    "# are there any very short tweet?\n",
    "spark_df.filter(length(col(\"text\")) < 5).show()"
   ]
  },
  {
   "cell_type": "markdown",
   "metadata": {
    "application/vnd.databricks.v1+cell": {
     "cellMetadata": {},
     "inputWidgets": {},
     "nuid": "cffb7f7a-274d-47cf-9733-a71aa63f7f13",
     "showTitle": false,
     "tableResultSettingsMap": {},
     "title": ""
    }
   },
   "source": [
    "# Preprocessing"
   ]
  },
  {
   "cell_type": "markdown",
   "metadata": {
    "application/vnd.databricks.v1+cell": {
     "cellMetadata": {},
     "inputWidgets": {},
     "nuid": "8031b9a1-d862-4a53-b91b-74f27432866e",
     "showTitle": false,
     "tableResultSettingsMap": {},
     "title": ""
    }
   },
   "source": [
    "## Remove unnecessary cols"
   ]
  },
  {
   "cell_type": "code",
   "execution_count": 0,
   "metadata": {
    "application/vnd.databricks.v1+cell": {
     "cellMetadata": {
      "byteLimit": 2048000,
      "rowLimit": 10000
     },
     "inputWidgets": {},
     "nuid": "c3d5f5d7-987b-4ad9-97a3-28ba3b27236c",
     "showTitle": false,
     "tableResultSettingsMap": {},
     "title": ""
    }
   },
   "outputs": [],
   "source": [
    "columns_to_keep = [\"timestamp\", \"replies\", \"likes\", \"text\"]\n",
    "spark_df = spark_df.select(columns_to_keep)"
   ]
  },
  {
   "cell_type": "code",
   "execution_count": 0,
   "metadata": {
    "application/vnd.databricks.v1+cell": {
     "cellMetadata": {
      "byteLimit": 2048000,
      "rowLimit": 10000
     },
     "inputWidgets": {},
     "nuid": "b51f6ebb-7f17-4f3c-9fb1-fefd47b96f6b",
     "showTitle": false,
     "tableResultSettingsMap": {},
     "title": ""
    }
   },
   "outputs": [
    {
     "output_type": "display_data",
     "data": {
      "text/html": [
       "<style scoped>\n",
       "  .table-result-container {\n",
       "    max-height: 300px;\n",
       "    overflow: auto;\n",
       "  }\n",
       "  table, th, td {\n",
       "    border: 1px solid black;\n",
       "    border-collapse: collapse;\n",
       "  }\n",
       "  th, td {\n",
       "    padding: 5px;\n",
       "  }\n",
       "  th {\n",
       "    text-align: left;\n",
       "  }\n",
       "</style><div class='table-result-container'><table class='table-result'><thead style='background-color: white'><tr><th>text</th><th>clean_text</th></tr></thead><tbody><tr><td>È appena uscito un nuovo video! LES CRYPTOMONNAIES QUI PULVÉRISENT BITCOIN EN 2019 https://t.co/yCsQMvRnyS</td><td>appena uscito un nuovo video LES CRYPTOMONNAIES QUI PULVRISENT BITCOIN EN 2019</td></tr><tr><td>Cardano: Digitize Currencies; EOS https://t.co/1kTKqKEBlS 6500% ROI; AT&amp;T Bitcoin Bill Pay https://t.co/eQCwOXKHK0   |  Cardano (ADA) 🌏📢😎🤑💵 | #FolloForFolloBack #follo4folloback #followforfollow #bitcointe #cryptocurrency</td><td>Cardano Digitize Currencies EOS 6500 ROI ATampT Bitcoin Bill Pay Cardano ADA FolloForFolloBack follo4folloback followforfollow bitcointe cryptocurrency</td></tr><tr><td>Another Test tweet that wasn't caught in the stream ! bitcoin</td><td>Another Test tweet that wasnt caught in the stream bitcoin</td></tr><tr><td>Current Crypto Prices! \n",
       "\n",
       "BTC: $8721.99 USD\n",
       "ETH: $266.62 USD\n",
       "LTC: $114.03 USD\n",
       "BCH: $432.02 USD\n",
       "XLM: $0.133 USD\n",
       "DOGE: $ 0.00314 USD\n",
       "NEO: $12.04 USD\n",
       "XRP: $0.4092 USD\n",
       "CANN: $0.001482 USD\n",
       "EMC2: $0.1198 USD\n",
       "XMR: $94.65 USD\n",
       "BTG: $24.31 USD</td><td>Current Crypto Prices BTC 872199 USD ETH 26662 USD LTC 11403 USD BCH 43202 USD XLM 0133 USD DOGE 000314 USD NEO 1204 USD XRP 04092 USD CANN 0001482 USD EMC2 01198 USD XMR 9465 USD BTG 2431 USD</td></tr><tr><td>Spiv (Nosar Baz): BITCOIN Is An Asset &amp; NOT A Currency.\n",
       "\n",
       "https://t.co/FJru1ooxSM\n",
       "\n",
       "https://t.co/fYBX4H6r6r\n",
       "\n",
       "https://t.co/xZSjmZ0h3K\n",
       "\n",
       "https://t.co/v7GRFIQG7w\n",
       "\n",
       "https://t.co/Oq5hQt5hNn</td><td>Spiv Nosar Baz BITCOIN Is An Asset amp NOT A Currency</td></tr><tr><td>#btc inceldiği yerden kopsun bakalım 17:00 ye kadar bir hareket bekliyorum, yukarı yönlü olur umarın sanırım inşallah yani 😁 https://t.co/pIMyKfNtc8</td><td>btc inceldii yerden kopsun bakalm 1700 ye kadar bir hareket bekliyorum yukar ynl olur umarn sanrm inallah yani</td></tr><tr><td>@nwoodfine We have been building on the real #bitcoin SV.\n",
       "\n",
       "What have you been building on broken BTC?</td><td>We have been building on the real bitcoin SV What have you been building on broken BTC</td></tr><tr><td>@pedronauck como investidor, vc é um ótimo dev. Sorte q eu comprei os BTC, subiu a poha toda :o</td><td>como investidor vc um timo dev Sorte q eu comprei os BTC subiu a poha toda o</td></tr><tr><td>CHANGE IS COMING...GET READY!!! Boom, Another [CB] Jab, Nothing Can Stop This! Globalism at its end stage, [CB] push to make a one world govt. coming to an end. \n",
       "\n",
       "The People Are Taking the Lead, &amp; Leaders Will Have to Follow the Majority!!!\n",
       "\n",
       "WWG1WGQ!!!\n",
       "\n",
       "https://t.co/tAjFwxnWD4</td><td>CHANGE IS COMINGGET READY Boom Another CB Jab Nothing Can Stop This Globalism at its end stage CB push to make a one world govt coming to an end The People Are Taking the Lead amp Leaders Will Have to Follow the Majority WWG1WGQ</td></tr><tr><td>One of the useful articles of Stefan; here is the guide, you can run a @LTOnetwork  node on Alibaba Cloud.\n",
       "\n",
       "https://t.co/iJ9rlkaabt\n",
       "\n",
       "#ltonetwork $lto\n",
       "#Eth #xrpcommmunity #crypto #xlm\n",
       "#xrp #blockchain #xrpcommmunity #eos #xmr #trx #ltc #enjin  #ethereum #bitcoin</td><td>One of the useful articles of Stefan here is the guide you can run a node on Alibaba Cloud ltonetwork lto Eth xrpcommmunity crypto xlm xrp blockchain xrpcommmunity eos xmr trx ltc enjin ethereum bitcoin</td></tr></tbody></table></div>"
      ]
     },
     "metadata": {
      "application/vnd.databricks.v1+output": {
       "addedWidgets": {},
       "aggData": [],
       "aggError": "",
       "aggOverflow": false,
       "aggSchema": [],
       "aggSeriesLimitReached": false,
       "aggType": "",
       "arguments": {},
       "columnCustomDisplayInfos": {},
       "data": [
        [
         "È appena uscito un nuovo video! LES CRYPTOMONNAIES QUI PULVÉRISENT BITCOIN EN 2019 https://t.co/yCsQMvRnyS",
         "appena uscito un nuovo video LES CRYPTOMONNAIES QUI PULVRISENT BITCOIN EN 2019"
        ],
        [
         "Cardano: Digitize Currencies; EOS https://t.co/1kTKqKEBlS 6500% ROI; AT&amp;T Bitcoin Bill Pay https://t.co/eQCwOXKHK0   |  Cardano (ADA) 🌏📢😎🤑💵 | #FolloForFolloBack #follo4folloback #followforfollow #bitcointe #cryptocurrency",
         "Cardano Digitize Currencies EOS 6500 ROI ATampT Bitcoin Bill Pay Cardano ADA FolloForFolloBack follo4folloback followforfollow bitcointe cryptocurrency"
        ],
        [
         "Another Test tweet that wasn't caught in the stream ! bitcoin",
         "Another Test tweet that wasnt caught in the stream bitcoin"
        ],
        [
         "Current Crypto Prices! \n\nBTC: $8721.99 USD\nETH: $266.62 USD\nLTC: $114.03 USD\nBCH: $432.02 USD\nXLM: $0.133 USD\nDOGE: $ 0.00314 USD\nNEO: $12.04 USD\nXRP: $0.4092 USD\nCANN: $0.001482 USD\nEMC2: $0.1198 USD\nXMR: $94.65 USD\nBTG: $24.31 USD",
         "Current Crypto Prices BTC 872199 USD ETH 26662 USD LTC 11403 USD BCH 43202 USD XLM 0133 USD DOGE 000314 USD NEO 1204 USD XRP 04092 USD CANN 0001482 USD EMC2 01198 USD XMR 9465 USD BTG 2431 USD"
        ],
        [
         "Spiv (Nosar Baz): BITCOIN Is An Asset &amp; NOT A Currency.\n\nhttps://t.co/FJru1ooxSM\n\nhttps://t.co/fYBX4H6r6r\n\nhttps://t.co/xZSjmZ0h3K\n\nhttps://t.co/v7GRFIQG7w\n\nhttps://t.co/Oq5hQt5hNn",
         "Spiv Nosar Baz BITCOIN Is An Asset amp NOT A Currency"
        ],
        [
         "#btc inceldiği yerden kopsun bakalım 17:00 ye kadar bir hareket bekliyorum, yukarı yönlü olur umarın sanırım inşallah yani 😁 https://t.co/pIMyKfNtc8",
         "btc inceldii yerden kopsun bakalm 1700 ye kadar bir hareket bekliyorum yukar ynl olur umarn sanrm inallah yani"
        ],
        [
         "@nwoodfine We have been building on the real #bitcoin SV.\n\nWhat have you been building on broken BTC?",
         "We have been building on the real bitcoin SV What have you been building on broken BTC"
        ],
        [
         "@pedronauck como investidor, vc é um ótimo dev. Sorte q eu comprei os BTC, subiu a poha toda :o",
         "como investidor vc um timo dev Sorte q eu comprei os BTC subiu a poha toda o"
        ],
        [
         "CHANGE IS COMING...GET READY!!! Boom, Another [CB] Jab, Nothing Can Stop This! Globalism at its end stage, [CB] push to make a one world govt. coming to an end. \n\nThe People Are Taking the Lead, &amp; Leaders Will Have to Follow the Majority!!!\n\nWWG1WGQ!!!\n\nhttps://t.co/tAjFwxnWD4",
         "CHANGE IS COMINGGET READY Boom Another CB Jab Nothing Can Stop This Globalism at its end stage CB push to make a one world govt coming to an end The People Are Taking the Lead amp Leaders Will Have to Follow the Majority WWG1WGQ"
        ],
        [
         "One of the useful articles of Stefan; here is the guide, you can run a @LTOnetwork  node on Alibaba Cloud.\n\nhttps://t.co/iJ9rlkaabt\n\n#ltonetwork $lto\n#Eth #xrpcommmunity #crypto #xlm\n#xrp #blockchain #xrpcommmunity #eos #xmr #trx #ltc #enjin  #ethereum #bitcoin",
         "One of the useful articles of Stefan here is the guide you can run a node on Alibaba Cloud ltonetwork lto Eth xrpcommmunity crypto xlm xrp blockchain xrpcommmunity eos xmr trx ltc enjin ethereum bitcoin"
        ]
       ],
       "datasetInfos": [],
       "dbfsResultPath": null,
       "isJsonSchema": true,
       "metadata": {},
       "overflow": false,
       "plotOptions": {
        "customPlotOptions": {},
        "displayType": "table",
        "pivotAggregation": null,
        "pivotColumns": null,
        "xColumns": null,
        "yColumns": null
       },
       "removedWidgets": [],
       "schema": [
        {
         "metadata": "{}",
         "name": "text",
         "type": "\"string\""
        },
        {
         "metadata": "{}",
         "name": "clean_text",
         "type": "\"string\""
        }
       ],
       "type": "table"
      }
     },
     "output_type": "display_data"
    }
   ],
   "source": [
    "# cleaning function\n",
    "def clean_text(text: str) -> str:\n",
    "    if not text:\n",
    "        return \"\"\n",
    "    # Remove URL (ex. http://, https://, www.)\n",
    "    text = re.sub(r\"http\\S+|www\\S+\", \"\", text)\n",
    "    # Remove mention\n",
    "    text = re.sub(r\"@\\S+\", \"\", text)\n",
    "    # Remove '#' keeping the word (ex. \"#happy\" become \"happy\")\n",
    "    text = re.sub(r\"#\", \"\", text)\n",
    "    # Remove special characters\n",
    "    text = re.sub(r\"[^A-Za-z0-9\\s]+\", \"\", text)\n",
    "    # Removing spaces\n",
    "    text = re.sub(r\"\\s+\", \" \", text).strip()\n",
    "    return text\n",
    "\n",
    "# Register function as udf\n",
    "clean_text_udf = udf(clean_text, StringType())\n",
    "\n",
    "# apply cleaning, the result will be in a new col named clean_text\n",
    "spark_df = spark_df.withColumn(\"clean_text\", clean_text_udf(col(\"text\")))\n",
    "\n",
    "# filter too short tweet\n",
    "spark_df = spark_df.filter(length(col(\"clean_text\")) >= 5)\n",
    "\n",
    "# Show examples\n",
    "display(spark_df.select(\"text\", \"clean_text\").limit(10))"
   ]
  },
  {
   "cell_type": "markdown",
   "metadata": {
    "application/vnd.databricks.v1+cell": {
     "cellMetadata": {},
     "inputWidgets": {},
     "nuid": "62119a0b-4847-4021-bf35-223bf2aa4b7a",
     "showTitle": false,
     "tableResultSettingsMap": {},
     "title": ""
    }
   },
   "source": [
    "## Filter english tweets"
   ]
  },
  {
   "cell_type": "code",
   "execution_count": 0,
   "metadata": {
    "application/vnd.databricks.v1+cell": {
     "cellMetadata": {
      "byteLimit": 2048000,
      "rowLimit": 10000
     },
     "inputWidgets": {},
     "nuid": "f0c45156-623c-40cc-93bc-1287ce00808e",
     "showTitle": false,
     "tableResultSettingsMap": {},
     "title": ""
    }
   },
   "outputs": [
    {
     "output_type": "display_data",
     "data": {
      "text/html": [
       "<style scoped>\n",
       "  .table-result-container {\n",
       "    max-height: 300px;\n",
       "    overflow: auto;\n",
       "  }\n",
       "  table, th, td {\n",
       "    border: 1px solid black;\n",
       "    border-collapse: collapse;\n",
       "  }\n",
       "  th, td {\n",
       "    padding: 5px;\n",
       "  }\n",
       "  th {\n",
       "    text-align: left;\n",
       "  }\n",
       "</style><div class='table-result-container'><table class='table-result'><thead style='background-color: white'><tr><th>timestamp</th><th>replies</th><th>likes</th><th>text</th><th>clean_text</th></tr></thead><tbody><tr><td>2019-05-27 11:49:18+00</td><td>0.0</td><td>0.0</td><td>Cardano: Digitize Currencies; EOS https://t.co/1kTKqKEBlS 6500% ROI; AT&amp;T Bitcoin Bill Pay https://t.co/eQCwOXKHK0   |  Cardano (ADA) 🌏📢😎🤑💵 | #FolloForFolloBack #follo4folloback #followforfollow #bitcointe #cryptocurrency</td><td>Cardano Digitize Currencies EOS 6500 ROI ATampT Bitcoin Bill Pay Cardano ADA FolloForFolloBack follo4folloback followforfollow bitcointe cryptocurrency</td></tr><tr><td>2019-05-27 11:49:06+00</td><td>0.0</td><td>2.0</td><td>Another Test tweet that wasn't caught in the stream ! bitcoin</td><td>Another Test tweet that wasnt caught in the stream bitcoin</td></tr><tr><td>2019-05-27 11:49:22+00</td><td>0.0</td><td>0.0</td><td>Current Crypto Prices! \n",
       "\n",
       "BTC: $8721.99 USD\n",
       "ETH: $266.62 USD\n",
       "LTC: $114.03 USD\n",
       "BCH: $432.02 USD\n",
       "XLM: $0.133 USD\n",
       "DOGE: $ 0.00314 USD\n",
       "NEO: $12.04 USD\n",
       "XRP: $0.4092 USD\n",
       "CANN: $0.001482 USD\n",
       "EMC2: $0.1198 USD\n",
       "XMR: $94.65 USD\n",
       "BTG: $24.31 USD</td><td>Current Crypto Prices BTC 872199 USD ETH 26662 USD LTC 11403 USD BCH 43202 USD XLM 0133 USD DOGE 000314 USD NEO 1204 USD XRP 04092 USD CANN 0001482 USD EMC2 01198 USD XMR 9465 USD BTG 2431 USD</td></tr><tr><td>2019-05-27 11:49:23+00</td><td>0.0</td><td>0.0</td><td>Spiv (Nosar Baz): BITCOIN Is An Asset &amp; NOT A Currency.\n",
       "\n",
       "https://t.co/FJru1ooxSM\n",
       "\n",
       "https://t.co/fYBX4H6r6r\n",
       "\n",
       "https://t.co/xZSjmZ0h3K\n",
       "\n",
       "https://t.co/v7GRFIQG7w\n",
       "\n",
       "https://t.co/Oq5hQt5hNn</td><td>Spiv Nosar Baz BITCOIN Is An Asset amp NOT A Currency</td></tr><tr><td>2019-05-27 11:49:25+00</td><td>0.0</td><td>0.0</td><td>@nwoodfine We have been building on the real #bitcoin SV.\n",
       "\n",
       "What have you been building on broken BTC?</td><td>We have been building on the real bitcoin SV What have you been building on broken BTC</td></tr><tr><td>2019-05-27 11:49:32+00</td><td>0.0</td><td>0.0</td><td>CHANGE IS COMING...GET READY!!! Boom, Another [CB] Jab, Nothing Can Stop This! Globalism at its end stage, [CB] push to make a one world govt. coming to an end. \n",
       "\n",
       "The People Are Taking the Lead, &amp; Leaders Will Have to Follow the Majority!!!\n",
       "\n",
       "WWG1WGQ!!!\n",
       "\n",
       "https://t.co/tAjFwxnWD4</td><td>CHANGE IS COMINGGET READY Boom Another CB Jab Nothing Can Stop This Globalism at its end stage CB push to make a one world govt coming to an end The People Are Taking the Lead amp Leaders Will Have to Follow the Majority WWG1WGQ</td></tr><tr><td>2019-05-27 11:49:19+00</td><td>0.0</td><td>14.0</td><td>One of the useful articles of Stefan; here is the guide, you can run a @LTOnetwork  node on Alibaba Cloud.\n",
       "\n",
       "https://t.co/iJ9rlkaabt\n",
       "\n",
       "#ltonetwork $lto\n",
       "#Eth #xrpcommmunity #crypto #xlm\n",
       "#xrp #blockchain #xrpcommmunity #eos #xmr #trx #ltc #enjin  #ethereum #bitcoin</td><td>One of the useful articles of Stefan here is the guide you can run a node on Alibaba Cloud ltonetwork lto Eth xrpcommmunity crypto xlm xrp blockchain xrpcommmunity eos xmr trx ltc enjin ethereum bitcoin</td></tr><tr><td>2019-05-21 16:49:45+00</td><td>47.0</td><td>81.0</td><td>BTC IS STILL GOING STRONG!!\n",
       "\n",
       "Thus, we are giving away 0.04 BTC and 10 BNB to 2 lucky winners!\n",
       "\n",
       "GIVEAWAY doubles at 250 RT! \n",
       "\n",
       "To enter:\n",
       "Follow us \n",
       "Subscribe https://t.co/XDmlTtX3ie  \n",
       "RT\n",
       "\n",
       "#airdrop #bitcoin #ico #cryptocurrency \n",
       "#xrp #ETH #TRX #Binance\n",
       "#ethereum #btc #crypto #bounty https://t.co/pbCOQu3Uzo</td><td>BTC IS STILL GOING STRONG Thus we are giving away 004 BTC and 10 BNB to 2 lucky winners GIVEAWAY doubles at 250 RT To enter Follow us Subscribe RT airdrop bitcoin ico cryptocurrency xrp ETH TRX Binance ethereum btc crypto bounty</td></tr><tr><td>2019-05-22 12:42:16+00</td><td>3.0</td><td>2.0</td><td>BestMixer has been seized by the Dutch Police / Luxembourg Police and French Police w/ association from Europol. BestMixer was a Bitcoin Mixer/Tumbler. #Cryptocurrency #Bitcoin #BestMixer https://t.co/dXrEY9yAtt</td><td>BestMixer has been seized by the Dutch Police Luxembourg Police and French Police w association from Europol BestMixer was a Bitcoin MixerTumbler Cryptocurrency Bitcoin BestMixer</td></tr><tr><td>2019-05-27 11:49:30+00</td><td>1.0</td><td>1.0</td><td>Invested my Life Savings into Bitcoin and Ethereum | Vlog #09 https://t.co/CEL0BXw3fs https://t.co/AET16t8a56</td><td>Invested my Life Savings into Bitcoin and Ethereum Vlog 09</td></tr></tbody></table></div>"
      ]
     },
     "metadata": {
      "application/vnd.databricks.v1+output": {
       "addedWidgets": {},
       "aggData": [],
       "aggError": "",
       "aggOverflow": false,
       "aggSchema": [],
       "aggSeriesLimitReached": false,
       "aggType": "",
       "arguments": {},
       "columnCustomDisplayInfos": {},
       "data": [
        [
         "2019-05-27 11:49:18+00",
         0.0,
         0.0,
         "Cardano: Digitize Currencies; EOS https://t.co/1kTKqKEBlS 6500% ROI; AT&amp;T Bitcoin Bill Pay https://t.co/eQCwOXKHK0   |  Cardano (ADA) 🌏📢😎🤑💵 | #FolloForFolloBack #follo4folloback #followforfollow #bitcointe #cryptocurrency",
         "Cardano Digitize Currencies EOS 6500 ROI ATampT Bitcoin Bill Pay Cardano ADA FolloForFolloBack follo4folloback followforfollow bitcointe cryptocurrency"
        ],
        [
         "2019-05-27 11:49:06+00",
         0.0,
         2.0,
         "Another Test tweet that wasn't caught in the stream ! bitcoin",
         "Another Test tweet that wasnt caught in the stream bitcoin"
        ],
        [
         "2019-05-27 11:49:22+00",
         0.0,
         0.0,
         "Current Crypto Prices! \n\nBTC: $8721.99 USD\nETH: $266.62 USD\nLTC: $114.03 USD\nBCH: $432.02 USD\nXLM: $0.133 USD\nDOGE: $ 0.00314 USD\nNEO: $12.04 USD\nXRP: $0.4092 USD\nCANN: $0.001482 USD\nEMC2: $0.1198 USD\nXMR: $94.65 USD\nBTG: $24.31 USD",
         "Current Crypto Prices BTC 872199 USD ETH 26662 USD LTC 11403 USD BCH 43202 USD XLM 0133 USD DOGE 000314 USD NEO 1204 USD XRP 04092 USD CANN 0001482 USD EMC2 01198 USD XMR 9465 USD BTG 2431 USD"
        ],
        [
         "2019-05-27 11:49:23+00",
         0.0,
         0.0,
         "Spiv (Nosar Baz): BITCOIN Is An Asset &amp; NOT A Currency.\n\nhttps://t.co/FJru1ooxSM\n\nhttps://t.co/fYBX4H6r6r\n\nhttps://t.co/xZSjmZ0h3K\n\nhttps://t.co/v7GRFIQG7w\n\nhttps://t.co/Oq5hQt5hNn",
         "Spiv Nosar Baz BITCOIN Is An Asset amp NOT A Currency"
        ],
        [
         "2019-05-27 11:49:25+00",
         0.0,
         0.0,
         "@nwoodfine We have been building on the real #bitcoin SV.\n\nWhat have you been building on broken BTC?",
         "We have been building on the real bitcoin SV What have you been building on broken BTC"
        ],
        [
         "2019-05-27 11:49:32+00",
         0.0,
         0.0,
         "CHANGE IS COMING...GET READY!!! Boom, Another [CB] Jab, Nothing Can Stop This! Globalism at its end stage, [CB] push to make a one world govt. coming to an end. \n\nThe People Are Taking the Lead, &amp; Leaders Will Have to Follow the Majority!!!\n\nWWG1WGQ!!!\n\nhttps://t.co/tAjFwxnWD4",
         "CHANGE IS COMINGGET READY Boom Another CB Jab Nothing Can Stop This Globalism at its end stage CB push to make a one world govt coming to an end The People Are Taking the Lead amp Leaders Will Have to Follow the Majority WWG1WGQ"
        ],
        [
         "2019-05-27 11:49:19+00",
         0.0,
         14.0,
         "One of the useful articles of Stefan; here is the guide, you can run a @LTOnetwork  node on Alibaba Cloud.\n\nhttps://t.co/iJ9rlkaabt\n\n#ltonetwork $lto\n#Eth #xrpcommmunity #crypto #xlm\n#xrp #blockchain #xrpcommmunity #eos #xmr #trx #ltc #enjin  #ethereum #bitcoin",
         "One of the useful articles of Stefan here is the guide you can run a node on Alibaba Cloud ltonetwork lto Eth xrpcommmunity crypto xlm xrp blockchain xrpcommmunity eos xmr trx ltc enjin ethereum bitcoin"
        ],
        [
         "2019-05-21 16:49:45+00",
         47.0,
         81.0,
         "BTC IS STILL GOING STRONG!!\n\nThus, we are giving away 0.04 BTC and 10 BNB to 2 lucky winners!\n\nGIVEAWAY doubles at 250 RT! \n\nTo enter:\nFollow us \nSubscribe https://t.co/XDmlTtX3ie  \nRT\n\n#airdrop #bitcoin #ico #cryptocurrency \n#xrp #ETH #TRX #Binance\n#ethereum #btc #crypto #bounty https://t.co/pbCOQu3Uzo",
         "BTC IS STILL GOING STRONG Thus we are giving away 004 BTC and 10 BNB to 2 lucky winners GIVEAWAY doubles at 250 RT To enter Follow us Subscribe RT airdrop bitcoin ico cryptocurrency xrp ETH TRX Binance ethereum btc crypto bounty"
        ],
        [
         "2019-05-22 12:42:16+00",
         3.0,
         2.0,
         "BestMixer has been seized by the Dutch Police / Luxembourg Police and French Police w/ association from Europol. BestMixer was a Bitcoin Mixer/Tumbler. #Cryptocurrency #Bitcoin #BestMixer https://t.co/dXrEY9yAtt",
         "BestMixer has been seized by the Dutch Police Luxembourg Police and French Police w association from Europol BestMixer was a Bitcoin MixerTumbler Cryptocurrency Bitcoin BestMixer"
        ],
        [
         "2019-05-27 11:49:30+00",
         1.0,
         1.0,
         "Invested my Life Savings into Bitcoin and Ethereum | Vlog #09 https://t.co/CEL0BXw3fs https://t.co/AET16t8a56",
         "Invested my Life Savings into Bitcoin and Ethereum Vlog 09"
        ]
       ],
       "datasetInfos": [],
       "dbfsResultPath": null,
       "isJsonSchema": true,
       "metadata": {},
       "overflow": false,
       "plotOptions": {
        "customPlotOptions": {},
        "displayType": "table",
        "pivotAggregation": null,
        "pivotColumns": null,
        "xColumns": null,
        "yColumns": null
       },
       "removedWidgets": [],
       "schema": [
        {
         "metadata": "{}",
         "name": "timestamp",
         "type": "\"string\""
        },
        {
         "metadata": "{}",
         "name": "replies",
         "type": "\"double\""
        },
        {
         "metadata": "{}",
         "name": "likes",
         "type": "\"double\""
        },
        {
         "metadata": "{}",
         "name": "text",
         "type": "\"string\""
        },
        {
         "metadata": "{}",
         "name": "clean_text",
         "type": "\"string\""
        }
       ],
       "type": "table"
      }
     },
     "output_type": "display_data"
    }
   ],
   "source": [
    "# function\n",
    "def detect_language(text):\n",
    "    try:\n",
    "        return detect(text)\n",
    "    except:\n",
    "        return \"unknown\"\n",
    "\n",
    "# Register as udf\n",
    "lang_udf = udf(detect_language, StringType())\n",
    "\n",
    "# apply language detection on \"clean_text\"\n",
    "spark_df = spark_df.withColumn(\"language\", lang_udf(col(\"clean_text\")))\n",
    "\n",
    "# filter en tweets\n",
    "spark_df = spark_df.filter(col(\"language\") == \"en\")\n",
    "\n",
    "# remove language col\n",
    "spark_df = spark_df.drop(\"language\")\n",
    "\n",
    "# check\n",
    "display(spark_df.limit(10))"
   ]
  },
  {
   "cell_type": "code",
   "execution_count": 0,
   "metadata": {
    "application/vnd.databricks.v1+cell": {
     "cellMetadata": {
      "byteLimit": 2048000,
      "rowLimit": 10000
     },
     "inputWidgets": {},
     "nuid": "f1ff1982-2b79-4655-a0fe-cbcf41f3758f",
     "showTitle": false,
     "tableResultSettingsMap": {},
     "title": ""
    }
   },
   "outputs": [
    {
     "output_type": "stream",
     "name": "stdout",
     "output_type": "stream",
     "text": [
      "DataFrame has 75125 rows e 4 cols.\n"
     ]
    }
   ],
   "source": [
    "num_rows = spark_df.count()  # # of rows\n",
    "num_cols = len(spark_df.columns)  # # of cols\n",
    "\n",
    "print(f\"DataFrame has {num_rows} rows e {num_cols} cols.\")"
   ]
  },
  {
   "cell_type": "markdown",
   "metadata": {
    "application/vnd.databricks.v1+cell": {
     "cellMetadata": {},
     "inputWidgets": {},
     "nuid": "ebc2a89d-175c-41d8-af8b-809b974c2f47",
     "showTitle": false,
     "tableResultSettingsMap": {},
     "title": ""
    }
   },
   "source": [
    "# Tweets Sentiment Analysis"
   ]
  },
  {
   "cell_type": "markdown",
   "metadata": {
    "application/vnd.databricks.v1+cell": {
     "cellMetadata": {},
     "inputWidgets": {},
     "nuid": "e25597bf-3e79-41db-ab40-a5603306c73b",
     "showTitle": false,
     "tableResultSettingsMap": {},
     "title": ""
    }
   },
   "source": [
    "## Tokenize & Lemmatize"
   ]
  },
  {
   "cell_type": "markdown",
   "metadata": {
    "application/vnd.databricks.v1+cell": {
     "cellMetadata": {},
     "inputWidgets": {},
     "nuid": "64c03d57-6836-4b0e-af1e-9ee106338efa",
     "showTitle": false,
     "tableResultSettingsMap": {},
     "title": ""
    }
   },
   "source": [
    "### Versione vecchia"
   ]
  },
  {
   "cell_type": "code",
   "execution_count": 0,
   "metadata": {
    "application/vnd.databricks.v1+cell": {
     "cellMetadata": {
      "byteLimit": 2048000,
      "rowLimit": 10000
     },
     "inputWidgets": {},
     "nuid": "116e8477-b2c1-4c01-8945-422c5c312112",
     "showTitle": false,
     "tableResultSettingsMap": {},
     "title": ""
    }
   },
   "outputs": [
    {
     "output_type": "stream",
     "name": "stdout",
     "output_type": "stream",
     "text": [
      "+-----------------------------------------------------------------------------------------------------------------------------------------------------------------------------------------------------------------------------------------------------------------------------------------------------------------------------+-----------------------------------------------------------------------------------------------------------------------------------------------------------------------------------------------------------------------------------------------------------------------------------------------------------------------------------------------------+\n|text                                                                                                                                                                                                                                                                                                                         |lemmatized_text                                                                                                                                                                                                                                                                                                                                      |\n+-----------------------------------------------------------------------------------------------------------------------------------------------------------------------------------------------------------------------------------------------------------------------------------------------------------------------------+-----------------------------------------------------------------------------------------------------------------------------------------------------------------------------------------------------------------------------------------------------------------------------------------------------------------------------------------------------+\n|Cardano: Digitize Currencies; EOS https://t.co/1kTKqKEBlS 6500% ROI; AT&amp;T Bitcoin Bill Pay https://t.co/eQCwOXKHK0   |  Cardano (ADA) 🌏📢😎🤑💵 | #FolloForFolloBack #follo4folloback #followforfollow #bitcointe #cryptocurrency                                                                                       |Cardano : Digitize Currencies ; EOS https://t.co/1kTKqKEBlS 6500 % ROI ; AT&amp;T Bitcoin Bill Pay https://t.co/eQCwOXKHK0    |   Cardano ( ADA ) 🌏 📢 😎 🤑 💵 | # FolloForFolloBack # follo4folloback # followforfollow # bitcointe # cryptocurrency                                                                                              |\n|Another Test tweet that wasn't caught in the stream ! bitcoin                                                                                                                                                                                                                                                                |another Test tweet that be n't catch in the stream ! bitcoin                                                                                                                                                                                                                                                                                         |\n|Current Crypto Prices! \\n\\nBTC: $8721.99 USD\\nETH: $266.62 USD\\nLTC: $114.03 USD\\nBCH: $432.02 USD\\nXLM: $0.133 USD\\nDOGE: $ 0.00314 USD\\nNEO: $12.04 USD\\nXRP: $0.4092 USD\\nCANN: $0.001482 USD\\nEMC2: $0.1198 USD\\nXMR: $94.65 USD\\nBTG: $24.31 USD                                                                        |current Crypto price ! \\n\\n BTC : $ 8721.99 USD \\n eth : $ 266.62 USD \\n ltc : $ 114.03 USD \\n BCH : $ 432.02 usd \\n XLM : $ 0.133 USD \\n DOGE : $ 0.00314 usd \\n neo : $ 12.04 USD \\n XRP : $ 0.4092 USD \\n CANN : $ 0.001482 USD \\n EMC2 : $ 0.1198 USD \\n XMR : $ 94.65 usd \\n btg : $ 24.31 usd                                                  |\n|Spiv (Nosar Baz): BITCOIN Is An Asset &amp; NOT A Currency.\\n\\nhttps://t.co/FJru1ooxSM\\n\\nhttps://t.co/fYBX4H6r6r\\n\\nhttps://t.co/xZSjmZ0h3K\\n\\nhttps://t.co/v7GRFIQG7w\\n\\nhttps://t.co/Oq5hQt5hNn                                                                                                                           |Spiv ( Nosar Baz ): BITCOIN be An Asset & amp ; not a currency . \\n\\n https://t.co/FJru1ooxSM \\n\\n https://t.co/fYBX4H6r6r \\n\\n https://t.co/xZSjmZ0h3 K \\n\\n https://t.co/v7GRFIQG7w \\n\\n https://t.co/Oq5hQt5hNn                                                                                                                                   |\n|@nwoodfine We have been building on the real #bitcoin SV.\\n\\nWhat have you been building on broken BTC?                                                                                                                                                                                                                      |@nwoodfine we have be build on the real # bitcoin sv . \\n\\n what have you be build on broken BTC ?                                                                                                                                                                                                                                                   |\n|CHANGE IS COMING...GET READY!!! Boom, Another [CB] Jab, Nothing Can Stop This! Globalism at its end stage, [CB] push to make a one world govt. coming to an end. \\n\\nThe People Are Taking the Lead, &amp; Leaders Will Have to Follow the Majority!!!\\n\\nWWG1WGQ!!!\\n\\nhttps://t.co/tAjFwxnWD4                              |change be come ... get ready ! ! ! boom , another [ cb ] Jab , nothing can stop this ! globalism at its end stage , [ cb ] push to make a one world govt . come to an end . \\n\\n the People be take the Lead , & amp ; leader will have to follow the Majority ! ! ! \\n\\n WWG1WGQ ! ! ! \\n\\n https://t.co/tAjFwxnWD4                                 |\n|One of the useful articles of Stefan; here is the guide, you can run a @LTOnetwork  node on Alibaba Cloud.\\n\\nhttps://t.co/iJ9rlkaabt\\n\\n#ltonetwork $lto\\n#Eth #xrpcommmunity #crypto #xlm\\n#xrp #blockchain #xrpcommmunity #eos #xmr #trx #ltc #enjin  #ethereum #bitcoin                                                  |one of the useful article of Stefan ; here be the guide , you can run a @LTOnetwork   node on Alibaba Cloud . \\n\\n https://t.co/iJ9rlkaabt \\n\\n # ltonetwork $ lto \\n # eth # xrpcommmunity # crypto # xlm \\n # xrp # blockchain # xrpcommmunity # eos # xmr # trx # ltc # enjin   # ethereum # bitcoin                                              |\n|BTC IS STILL GOING STRONG!!\\n\\nThus, we are giving away 0.04 BTC and 10 BNB to 2 lucky winners!\\n\\nGIVEAWAY doubles at 250 RT! \\n\\nTo enter:\\nFollow us \\nSubscribe https://t.co/XDmlTtX3ie  \\nRT\\n\\n#airdrop #bitcoin #ico #cryptocurrency \\n#xrp #ETH #TRX #Binance\\n#ethereum #btc #crypto #bounty https://t.co/pbCOQu3Uzo|BTC be still go STRONG ! ! \\n\\n thus , we be give away 0.04 BTC and 10 BNB to 2 lucky winner ! \\n\\n giveaway double at 250 RT ! \\n\\n to enter : \\n follow we \\n subscribe https://t.co/XDmlTtX3ie  \\n RT \\n\\n # airdrop # bitcoin # ico # cryptocurrency \\n # xrp # ETH # TRX # Binance \\n # ethereum # btc # crypto # bounty https://t.co/pbCOQu3Uzo|\n|BestMixer has been seized by the Dutch Police / Luxembourg Police and French Police w/ association from Europol. BestMixer was a Bitcoin Mixer/Tumbler. #Cryptocurrency #Bitcoin #BestMixer https://t.co/dXrEY9yAtt                                                                                                          |BestMixer have be seize by the Dutch Police / Luxembourg Police and French Police w/ association from Europol . BestMixer be a Bitcoin Mixer / Tumbler . # Cryptocurrency # Bitcoin # BestMixer https://t.co/dXrEY9yAtt                                                                                                                              |\n|Invested my Life Savings into Bitcoin and Ethereum | Vlog #09 https://t.co/CEL0BXw3fs https://t.co/AET16t8a56                                                                                                                                                                                                                |invest my life Savings into Bitcoin and Ethereum | Vlog   # 09 https://t.co/CEL0BXw3fs https://t.co/AET16t8a56                                                                                                                                                                                                                                       |\n+-----------------------------------------------------------------------------------------------------------------------------------------------------------------------------------------------------------------------------------------------------------------------------------------------------------------------------+-----------------------------------------------------------------------------------------------------------------------------------------------------------------------------------------------------------------------------------------------------------------------------------------------------------------------------------------------------+\nonly showing top 10 rows\n\n"
     ]
    }
   ],
   "source": [
    "nlp = spacy.load(\"en_core_web_sm\")\n",
    "\n",
    "# Define function to tokenize and lemmatize a single text\n",
    "def tokenize_and_lemmatize(text: str) -> str:\n",
    "    if not text:\n",
    "        return \"\"\n",
    "    doc = nlp(text)\n",
    "    lemmatized_words = [\n",
    "        token.lemma_ if token.is_alpha else token.text\n",
    "        for token in doc\n",
    "    ]\n",
    "    return \" \".join(lemmatized_words)\n",
    "\n",
    "# Convert Spark to Pandas for chunk processing\n",
    "pdf = spark_df.select(\"text\", \"timestamp\", \"likes\", \"replies\").toPandas()\n",
    "\n",
    "# Process in chunks\n",
    "chunk_size = 200\n",
    "results = []\n",
    "\n",
    "for i in range(0, len(pdf), chunk_size):\n",
    "    chunk = pdf.iloc[i:i+chunk_size].copy()\n",
    "    chunk[\"lemmatized_text\"] = chunk[\"text\"].apply(tokenize_and_lemmatize)\n",
    "    results.append(chunk)\n",
    "\n",
    "# Concatenate all processed chunks\n",
    "lemmatized_df = pd.concat(results, ignore_index=True)\n",
    "\n",
    "# Convert back to Spark DataFrame\n",
    "lemmatized_spark_df = spark.createDataFrame(lemmatized_df)\n",
    "\n",
    "# Save and reload to avoid recomputing this step\n",
    "lemmatized_spark_df.write.mode(\"overwrite\").parquet(\"/tmp/lemmatized_tweets\")\n",
    "lemmatized_spark_df = spark.read.parquet(\"/tmp/lemmatized_tweets\")"
   ]
  },
  {
   "cell_type": "markdown",
   "metadata": {
    "application/vnd.databricks.v1+cell": {
     "cellMetadata": {},
     "inputWidgets": {},
     "nuid": "4ac9a19e-7620-4d5b-9b67-f14e8436a68e",
     "showTitle": false,
     "tableResultSettingsMap": {},
     "title": ""
    }
   },
   "source": [
    "### Versione nuova"
   ]
  },
  {
   "cell_type": "code",
   "execution_count": 0,
   "metadata": {
    "application/vnd.databricks.v1+cell": {
     "cellMetadata": {
      "byteLimit": 2048000,
      "rowLimit": 10000
     },
     "inputWidgets": {},
     "nuid": "767bbb7b-bd3d-4fa1-966d-99b35d8e4133",
     "showTitle": false,
     "tableResultSettingsMap": {},
     "title": ""
    }
   },
   "outputs": [
    {
     "output_type": "display_data",
     "data": {
      "text/html": [
       "<style scoped>\n",
       "  .table-result-container {\n",
       "    max-height: 300px;\n",
       "    overflow: auto;\n",
       "  }\n",
       "  table, th, td {\n",
       "    border: 1px solid black;\n",
       "    border-collapse: collapse;\n",
       "  }\n",
       "  th, td {\n",
       "    padding: 5px;\n",
       "  }\n",
       "  th {\n",
       "    text-align: left;\n",
       "  }\n",
       "</style><div class='table-result-container'><table class='table-result'><thead style='background-color: white'><tr><th>clean_text</th><th>timestamp</th><th>likes</th><th>replies</th><th>lemmatized_text</th></tr></thead><tbody><tr><td>Cardano Digitize Currencies EOS 6500 ROI ATampT Bitcoin Bill Pay Cardano ADA FolloForFolloBack follo4folloback followforfollow bitcointe cryptocurrency</td><td>2019-05-27 11:49:18+00</td><td>0.0</td><td>0.0</td><td>Cardano Digitize Currencies EOS 6500 ROI atampt Bitcoin Bill Pay Cardano ADA FolloForFolloBack follo4folloback followforfollow bitcointe cryptocurrency</td></tr><tr><td>Another Test tweet that wasnt caught in the stream bitcoin</td><td>2019-05-27 11:49:06+00</td><td>2.0</td><td>0.0</td><td>another Test tweet that be not catch in the stream bitcoin</td></tr><tr><td>Current Crypto Prices BTC 872199 USD ETH 26662 USD LTC 11403 USD BCH 43202 USD XLM 0133 USD DOGE 000314 USD NEO 1204 USD XRP 04092 USD CANN 0001482 USD EMC2 01198 USD XMR 9465 USD BTG 2431 USD</td><td>2019-05-27 11:49:22+00</td><td>0.0</td><td>0.0</td><td>current Crypto price BTC 872199 usd ETH 26662 USD LTC 11403 USD BCH 43202 USD XLM 0133 USD doge 000314 usd NEO 1204 USD XRP 04092 USD CANN 0001482 USD EMC2 01198 USD XMR 9465 USD BTG 2431 usd</td></tr><tr><td>Spiv Nosar Baz BITCOIN Is An Asset amp NOT A Currency</td><td>2019-05-27 11:49:23+00</td><td>0.0</td><td>0.0</td><td>Spiv Nosar Baz BITCOIN be an Asset amp not a currency</td></tr><tr><td>We have been building on the real bitcoin SV What have you been building on broken BTC</td><td>2019-05-27 11:49:25+00</td><td>0.0</td><td>0.0</td><td>we have be build on the real bitcoin sv what have you be build on broken BTC</td></tr><tr><td>CHANGE IS COMINGGET READY Boom Another CB Jab Nothing Can Stop This Globalism at its end stage CB push to make a one world govt coming to an end The People Are Taking the Lead amp Leaders Will Have to Follow the Majority WWG1WGQ</td><td>2019-05-27 11:49:32+00</td><td>0.0</td><td>0.0</td><td>change be COMINGGET READY Boom another cb Jab nothing can stop this Globalism at its end stage cb push to make a one world govt come to an end the People be take the Lead amp leader will have to follow the Majority WWG1WGQ</td></tr><tr><td>One of the useful articles of Stefan here is the guide you can run a node on Alibaba Cloud ltonetwork lto Eth xrpcommmunity crypto xlm xrp blockchain xrpcommmunity eos xmr trx ltc enjin ethereum bitcoin</td><td>2019-05-27 11:49:19+00</td><td>14.0</td><td>0.0</td><td>one of the useful article of Stefan here be the guide you can run a node on Alibaba Cloud ltonetwork lto Eth xrpcommmunity crypto xlm xrp blockchain xrpcommmunity eos xmr trx ltc enjin ethereum bitcoin</td></tr><tr><td>BTC IS STILL GOING STRONG Thus we are giving away 004 BTC and 10 BNB to 2 lucky winners GIVEAWAY doubles at 250 RT To enter Follow us Subscribe RT airdrop bitcoin ico cryptocurrency xrp ETH TRX Binance ethereum btc crypto bounty</td><td>2019-05-21 16:49:45+00</td><td>81.0</td><td>47.0</td><td>BTC be still go STRONG thus we be give away 004 BTC and 10 BNB to 2 lucky winner giveaway double at 250 RT to enter Follow we Subscribe RT airdrop bitcoin ico cryptocurrency xrp ETH TRX Binance ethereum btc crypto bounty</td></tr><tr><td>BestMixer has been seized by the Dutch Police Luxembourg Police and French Police w association from Europol BestMixer was a Bitcoin MixerTumbler Cryptocurrency Bitcoin BestMixer</td><td>2019-05-22 12:42:16+00</td><td>2.0</td><td>3.0</td><td>BestMixer have be seize by the Dutch Police Luxembourg Police and French Police w association from Europol BestMixer be a Bitcoin MixerTumbler Cryptocurrency Bitcoin BestMixer</td></tr><tr><td>Invested my Life Savings into Bitcoin and Ethereum Vlog 09</td><td>2019-05-27 11:49:30+00</td><td>1.0</td><td>1.0</td><td>invest my life Savings into Bitcoin and Ethereum Vlog 09</td></tr></tbody></table></div>"
      ]
     },
     "metadata": {
      "application/vnd.databricks.v1+output": {
       "addedWidgets": {},
       "aggData": [],
       "aggError": "",
       "aggOverflow": false,
       "aggSchema": [],
       "aggSeriesLimitReached": false,
       "aggType": "",
       "arguments": {},
       "columnCustomDisplayInfos": {},
       "data": [
        [
         "Cardano Digitize Currencies EOS 6500 ROI ATampT Bitcoin Bill Pay Cardano ADA FolloForFolloBack follo4folloback followforfollow bitcointe cryptocurrency",
         "2019-05-27 11:49:18+00",
         0.0,
         0.0,
         "Cardano Digitize Currencies EOS 6500 ROI atampt Bitcoin Bill Pay Cardano ADA FolloForFolloBack follo4folloback followforfollow bitcointe cryptocurrency"
        ],
        [
         "Another Test tweet that wasnt caught in the stream bitcoin",
         "2019-05-27 11:49:06+00",
         2.0,
         0.0,
         "another Test tweet that be not catch in the stream bitcoin"
        ],
        [
         "Current Crypto Prices BTC 872199 USD ETH 26662 USD LTC 11403 USD BCH 43202 USD XLM 0133 USD DOGE 000314 USD NEO 1204 USD XRP 04092 USD CANN 0001482 USD EMC2 01198 USD XMR 9465 USD BTG 2431 USD",
         "2019-05-27 11:49:22+00",
         0.0,
         0.0,
         "current Crypto price BTC 872199 usd ETH 26662 USD LTC 11403 USD BCH 43202 USD XLM 0133 USD doge 000314 usd NEO 1204 USD XRP 04092 USD CANN 0001482 USD EMC2 01198 USD XMR 9465 USD BTG 2431 usd"
        ],
        [
         "Spiv Nosar Baz BITCOIN Is An Asset amp NOT A Currency",
         "2019-05-27 11:49:23+00",
         0.0,
         0.0,
         "Spiv Nosar Baz BITCOIN be an Asset amp not a currency"
        ],
        [
         "We have been building on the real bitcoin SV What have you been building on broken BTC",
         "2019-05-27 11:49:25+00",
         0.0,
         0.0,
         "we have be build on the real bitcoin sv what have you be build on broken BTC"
        ],
        [
         "CHANGE IS COMINGGET READY Boom Another CB Jab Nothing Can Stop This Globalism at its end stage CB push to make a one world govt coming to an end The People Are Taking the Lead amp Leaders Will Have to Follow the Majority WWG1WGQ",
         "2019-05-27 11:49:32+00",
         0.0,
         0.0,
         "change be COMINGGET READY Boom another cb Jab nothing can stop this Globalism at its end stage cb push to make a one world govt come to an end the People be take the Lead amp leader will have to follow the Majority WWG1WGQ"
        ],
        [
         "One of the useful articles of Stefan here is the guide you can run a node on Alibaba Cloud ltonetwork lto Eth xrpcommmunity crypto xlm xrp blockchain xrpcommmunity eos xmr trx ltc enjin ethereum bitcoin",
         "2019-05-27 11:49:19+00",
         14.0,
         0.0,
         "one of the useful article of Stefan here be the guide you can run a node on Alibaba Cloud ltonetwork lto Eth xrpcommmunity crypto xlm xrp blockchain xrpcommmunity eos xmr trx ltc enjin ethereum bitcoin"
        ],
        [
         "BTC IS STILL GOING STRONG Thus we are giving away 004 BTC and 10 BNB to 2 lucky winners GIVEAWAY doubles at 250 RT To enter Follow us Subscribe RT airdrop bitcoin ico cryptocurrency xrp ETH TRX Binance ethereum btc crypto bounty",
         "2019-05-21 16:49:45+00",
         81.0,
         47.0,
         "BTC be still go STRONG thus we be give away 004 BTC and 10 BNB to 2 lucky winner giveaway double at 250 RT to enter Follow we Subscribe RT airdrop bitcoin ico cryptocurrency xrp ETH TRX Binance ethereum btc crypto bounty"
        ],
        [
         "BestMixer has been seized by the Dutch Police Luxembourg Police and French Police w association from Europol BestMixer was a Bitcoin MixerTumbler Cryptocurrency Bitcoin BestMixer",
         "2019-05-22 12:42:16+00",
         2.0,
         3.0,
         "BestMixer have be seize by the Dutch Police Luxembourg Police and French Police w association from Europol BestMixer be a Bitcoin MixerTumbler Cryptocurrency Bitcoin BestMixer"
        ],
        [
         "Invested my Life Savings into Bitcoin and Ethereum Vlog 09",
         "2019-05-27 11:49:30+00",
         1.0,
         1.0,
         "invest my life Savings into Bitcoin and Ethereum Vlog 09"
        ]
       ],
       "datasetInfos": [],
       "dbfsResultPath": null,
       "isJsonSchema": true,
       "metadata": {},
       "overflow": false,
       "plotOptions": {
        "customPlotOptions": {},
        "displayType": "table",
        "pivotAggregation": null,
        "pivotColumns": null,
        "xColumns": null,
        "yColumns": null
       },
       "removedWidgets": [],
       "schema": [
        {
         "metadata": "{}",
         "name": "clean_text",
         "type": "\"string\""
        },
        {
         "metadata": "{}",
         "name": "timestamp",
         "type": "\"string\""
        },
        {
         "metadata": "{}",
         "name": "likes",
         "type": "\"double\""
        },
        {
         "metadata": "{}",
         "name": "replies",
         "type": "\"double\""
        },
        {
         "metadata": "{}",
         "name": "lemmatized_text",
         "type": "\"string\""
        }
       ],
       "type": "table"
      }
     },
     "output_type": "display_data"
    }
   ],
   "source": [
    "# load spacy model\n",
    "nlp = spacy.load(\"en_core_web_sm\")\n",
    "\n",
    "# function to tokenize e lemmatize\n",
    "def tokenize_and_lemmatize(text: str) -> str:\n",
    "    if not text:\n",
    "        return \"\"\n",
    "    doc = nlp(text)\n",
    "    # Keep lemma for alfa words, otherwise original token\n",
    "    lemmatized_words = [token.lemma_ if token.is_alpha else token.text for token in doc]\n",
    "    return \" \".join(lemmatized_words)\n",
    "\n",
    "# convert df from spark to pandas to use chunks\n",
    "pdf = spark_df.select(\"clean_text\", \"timestamp\", \"likes\", \"replies\").toPandas()\n",
    "\n",
    "# Process data in chunks\n",
    "chunk_size = 200\n",
    "results = []\n",
    "\n",
    "for i in range(0, len(pdf), chunk_size):\n",
    "    chunk = pdf.iloc[i:i+chunk_size].copy()\n",
    "    # Apply token and lemmat\n",
    "    chunk[\"lemmatized_text\"] = chunk[\"clean_text\"].apply(tokenize_and_lemmatize)\n",
    "    results.append(chunk)\n",
    "\n",
    "# concatenate all chunks\n",
    "lemmatized_df = pd.concat(results, ignore_index=True)\n",
    "\n",
    "# reconvert to df spark\n",
    "lemmatized_spark_df = spark.createDataFrame(lemmatized_df)\n",
    "\n",
    "# save and load\n",
    "lemmatized_spark_df.write.mode(\"overwrite\").parquet(\"/tmp/lemmatized_tweets\")\n",
    "lemmatized_spark_df = spark.read.parquet(\"/tmp/lemmatized_tweets\")\n",
    "\n",
    "# check\n",
    "display(lemmatized_spark_df.limit(10))"
   ]
  },
  {
   "cell_type": "code",
   "execution_count": 0,
   "metadata": {
    "application/vnd.databricks.v1+cell": {
     "cellMetadata": {
      "byteLimit": 2048000,
      "rowLimit": 10000
     },
     "inputWidgets": {},
     "nuid": "d4526811-0c4d-4482-816a-187172dd12aa",
     "showTitle": false,
     "tableResultSettingsMap": {},
     "title": ""
    }
   },
   "outputs": [
    {
     "output_type": "display_data",
     "data": {
      "text/html": [
       "<style scoped>\n",
       "  .table-result-container {\n",
       "    max-height: 300px;\n",
       "    overflow: auto;\n",
       "  }\n",
       "  table, th, td {\n",
       "    border: 1px solid black;\n",
       "    border-collapse: collapse;\n",
       "  }\n",
       "  th, td {\n",
       "    padding: 5px;\n",
       "  }\n",
       "  th {\n",
       "    text-align: left;\n",
       "  }\n",
       "</style><div class='table-result-container'><table class='table-result'><thead style='background-color: white'><tr><th>clean_text</th><th>timestamp</th><th>likes</th><th>replies</th><th>lemmatized_text</th></tr></thead><tbody><tr><td>Cardano Digitize Currencies EOS 6500 ROI ATampT Bitcoin Bill Pay Cardano ADA FolloForFolloBack follo4folloback followforfollow bitcointe cryptocurrency</td><td>2019-05-27 11:49:18+00</td><td>0.0</td><td>0.0</td><td>Cardano Digitize Currencies EOS 6500 ROI atampt Bitcoin Bill Pay Cardano ADA FolloForFolloBack follo4folloback followforfollow bitcointe cryptocurrency</td></tr><tr><td>Another Test tweet that wasnt caught in the stream bitcoin</td><td>2019-05-27 11:49:06+00</td><td>2.0</td><td>0.0</td><td>another Test tweet that be not catch in the stream bitcoin</td></tr><tr><td>Current Crypto Prices BTC 872199 USD ETH 26662 USD LTC 11403 USD BCH 43202 USD XLM 0133 USD DOGE 000314 USD NEO 1204 USD XRP 04092 USD CANN 0001482 USD EMC2 01198 USD XMR 9465 USD BTG 2431 USD</td><td>2019-05-27 11:49:22+00</td><td>0.0</td><td>0.0</td><td>current Crypto price BTC 872199 usd ETH 26662 USD LTC 11403 USD BCH 43202 USD XLM 0133 USD doge 000314 usd NEO 1204 USD XRP 04092 USD CANN 0001482 USD EMC2 01198 USD XMR 9465 USD BTG 2431 usd</td></tr><tr><td>Spiv Nosar Baz BITCOIN Is An Asset amp NOT A Currency</td><td>2019-05-27 11:49:23+00</td><td>0.0</td><td>0.0</td><td>Spiv Nosar Baz BITCOIN be an Asset amp not a currency</td></tr><tr><td>We have been building on the real bitcoin SV What have you been building on broken BTC</td><td>2019-05-27 11:49:25+00</td><td>0.0</td><td>0.0</td><td>we have be build on the real bitcoin sv what have you be build on broken BTC</td></tr><tr><td>CHANGE IS COMINGGET READY Boom Another CB Jab Nothing Can Stop This Globalism at its end stage CB push to make a one world govt coming to an end The People Are Taking the Lead amp Leaders Will Have to Follow the Majority WWG1WGQ</td><td>2019-05-27 11:49:32+00</td><td>0.0</td><td>0.0</td><td>change be COMINGGET READY Boom another cb Jab nothing can stop this Globalism at its end stage cb push to make a one world govt come to an end the People be take the Lead amp leader will have to follow the Majority WWG1WGQ</td></tr><tr><td>One of the useful articles of Stefan here is the guide you can run a node on Alibaba Cloud ltonetwork lto Eth xrpcommmunity crypto xlm xrp blockchain xrpcommmunity eos xmr trx ltc enjin ethereum bitcoin</td><td>2019-05-27 11:49:19+00</td><td>14.0</td><td>0.0</td><td>one of the useful article of Stefan here be the guide you can run a node on Alibaba Cloud ltonetwork lto Eth xrpcommmunity crypto xlm xrp blockchain xrpcommmunity eos xmr trx ltc enjin ethereum bitcoin</td></tr><tr><td>BTC IS STILL GOING STRONG Thus we are giving away 004 BTC and 10 BNB to 2 lucky winners GIVEAWAY doubles at 250 RT To enter Follow us Subscribe RT airdrop bitcoin ico cryptocurrency xrp ETH TRX Binance ethereum btc crypto bounty</td><td>2019-05-21 16:49:45+00</td><td>81.0</td><td>47.0</td><td>BTC be still go STRONG thus we be give away 004 BTC and 10 BNB to 2 lucky winner giveaway double at 250 RT to enter Follow we Subscribe RT airdrop bitcoin ico cryptocurrency xrp ETH TRX Binance ethereum btc crypto bounty</td></tr><tr><td>BestMixer has been seized by the Dutch Police Luxembourg Police and French Police w association from Europol BestMixer was a Bitcoin MixerTumbler Cryptocurrency Bitcoin BestMixer</td><td>2019-05-22 12:42:16+00</td><td>2.0</td><td>3.0</td><td>BestMixer have be seize by the Dutch Police Luxembourg Police and French Police w association from Europol BestMixer be a Bitcoin MixerTumbler Cryptocurrency Bitcoin BestMixer</td></tr><tr><td>Invested my Life Savings into Bitcoin and Ethereum Vlog 09</td><td>2019-05-27 11:49:30+00</td><td>1.0</td><td>1.0</td><td>invest my life Savings into Bitcoin and Ethereum Vlog 09</td></tr></tbody></table></div>"
      ]
     },
     "metadata": {
      "application/vnd.databricks.v1+output": {
       "addedWidgets": {},
       "aggData": [],
       "aggError": "",
       "aggOverflow": false,
       "aggSchema": [],
       "aggSeriesLimitReached": false,
       "aggType": "",
       "arguments": {},
       "columnCustomDisplayInfos": {},
       "data": [
        [
         "Cardano Digitize Currencies EOS 6500 ROI ATampT Bitcoin Bill Pay Cardano ADA FolloForFolloBack follo4folloback followforfollow bitcointe cryptocurrency",
         "2019-05-27 11:49:18+00",
         0.0,
         0.0,
         "Cardano Digitize Currencies EOS 6500 ROI atampt Bitcoin Bill Pay Cardano ADA FolloForFolloBack follo4folloback followforfollow bitcointe cryptocurrency"
        ],
        [
         "Another Test tweet that wasnt caught in the stream bitcoin",
         "2019-05-27 11:49:06+00",
         2.0,
         0.0,
         "another Test tweet that be not catch in the stream bitcoin"
        ],
        [
         "Current Crypto Prices BTC 872199 USD ETH 26662 USD LTC 11403 USD BCH 43202 USD XLM 0133 USD DOGE 000314 USD NEO 1204 USD XRP 04092 USD CANN 0001482 USD EMC2 01198 USD XMR 9465 USD BTG 2431 USD",
         "2019-05-27 11:49:22+00",
         0.0,
         0.0,
         "current Crypto price BTC 872199 usd ETH 26662 USD LTC 11403 USD BCH 43202 USD XLM 0133 USD doge 000314 usd NEO 1204 USD XRP 04092 USD CANN 0001482 USD EMC2 01198 USD XMR 9465 USD BTG 2431 usd"
        ],
        [
         "Spiv Nosar Baz BITCOIN Is An Asset amp NOT A Currency",
         "2019-05-27 11:49:23+00",
         0.0,
         0.0,
         "Spiv Nosar Baz BITCOIN be an Asset amp not a currency"
        ],
        [
         "We have been building on the real bitcoin SV What have you been building on broken BTC",
         "2019-05-27 11:49:25+00",
         0.0,
         0.0,
         "we have be build on the real bitcoin sv what have you be build on broken BTC"
        ],
        [
         "CHANGE IS COMINGGET READY Boom Another CB Jab Nothing Can Stop This Globalism at its end stage CB push to make a one world govt coming to an end The People Are Taking the Lead amp Leaders Will Have to Follow the Majority WWG1WGQ",
         "2019-05-27 11:49:32+00",
         0.0,
         0.0,
         "change be COMINGGET READY Boom another cb Jab nothing can stop this Globalism at its end stage cb push to make a one world govt come to an end the People be take the Lead amp leader will have to follow the Majority WWG1WGQ"
        ],
        [
         "One of the useful articles of Stefan here is the guide you can run a node on Alibaba Cloud ltonetwork lto Eth xrpcommmunity crypto xlm xrp blockchain xrpcommmunity eos xmr trx ltc enjin ethereum bitcoin",
         "2019-05-27 11:49:19+00",
         14.0,
         0.0,
         "one of the useful article of Stefan here be the guide you can run a node on Alibaba Cloud ltonetwork lto Eth xrpcommmunity crypto xlm xrp blockchain xrpcommmunity eos xmr trx ltc enjin ethereum bitcoin"
        ],
        [
         "BTC IS STILL GOING STRONG Thus we are giving away 004 BTC and 10 BNB to 2 lucky winners GIVEAWAY doubles at 250 RT To enter Follow us Subscribe RT airdrop bitcoin ico cryptocurrency xrp ETH TRX Binance ethereum btc crypto bounty",
         "2019-05-21 16:49:45+00",
         81.0,
         47.0,
         "BTC be still go STRONG thus we be give away 004 BTC and 10 BNB to 2 lucky winner giveaway double at 250 RT to enter Follow we Subscribe RT airdrop bitcoin ico cryptocurrency xrp ETH TRX Binance ethereum btc crypto bounty"
        ],
        [
         "BestMixer has been seized by the Dutch Police Luxembourg Police and French Police w association from Europol BestMixer was a Bitcoin MixerTumbler Cryptocurrency Bitcoin BestMixer",
         "2019-05-22 12:42:16+00",
         2.0,
         3.0,
         "BestMixer have be seize by the Dutch Police Luxembourg Police and French Police w association from Europol BestMixer be a Bitcoin MixerTumbler Cryptocurrency Bitcoin BestMixer"
        ],
        [
         "Invested my Life Savings into Bitcoin and Ethereum Vlog 09",
         "2019-05-27 11:49:30+00",
         1.0,
         1.0,
         "invest my life Savings into Bitcoin and Ethereum Vlog 09"
        ]
       ],
       "datasetInfos": [],
       "dbfsResultPath": null,
       "isJsonSchema": true,
       "metadata": {},
       "overflow": false,
       "plotOptions": {
        "customPlotOptions": {},
        "displayType": "table",
        "pivotAggregation": null,
        "pivotColumns": null,
        "xColumns": null,
        "yColumns": null
       },
       "removedWidgets": [],
       "schema": [
        {
         "metadata": "{}",
         "name": "clean_text",
         "type": "\"string\""
        },
        {
         "metadata": "{}",
         "name": "timestamp",
         "type": "\"string\""
        },
        {
         "metadata": "{}",
         "name": "likes",
         "type": "\"double\""
        },
        {
         "metadata": "{}",
         "name": "replies",
         "type": "\"double\""
        },
        {
         "metadata": "{}",
         "name": "lemmatized_text",
         "type": "\"string\""
        }
       ],
       "type": "table"
      }
     },
     "output_type": "display_data"
    }
   ],
   "source": [
    "# check\n",
    "display(lemmatized_spark_df.limit(10))"
   ]
  },
  {
   "cell_type": "markdown",
   "metadata": {
    "application/vnd.databricks.v1+cell": {
     "cellMetadata": {},
     "inputWidgets": {},
     "nuid": "234743f2-0880-45fb-ac94-81b29caa053d",
     "showTitle": false,
     "tableResultSettingsMap": {},
     "title": ""
    }
   },
   "source": [
    "## VADER"
   ]
  },
  {
   "cell_type": "markdown",
   "metadata": {
    "application/vnd.databricks.v1+cell": {
     "cellMetadata": {},
     "inputWidgets": {},
     "nuid": "40815342-0fae-455a-ab32-bcf8ac2bb20a",
     "showTitle": false,
     "tableResultSettingsMap": {},
     "title": ""
    }
   },
   "source": [
    "### Versione vecchia"
   ]
  },
  {
   "cell_type": "code",
   "execution_count": 0,
   "metadata": {
    "application/vnd.databricks.v1+cell": {
     "cellMetadata": {
      "byteLimit": 2048000,
      "rowLimit": 10000
     },
     "inputWidgets": {},
     "nuid": "fabc849e-d6c7-40b5-bbeb-f6a918f8b5ec",
     "showTitle": false,
     "tableResultSettingsMap": {},
     "title": ""
    }
   },
   "outputs": [],
   "source": [
    "# Initialize VADER sentiment analyzer\n",
    "analyzer = SentimentIntensityAnalyzer()\n",
    "\n",
    "# Define a UDF to get the VADER compound score\n",
    "def vader_sentiment(text: str) -> float:\n",
    "    return analyzer.polarity_scores(text)[\"compound\"] if text else 0.0\n",
    "\n",
    "# Register UDF in Spark\n",
    "vader_udf = udf(vader_sentiment, FloatType())\n",
    "\n",
    "# Apply sentiment score\n",
    "lemmatized_spark_df = lemmatized_spark_df.withColumn(\n",
    "    \"sentiment_score\", vader_udf(col(\"lemmatized_text\"))\n",
    ")\n",
    "\n",
    "# Classify sentiment based on compound score\n",
    "lemmatized_spark_df = lemmatized_spark_df.withColumn(\n",
    "    \"sentiment_category\",\n",
    "    when(col(\"sentiment_score\") > 0.05, \"Positive\")\n",
    "    .when(col(\"sentiment_score\") < -0.05, \"Negative\")\n",
    "    .otherwise(\"Neutral\")\n",
    ")\n",
    "\n",
    "# Save\n",
    "lemmatized_spark_df.write.mode(\"overwrite\").parquet(\"/tmp/sentiment_tweets\")\n",
    "lemmatized_spark_df = spark.read.parquet(\"/tmp/sentiment_tweets\")"
   ]
  },
  {
   "cell_type": "markdown",
   "metadata": {
    "application/vnd.databricks.v1+cell": {
     "cellMetadata": {},
     "inputWidgets": {},
     "nuid": "be4c2f35-f2df-4576-b14d-b2525afb26c1",
     "showTitle": false,
     "tableResultSettingsMap": {},
     "title": ""
    }
   },
   "source": [
    "### Versione nuova"
   ]
  },
  {
   "cell_type": "code",
   "execution_count": 0,
   "metadata": {
    "application/vnd.databricks.v1+cell": {
     "cellMetadata": {
      "byteLimit": 2048000,
      "rowLimit": 10000
     },
     "inputWidgets": {},
     "nuid": "55db7e02-61c0-4810-a293-05159453f1a9",
     "showTitle": false,
     "tableResultSettingsMap": {},
     "title": ""
    }
   },
   "outputs": [
    {
     "output_type": "display_data",
     "data": {
      "text/html": [
       "<style scoped>\n",
       "  .table-result-container {\n",
       "    max-height: 300px;\n",
       "    overflow: auto;\n",
       "  }\n",
       "  table, th, td {\n",
       "    border: 1px solid black;\n",
       "    border-collapse: collapse;\n",
       "  }\n",
       "  th, td {\n",
       "    padding: 5px;\n",
       "  }\n",
       "  th {\n",
       "    text-align: left;\n",
       "  }\n",
       "</style><div class='table-result-container'><table class='table-result'><thead style='background-color: white'><tr><th>lemmatized_text</th><th>sentiment_score</th><th>sentiment_category</th></tr></thead><tbody><tr><td>Cardano Digitize Currencies EOS 6500 ROI atampt Bitcoin Bill Pay Cardano ADA FolloForFolloBack follo4folloback followforfollow bitcointe cryptocurrency</td><td>-0.1027</td><td>Negative</td></tr><tr><td>another Test tweet that be not catch in the stream bitcoin</td><td>0.0</td><td>Neutral</td></tr><tr><td>current Crypto price BTC 872199 usd ETH 26662 USD LTC 11403 USD BCH 43202 USD XLM 0133 USD doge 000314 usd NEO 1204 USD XRP 04092 USD CANN 0001482 USD EMC2 01198 USD XMR 9465 USD BTG 2431 usd</td><td>0.0</td><td>Neutral</td></tr><tr><td>Spiv Nosar Baz BITCOIN be an Asset amp not a currency</td><td>0.3612</td><td>Positive</td></tr><tr><td>we have be build on the real bitcoin sv what have you be build on broken BTC</td><td>-0.4767</td><td>Negative</td></tr><tr><td>change be COMINGGET READY Boom another cb Jab nothing can stop this Globalism at its end stage cb push to make a one world govt come to an end the People be take the Lead amp leader will have to follow the Majority WWG1WGQ</td><td>0.6275</td><td>Positive</td></tr><tr><td>one of the useful article of Stefan here be the guide you can run a node on Alibaba Cloud ltonetwork lto Eth xrpcommmunity crypto xlm xrp blockchain xrpcommmunity eos xmr trx ltc enjin ethereum bitcoin</td><td>0.4404</td><td>Positive</td></tr><tr><td>BTC be still go STRONG thus we be give away 004 BTC and 10 BNB to 2 lucky winner giveaway double at 250 RT to enter Follow we Subscribe RT airdrop bitcoin ico cryptocurrency xrp ETH TRX Binance ethereum btc crypto bounty</td><td>0.8918</td><td>Positive</td></tr><tr><td>BestMixer have be seize by the Dutch Police Luxembourg Police and French Police w association from Europol BestMixer be a Bitcoin MixerTumbler Cryptocurrency Bitcoin BestMixer</td><td>0.0</td><td>Neutral</td></tr><tr><td>invest my life Savings into Bitcoin and Ethereum Vlog 09</td><td>0.0</td><td>Neutral</td></tr></tbody></table></div>"
      ]
     },
     "metadata": {
      "application/vnd.databricks.v1+output": {
       "addedWidgets": {},
       "aggData": [],
       "aggError": "",
       "aggOverflow": false,
       "aggSchema": [],
       "aggSeriesLimitReached": false,
       "aggType": "",
       "arguments": {},
       "columnCustomDisplayInfos": {},
       "data": [
        [
         "Cardano Digitize Currencies EOS 6500 ROI atampt Bitcoin Bill Pay Cardano ADA FolloForFolloBack follo4folloback followforfollow bitcointe cryptocurrency",
         -0.1027,
         "Negative"
        ],
        [
         "another Test tweet that be not catch in the stream bitcoin",
         0.0,
         "Neutral"
        ],
        [
         "current Crypto price BTC 872199 usd ETH 26662 USD LTC 11403 USD BCH 43202 USD XLM 0133 USD doge 000314 usd NEO 1204 USD XRP 04092 USD CANN 0001482 USD EMC2 01198 USD XMR 9465 USD BTG 2431 usd",
         0.0,
         "Neutral"
        ],
        [
         "Spiv Nosar Baz BITCOIN be an Asset amp not a currency",
         0.3612,
         "Positive"
        ],
        [
         "we have be build on the real bitcoin sv what have you be build on broken BTC",
         -0.4767,
         "Negative"
        ],
        [
         "change be COMINGGET READY Boom another cb Jab nothing can stop this Globalism at its end stage cb push to make a one world govt come to an end the People be take the Lead amp leader will have to follow the Majority WWG1WGQ",
         0.6275,
         "Positive"
        ],
        [
         "one of the useful article of Stefan here be the guide you can run a node on Alibaba Cloud ltonetwork lto Eth xrpcommmunity crypto xlm xrp blockchain xrpcommmunity eos xmr trx ltc enjin ethereum bitcoin",
         0.4404,
         "Positive"
        ],
        [
         "BTC be still go STRONG thus we be give away 004 BTC and 10 BNB to 2 lucky winner giveaway double at 250 RT to enter Follow we Subscribe RT airdrop bitcoin ico cryptocurrency xrp ETH TRX Binance ethereum btc crypto bounty",
         0.8918,
         "Positive"
        ],
        [
         "BestMixer have be seize by the Dutch Police Luxembourg Police and French Police w association from Europol BestMixer be a Bitcoin MixerTumbler Cryptocurrency Bitcoin BestMixer",
         0.0,
         "Neutral"
        ],
        [
         "invest my life Savings into Bitcoin and Ethereum Vlog 09",
         0.0,
         "Neutral"
        ]
       ],
       "datasetInfos": [],
       "dbfsResultPath": null,
       "isJsonSchema": true,
       "metadata": {},
       "overflow": false,
       "plotOptions": {
        "customPlotOptions": {},
        "displayType": "table",
        "pivotAggregation": null,
        "pivotColumns": null,
        "xColumns": null,
        "yColumns": null
       },
       "removedWidgets": [],
       "schema": [
        {
         "metadata": "{}",
         "name": "lemmatized_text",
         "type": "\"string\""
        },
        {
         "metadata": "{}",
         "name": "sentiment_score",
         "type": "\"float\""
        },
        {
         "metadata": "{}",
         "name": "sentiment_category",
         "type": "\"string\""
        }
       ],
       "type": "table"
      }
     },
     "output_type": "display_data"
    }
   ],
   "source": [
    "# initialize VADER\n",
    "analyzer = SentimentIntensityAnalyzer()\n",
    "\n",
    "# function to compound\n",
    "def vader_sentiment(text: str) -> float:\n",
    "    if not text:\n",
    "        return 0.0\n",
    "    return analyzer.polarity_scores(text)[\"compound\"]\n",
    "\n",
    "# register udf in spark\n",
    "vader_udf = udf(vader_sentiment, FloatType())\n",
    "\n",
    "# apply sentiment analysis\n",
    "lemmatized_spark_df = lemmatized_spark_df.withColumn(\"sentiment_score\", vader_udf(col(\"lemmatized_text\")))\n",
    "\n",
    "# classify by compound:\n",
    "# > 0.05 = Positive, < -0.05 = Negative, otherwise Neutral\n",
    "lemmatized_spark_df = lemmatized_spark_df.withColumn(\n",
    "    \"sentiment_category\",\n",
    "    when(col(\"sentiment_score\") > 0.05, \"Positive\")\n",
    "    .when(col(\"sentiment_score\") < -0.05, \"Negative\")\n",
    "    .otherwise(\"Neutral\")\n",
    ")\n",
    "\n",
    "# Check\n",
    "display(lemmatized_spark_df.select(\"lemmatized_text\", \"sentiment_score\", \"sentiment_category\").limit(10))"
   ]
  },
  {
   "cell_type": "code",
   "execution_count": 0,
   "metadata": {
    "application/vnd.databricks.v1+cell": {
     "cellMetadata": {
      "byteLimit": 2048000,
      "rowLimit": 10000
     },
     "inputWidgets": {},
     "nuid": "a26ca79b-476f-491d-9651-9c0bee91a1b8",
     "showTitle": false,
     "tableResultSettingsMap": {},
     "title": ""
    }
   },
   "outputs": [],
   "source": [
    "# Save\n",
    "lemmatized_spark_df.write.mode(\"overwrite\").parquet(\"/tmp/sentiment_tweets\")\n",
    "lemmatized_spark_df = spark.read.parquet(\"/tmp/sentiment_tweets\")"
   ]
  },
  {
   "cell_type": "markdown",
   "metadata": {
    "application/vnd.databricks.v1+cell": {
     "cellMetadata": {},
     "inputWidgets": {},
     "nuid": "a081bc34-a00f-4fc7-bea6-fa19d2f9dab9",
     "showTitle": false,
     "tableResultSettingsMap": {},
     "title": ""
    }
   },
   "source": [
    "# Time series: consensus per day"
   ]
  },
  {
   "cell_type": "markdown",
   "metadata": {
    "application/vnd.databricks.v1+cell": {
     "cellMetadata": {},
     "inputWidgets": {},
     "nuid": "264371f5-1847-4236-9d10-525209fe179f",
     "showTitle": false,
     "tableResultSettingsMap": {},
     "title": ""
    }
   },
   "source": [
    "## Versione vecchia"
   ]
  },
  {
   "cell_type": "code",
   "execution_count": 0,
   "metadata": {
    "application/vnd.databricks.v1+cell": {
     "cellMetadata": {
      "byteLimit": 2048000,
      "rowLimit": 10000
     },
     "inputWidgets": {},
     "nuid": "f580ab42-e5e5-4a92-b245-a2d578174030",
     "showTitle": false,
     "tableResultSettingsMap": {},
     "title": ""
    }
   },
   "outputs": [
    {
     "output_type": "display_data",
     "data": {
      "image/png": "[encoded data removed]"
     },
     "metadata": {
      "application/vnd.databricks.v1+output": {
       "addedWidgets": {},
       "arguments": {},
       "data": "data:image/png;base64,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\n",
       "datasetInfos": [],
       "metadata": {},
       "removedWidgets": [],
       "type": "image"
      }
     },
     "output_type": "display_data"
    }
   ],
   "source": [
    "# Extract date from timestamp\n",
    "lemmatized_spark_df = lemmatized_spark_df.withColumn(\"date\", to_date(\"timestamp\"))\n",
    "\n",
    "# Filter only realistic tweet dates (e.g., after 2017)\n",
    "lemmatized_spark_df = lemmatized_spark_df.filter(col(\"date\") >= \"2017-01-01\")\n",
    "\n",
    "# Aggregate sentiment per day\n",
    "daily_sentiment = (\n",
    "    lemmatized_spark_df\n",
    "    .groupBy(\"date\", \"sentiment_category\")\n",
    "    .agg(count(\"*\").alias(\"count\"))\n",
    "    .orderBy(\"date\")\n",
    ")\n",
    "\n",
    "# Convert to Pandas for visualization\n",
    "daily_sentiment_pd = daily_sentiment.toPandas()\n",
    "\n",
    "# Pivot for plotting\n",
    "pivot_df = daily_sentiment_pd.pivot(index=\"date\", columns=\"sentiment_category\", values=\"count\").fillna(0)\n",
    "\n",
    "# Plotting with Y-axis limit to avoid outlier flattening\n",
    "plt.figure(figsize=(14, 6))\n",
    "for sentiment in [\"Positive\", \"Negative\", \"Neutral\"]:\n",
    "    if sentiment in pivot_df.columns:\n",
    "        plt.plot(pivot_df.index, pivot_df[sentiment], label=sentiment)\n",
    "\n",
    "plt.title(\"Bitcoin Tweet Sentiment Over Time (Clipped Y-Axis)\")\n",
    "plt.xlabel(\"Date\")\n",
    "plt.ylabel(\"Number of Tweets\")\n",
    "plt.ylim(0, 25)\n",
    "plt.legend()\n",
    "plt.tight_layout()\n",
    "plt.grid(True)\n",
    "plt.show()"
   ]
  },
  {
   "cell_type": "markdown",
   "metadata": {
    "application/vnd.databricks.v1+cell": {
     "cellMetadata": {},
     "inputWidgets": {},
     "nuid": "8d67f50b-31b6-4e60-9070-0fda67690156",
     "showTitle": false,
     "tableResultSettingsMap": {},
     "title": ""
    }
   },
   "source": [
    "## Versione nuova"
   ]
  },
  {
   "cell_type": "code",
   "execution_count": 0,
   "metadata": {
    "application/vnd.databricks.v1+cell": {
     "cellMetadata": {
      "byteLimit": 2048000,
      "rowLimit": 10000
     },
     "inputWidgets": {},
     "nuid": "4efdf015-e24e-4a53-a051-23de12808075",
     "showTitle": false,
     "tableResultSettingsMap": {},
     "title": ""
    }
   },
   "outputs": [
    {
     "output_type": "display_data",
     "data": {
      "image/png": "[encoded data removed]"
     },
     "metadata": {
      "application/vnd.databricks.v1+output": {
       "addedWidgets": {},
       "arguments": {},
       "data": "data:image/png;base64,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\n",
       "datasetInfos": [],
       "metadata": {},
       "removedWidgets": [],
       "type": "image"
      }
     },
     "output_type": "display_data"
    },
    {
     "output_type": "display_data",
     "data": {
      "image/png": "[encoded data removed]"
     },
     "metadata": {
      "application/vnd.databricks.v1+output": {
       "addedWidgets": {},
       "arguments": {},
       "data": "data:image/png;base64,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\n",
       "datasetInfos": [],
       "metadata": {},
       "removedWidgets": [],
       "type": "image"
      }
     },
     "output_type": "display_data"
    }
   ],
   "source": [
    "# Extract date from timestamp col\n",
    "lemmatized_spark_df = lemmatized_spark_df.withColumn(\"date\", to_date(\"timestamp\"))\n",
    "\n",
    "# Aggregate # tweet per day and sentiment\n",
    "daily_sentiment = (\n",
    "    lemmatized_spark_df\n",
    "    .groupBy(\"date\", \"sentiment_category\")\n",
    "    .agg(count(\"*\").alias(\"count\"))\n",
    "    .orderBy(\"date\")\n",
    ")\n",
    "\n",
    "# Convert in pandas to facilitate viz\n",
    "daily_sentiment_pd = daily_sentiment.toPandas()\n",
    "\n",
    "# -------------------------------\n",
    "# Plot 1: Monthly aggregation\n",
    "# -------------------------------\n",
    "\n",
    "# Ensure date is in datetime\n",
    "daily_sentiment_pd['date'] = pd.to_datetime(daily_sentiment_pd['date'])\n",
    "\n",
    "# Create a new col month, in format es. \"2019-01\"\n",
    "daily_sentiment_pd['month'] = daily_sentiment_pd['date'].dt.to_period('M')\n",
    "\n",
    "# Group by month and sentiment category\n",
    "monthly_sentiment = daily_sentiment_pd.groupby(['month', 'sentiment_category']).agg({'count': 'sum'}).reset_index()\n",
    "\n",
    "# Create a pivot to have sentiment categories as cols\n",
    "pivot_monthly = monthly_sentiment.pivot(index=\"month\", columns=\"sentiment_category\", values=\"count\").fillna(0)\n",
    "\n",
    "# Plot: for each sentiment, y in log scale\n",
    "plt.figure(figsize=(14, 6))\n",
    "for sentiment in [\"Positive\", \"Negative\", \"Neutral\"]:\n",
    "    if sentiment in pivot_monthly.columns:\n",
    "        plt.plot(pivot_monthly.index.astype(str), pivot_monthly[sentiment], label=sentiment)\n",
    "plt.yscale(\"log\")\n",
    "plt.title(\"Sentiment Monthly Aggregation (log scale)\")\n",
    "plt.xlabel(\"Month\")\n",
    "plt.ylabel(\"# di Tweet (log scale)\")\n",
    "plt.legend()\n",
    "plt.xticks(rotation=45)\n",
    "plt.grid(True)\n",
    "plt.tight_layout()\n",
    "plt.show()\n",
    "\n",
    "# ---------------------------------------\n",
    "# Plot 2: Sentiment Focus on 2019\n",
    "# ---------------------------------------\n",
    "\n",
    "# filter 2019\n",
    "daily_sentiment_2019 = daily_sentiment_pd[daily_sentiment_pd['date'].dt.year == 2019]\n",
    "\n",
    "# create pivot\n",
    "pivot_daily_2019 = daily_sentiment_2019.pivot(index=\"date\", columns=\"sentiment_category\", values=\"count\").fillna(0)\n",
    "\n",
    "# Plot: for each sentiment per 2019\n",
    "plt.figure(figsize=(14, 6))\n",
    "for sentiment in [\"Positive\", \"Negative\", \"Neutral\"]:\n",
    "    if sentiment in pivot_daily_2019.columns:\n",
    "        plt.plot(pivot_daily_2019.index, pivot_daily_2019[sentiment], label=sentiment)\n",
    "plt.title(\"Tweet sentiment on Bitcoin in 2019\")\n",
    "plt.xlabel(\"Date\")\n",
    "plt.ylabel(\"# of Tweet\")\n",
    "plt.xticks(rotation=45)\n",
    "plt.legend()\n",
    "plt.grid(True)\n",
    "plt.tight_layout()\n",
    "plt.show()\n"
   ]
  },
  {
   "cell_type": "code",
   "execution_count": 0,
   "metadata": {
    "application/vnd.databricks.v1+cell": {
     "cellMetadata": {
      "byteLimit": 2048000,
      "rowLimit": 10000
     },
     "inputWidgets": {},
     "nuid": "fe305c81-70b1-4397-9a7d-b026584a1715",
     "showTitle": false,
     "tableResultSettingsMap": {},
     "title": ""
    }
   },
   "outputs": [
    {
     "output_type": "display_data",
     "data": {
      "text/html": [
       "<style scoped>\n",
       "  .table-result-container {\n",
       "    max-height: 300px;\n",
       "    overflow: auto;\n",
       "  }\n",
       "  table, th, td {\n",
       "    border: 1px solid black;\n",
       "    border-collapse: collapse;\n",
       "  }\n",
       "  th, td {\n",
       "    padding: 5px;\n",
       "  }\n",
       "  th {\n",
       "    text-align: left;\n",
       "  }\n",
       "</style><div class='table-result-container'><table class='table-result'><thead style='background-color: white'><tr><th>clean_text</th><th>timestamp</th><th>likes</th><th>replies</th><th>lemmatized_text</th><th>sentiment_score</th><th>sentiment_category</th><th>date</th></tr></thead><tbody><tr><td>Cardano Digitize Currencies EOS 6500 ROI ATampT Bitcoin Bill Pay Cardano ADA FolloForFolloBack follo4folloback followforfollow bitcointe cryptocurrency</td><td>2019-05-27 11:49:18+00</td><td>0.0</td><td>0.0</td><td>Cardano Digitize Currencies EOS 6500 ROI atampt Bitcoin Bill Pay Cardano ADA FolloForFolloBack follo4folloback followforfollow bitcointe cryptocurrency</td><td>-0.1027</td><td>Negative</td><td>2019-05-27</td></tr><tr><td>Another Test tweet that wasnt caught in the stream bitcoin</td><td>2019-05-27 11:49:06+00</td><td>2.0</td><td>0.0</td><td>another Test tweet that be not catch in the stream bitcoin</td><td>0.0</td><td>Neutral</td><td>2019-05-27</td></tr><tr><td>Current Crypto Prices BTC 872199 USD ETH 26662 USD LTC 11403 USD BCH 43202 USD XLM 0133 USD DOGE 000314 USD NEO 1204 USD XRP 04092 USD CANN 0001482 USD EMC2 01198 USD XMR 9465 USD BTG 2431 USD</td><td>2019-05-27 11:49:22+00</td><td>0.0</td><td>0.0</td><td>current Crypto price BTC 872199 usd ETH 26662 USD LTC 11403 USD BCH 43202 USD XLM 0133 USD doge 000314 usd NEO 1204 USD XRP 04092 USD CANN 0001482 USD EMC2 01198 USD XMR 9465 USD BTG 2431 usd</td><td>0.0</td><td>Neutral</td><td>2019-05-27</td></tr><tr><td>Spiv Nosar Baz BITCOIN Is An Asset amp NOT A Currency</td><td>2019-05-27 11:49:23+00</td><td>0.0</td><td>0.0</td><td>Spiv Nosar Baz BITCOIN be an Asset amp not a currency</td><td>0.3612</td><td>Positive</td><td>2019-05-27</td></tr><tr><td>We have been building on the real bitcoin SV What have you been building on broken BTC</td><td>2019-05-27 11:49:25+00</td><td>0.0</td><td>0.0</td><td>we have be build on the real bitcoin sv what have you be build on broken BTC</td><td>-0.4767</td><td>Negative</td><td>2019-05-27</td></tr><tr><td>CHANGE IS COMINGGET READY Boom Another CB Jab Nothing Can Stop This Globalism at its end stage CB push to make a one world govt coming to an end The People Are Taking the Lead amp Leaders Will Have to Follow the Majority WWG1WGQ</td><td>2019-05-27 11:49:32+00</td><td>0.0</td><td>0.0</td><td>change be COMINGGET READY Boom another cb Jab nothing can stop this Globalism at its end stage cb push to make a one world govt come to an end the People be take the Lead amp leader will have to follow the Majority WWG1WGQ</td><td>0.6275</td><td>Positive</td><td>2019-05-27</td></tr><tr><td>One of the useful articles of Stefan here is the guide you can run a node on Alibaba Cloud ltonetwork lto Eth xrpcommmunity crypto xlm xrp blockchain xrpcommmunity eos xmr trx ltc enjin ethereum bitcoin</td><td>2019-05-27 11:49:19+00</td><td>14.0</td><td>0.0</td><td>one of the useful article of Stefan here be the guide you can run a node on Alibaba Cloud ltonetwork lto Eth xrpcommmunity crypto xlm xrp blockchain xrpcommmunity eos xmr trx ltc enjin ethereum bitcoin</td><td>0.4404</td><td>Positive</td><td>2019-05-27</td></tr><tr><td>BTC IS STILL GOING STRONG Thus we are giving away 004 BTC and 10 BNB to 2 lucky winners GIVEAWAY doubles at 250 RT To enter Follow us Subscribe RT airdrop bitcoin ico cryptocurrency xrp ETH TRX Binance ethereum btc crypto bounty</td><td>2019-05-21 16:49:45+00</td><td>81.0</td><td>47.0</td><td>BTC be still go STRONG thus we be give away 004 BTC and 10 BNB to 2 lucky winner giveaway double at 250 RT to enter Follow we Subscribe RT airdrop bitcoin ico cryptocurrency xrp ETH TRX Binance ethereum btc crypto bounty</td><td>0.8918</td><td>Positive</td><td>2019-05-21</td></tr><tr><td>BestMixer has been seized by the Dutch Police Luxembourg Police and French Police w association from Europol BestMixer was a Bitcoin MixerTumbler Cryptocurrency Bitcoin BestMixer</td><td>2019-05-22 12:42:16+00</td><td>2.0</td><td>3.0</td><td>BestMixer have be seize by the Dutch Police Luxembourg Police and French Police w association from Europol BestMixer be a Bitcoin MixerTumbler Cryptocurrency Bitcoin BestMixer</td><td>0.0</td><td>Neutral</td><td>2019-05-22</td></tr><tr><td>Invested my Life Savings into Bitcoin and Ethereum Vlog 09</td><td>2019-05-27 11:49:30+00</td><td>1.0</td><td>1.0</td><td>invest my life Savings into Bitcoin and Ethereum Vlog 09</td><td>0.0</td><td>Neutral</td><td>2019-05-27</td></tr></tbody></table></div>"
      ]
     },
     "metadata": {
      "application/vnd.databricks.v1+output": {
       "addedWidgets": {},
       "aggData": [],
       "aggError": "",
       "aggOverflow": false,
       "aggSchema": [],
       "aggSeriesLimitReached": false,
       "aggType": "",
       "arguments": {},
       "columnCustomDisplayInfos": {},
       "data": [
        [
         "Cardano Digitize Currencies EOS 6500 ROI ATampT Bitcoin Bill Pay Cardano ADA FolloForFolloBack follo4folloback followforfollow bitcointe cryptocurrency",
         "2019-05-27 11:49:18+00",
         0.0,
         0.0,
         "Cardano Digitize Currencies EOS 6500 ROI atampt Bitcoin Bill Pay Cardano ADA FolloForFolloBack follo4folloback followforfollow bitcointe cryptocurrency",
         -0.1027,
         "Negative",
         "2019-05-27"
        ],
        [
         "Another Test tweet that wasnt caught in the stream bitcoin",
         "2019-05-27 11:49:06+00",
         2.0,
         0.0,
         "another Test tweet that be not catch in the stream bitcoin",
         0.0,
         "Neutral",
         "2019-05-27"
        ],
        [
         "Current Crypto Prices BTC 872199 USD ETH 26662 USD LTC 11403 USD BCH 43202 USD XLM 0133 USD DOGE 000314 USD NEO 1204 USD XRP 04092 USD CANN 0001482 USD EMC2 01198 USD XMR 9465 USD BTG 2431 USD",
         "2019-05-27 11:49:22+00",
         0.0,
         0.0,
         "current Crypto price BTC 872199 usd ETH 26662 USD LTC 11403 USD BCH 43202 USD XLM 0133 USD doge 000314 usd NEO 1204 USD XRP 04092 USD CANN 0001482 USD EMC2 01198 USD XMR 9465 USD BTG 2431 usd",
         0.0,
         "Neutral",
         "2019-05-27"
        ],
        [
         "Spiv Nosar Baz BITCOIN Is An Asset amp NOT A Currency",
         "2019-05-27 11:49:23+00",
         0.0,
         0.0,
         "Spiv Nosar Baz BITCOIN be an Asset amp not a currency",
         0.3612,
         "Positive",
         "2019-05-27"
        ],
        [
         "We have been building on the real bitcoin SV What have you been building on broken BTC",
         "2019-05-27 11:49:25+00",
         0.0,
         0.0,
         "we have be build on the real bitcoin sv what have you be build on broken BTC",
         -0.4767,
         "Negative",
         "2019-05-27"
        ],
        [
         "CHANGE IS COMINGGET READY Boom Another CB Jab Nothing Can Stop This Globalism at its end stage CB push to make a one world govt coming to an end The People Are Taking the Lead amp Leaders Will Have to Follow the Majority WWG1WGQ",
         "2019-05-27 11:49:32+00",
         0.0,
         0.0,
         "change be COMINGGET READY Boom another cb Jab nothing can stop this Globalism at its end stage cb push to make a one world govt come to an end the People be take the Lead amp leader will have to follow the Majority WWG1WGQ",
         0.6275,
         "Positive",
         "2019-05-27"
        ],
        [
         "One of the useful articles of Stefan here is the guide you can run a node on Alibaba Cloud ltonetwork lto Eth xrpcommmunity crypto xlm xrp blockchain xrpcommmunity eos xmr trx ltc enjin ethereum bitcoin",
         "2019-05-27 11:49:19+00",
         14.0,
         0.0,
         "one of the useful article of Stefan here be the guide you can run a node on Alibaba Cloud ltonetwork lto Eth xrpcommmunity crypto xlm xrp blockchain xrpcommmunity eos xmr trx ltc enjin ethereum bitcoin",
         0.4404,
         "Positive",
         "2019-05-27"
        ],
        [
         "BTC IS STILL GOING STRONG Thus we are giving away 004 BTC and 10 BNB to 2 lucky winners GIVEAWAY doubles at 250 RT To enter Follow us Subscribe RT airdrop bitcoin ico cryptocurrency xrp ETH TRX Binance ethereum btc crypto bounty",
         "2019-05-21 16:49:45+00",
         81.0,
         47.0,
         "BTC be still go STRONG thus we be give away 004 BTC and 10 BNB to 2 lucky winner giveaway double at 250 RT to enter Follow we Subscribe RT airdrop bitcoin ico cryptocurrency xrp ETH TRX Binance ethereum btc crypto bounty",
         0.8918,
         "Positive",
         "2019-05-21"
        ],
        [
         "BestMixer has been seized by the Dutch Police Luxembourg Police and French Police w association from Europol BestMixer was a Bitcoin MixerTumbler Cryptocurrency Bitcoin BestMixer",
         "2019-05-22 12:42:16+00",
         2.0,
         3.0,
         "BestMixer have be seize by the Dutch Police Luxembourg Police and French Police w association from Europol BestMixer be a Bitcoin MixerTumbler Cryptocurrency Bitcoin BestMixer",
         0.0,
         "Neutral",
         "2019-05-22"
        ],
        [
         "Invested my Life Savings into Bitcoin and Ethereum Vlog 09",
         "2019-05-27 11:49:30+00",
         1.0,
         1.0,
         "invest my life Savings into Bitcoin and Ethereum Vlog 09",
         0.0,
         "Neutral",
         "2019-05-27"
        ]
       ],
       "datasetInfos": [],
       "dbfsResultPath": null,
       "isJsonSchema": true,
       "metadata": {},
       "overflow": false,
       "plotOptions": {
        "customPlotOptions": {},
        "displayType": "table",
        "pivotAggregation": null,
        "pivotColumns": null,
        "xColumns": null,
        "yColumns": null
       },
       "removedWidgets": [],
       "schema": [
        {
         "metadata": "{}",
         "name": "clean_text",
         "type": "\"string\""
        },
        {
         "metadata": "{}",
         "name": "timestamp",
         "type": "\"string\""
        },
        {
         "metadata": "{}",
         "name": "likes",
         "type": "\"double\""
        },
        {
         "metadata": "{}",
         "name": "replies",
         "type": "\"double\""
        },
        {
         "metadata": "{}",
         "name": "lemmatized_text",
         "type": "\"string\""
        },
        {
         "metadata": "{}",
         "name": "sentiment_score",
         "type": "\"float\""
        },
        {
         "metadata": "{}",
         "name": "sentiment_category",
         "type": "\"string\""
        },
        {
         "metadata": "{}",
         "name": "date",
         "type": "\"date\""
        }
       ],
       "type": "table"
      }
     },
     "output_type": "display_data"
    }
   ],
   "source": [
    "display(lemmatized_spark_df.limit(10))"
   ]
  },
  {
   "cell_type": "markdown",
   "metadata": {
    "application/vnd.databricks.v1+cell": {
     "cellMetadata": {},
     "inputWidgets": {},
     "nuid": "a7ba1f2b-03a9-43ef-b5e4-afbd32977784",
     "showTitle": false,
     "tableResultSettingsMap": {},
     "title": ""
    }
   },
   "source": [
    "# Negative tweet receive more likes than positive ones?"
   ]
  },
  {
   "cell_type": "code",
   "execution_count": 0,
   "metadata": {
    "application/vnd.databricks.v1+cell": {
     "cellMetadata": {
      "byteLimit": 2048000,
      "rowLimit": 10000
     },
     "inputWidgets": {},
     "nuid": "c9a15131-5e76-49d2-b838-af1ca4cf4e45",
     "showTitle": false,
     "tableResultSettingsMap": {},
     "title": ""
    }
   },
   "outputs": [
    {
     "output_type": "stream",
     "name": "stdout",
     "output_type": "stream",
     "text": [
      "+------------------+-----------------+\n|sentiment_category|    average_likes|\n+------------------+-----------------+\n|          Negative|11.16967792615868|\n|          Positive|9.139718777883758|\n+------------------+-----------------+\n\n"
     ]
    }
   ],
   "source": [
    "# Exclude neutral tweets\n",
    "likes_df = lemmatized_spark_df.filter(col(\"sentiment_category\").isin(\"Positive\", \"Negative\"))\n",
    "\n",
    "avg_likes = (\n",
    "    likes_df.groupBy(\"sentiment_category\")\n",
    "    .agg(avg(\"likes\").alias(\"average_likes\"))\n",
    "    .orderBy(\"sentiment_category\")\n",
    ")\n",
    "\n",
    "avg_likes.show()"
   ]
  },
  {
   "cell_type": "markdown",
   "metadata": {
    "application/vnd.databricks.v1+cell": {
     "cellMetadata": {},
     "inputWidgets": {},
     "nuid": "c307f6bd-aabd-44a9-b128-2af183864cd6",
     "showTitle": false,
     "tableResultSettingsMap": {},
     "title": ""
    }
   },
   "source": [
    "Tweet with negative sentiment receive more likes in average."
   ]
  },
  {
   "cell_type": "markdown",
   "metadata": {
    "application/vnd.databricks.v1+cell": {
     "cellMetadata": {},
     "inputWidgets": {},
     "nuid": "f1571bed-4d79-4a66-874c-43f7aff8c0ef",
     "showTitle": false,
     "tableResultSettingsMap": {},
     "title": ""
    }
   },
   "source": [
    "# Negative tweet receive more replies than positive ones?"
   ]
  },
  {
   "cell_type": "code",
   "execution_count": 0,
   "metadata": {
    "application/vnd.databricks.v1+cell": {
     "cellMetadata": {
      "byteLimit": 2048000,
      "rowLimit": 10000
     },
     "inputWidgets": {},
     "nuid": "f739fb8e-6e20-4638-8a3d-2aa8f0359c04",
     "showTitle": false,
     "tableResultSettingsMap": {},
     "title": ""
    }
   },
   "outputs": [
    {
     "output_type": "stream",
     "name": "stdout",
     "output_type": "stream",
     "text": [
      "+------------------+------------------+\n|sentiment_category|   average_replies|\n+------------------+------------------+\n|          Negative|1.2122719734660032|\n|          Positive|1.3562967293314052|\n+------------------+------------------+\n\n"
     ]
    }
   ],
   "source": [
    "# Exclude neutral tweets\n",
    "replies_df = lemmatized_spark_df.filter(col(\"sentiment_category\").isin(\"Positive\", \"Negative\"))\n",
    "\n",
    "avg_replies = (\n",
    "    replies_df.groupBy(\"sentiment_category\")\n",
    "    .agg(avg(\"replies\").alias(\"average_replies\"))\n",
    "    .orderBy(\"sentiment_category\")\n",
    ")\n",
    "\n",
    "avg_replies.show()"
   ]
  },
  {
   "cell_type": "markdown",
   "metadata": {
    "application/vnd.databricks.v1+cell": {
     "cellMetadata": {},
     "inputWidgets": {},
     "nuid": "5008e3ad-e7e3-49e7-a82a-a454bd569703",
     "showTitle": false,
     "tableResultSettingsMap": {},
     "title": ""
    }
   },
   "source": [
    "In average there's no difference between positive and negative tweets in receiving replies."
   ]
  },
  {
   "cell_type": "markdown",
   "metadata": {
    "application/vnd.databricks.v1+cell": {
     "cellMetadata": {},
     "inputWidgets": {},
     "nuid": "8f1c79bb-e32a-4588-b17f-5a3c82be0646",
     "showTitle": false,
     "tableResultSettingsMap": {},
     "title": ""
    }
   },
   "source": [
    "# Sentiment - Bitcoin value correlation"
   ]
  },
  {
   "cell_type": "markdown",
   "metadata": {
    "application/vnd.databricks.v1+cell": {
     "cellMetadata": {},
     "inputWidgets": {},
     "nuid": "86cf11b4-36b2-420e-9b78-1595ae04435b",
     "showTitle": false,
     "tableResultSettingsMap": {},
     "title": ""
    }
   },
   "source": [
    "## Df preparation"
   ]
  },
  {
   "cell_type": "markdown",
   "metadata": {
    "application/vnd.databricks.v1+cell": {
     "cellMetadata": {},
     "inputWidgets": {},
     "nuid": "ae884a51-128f-456c-997a-dbb27c88c374",
     "showTitle": false,
     "tableResultSettingsMap": {},
     "title": ""
    }
   },
   "source": [
    "### Bitcoin history"
   ]
  },
  {
   "cell_type": "code",
   "execution_count": 0,
   "metadata": {
    "application/vnd.databricks.v1+cell": {
     "cellMetadata": {
      "byteLimit": 2048000,
      "rowLimit": 10000
     },
     "inputWidgets": {},
     "nuid": "63c3e840-b50a-46b0-ae1e-0f57272b7eeb",
     "showTitle": false,
     "tableResultSettingsMap": {},
     "title": ""
    }
   },
   "outputs": [
    {
     "output_type": "display_data",
     "data": {
      "text/html": [
       "<style scoped>\n",
       "  .table-result-container {\n",
       "    max-height: 300px;\n",
       "    overflow: auto;\n",
       "  }\n",
       "  table, th, td {\n",
       "    border: 1px solid black;\n",
       "    border-collapse: collapse;\n",
       "  }\n",
       "  th, td {\n",
       "    padding: 5px;\n",
       "  }\n",
       "  th {\n",
       "    text-align: left;\n",
       "  }\n",
       "</style><div class='table-result-container'><table class='table-result'><thead style='background-color: white'><tr><th>date</th><th>btc_close</th></tr></thead><tbody><tr><td>2014-11-28</td><td>376.28</td></tr><tr><td>2014-11-29</td><td>376.72</td></tr><tr><td>2014-11-30</td><td>373.34</td></tr><tr><td>2014-12-01</td><td>378.39</td></tr><tr><td>2014-12-02</td><td>379.25</td></tr></tbody></table></div>"
      ]
     },
     "metadata": {
      "application/vnd.databricks.v1+output": {
       "addedWidgets": {},
       "aggData": [],
       "aggError": "",
       "aggOverflow": false,
       "aggSchema": [],
       "aggSeriesLimitReached": false,
       "aggType": "",
       "arguments": {},
       "columnCustomDisplayInfos": {},
       "data": [
        [
         "2014-11-28",
         376.28
        ],
        [
         "2014-11-29",
         376.72
        ],
        [
         "2014-11-30",
         373.34
        ],
        [
         "2014-12-01",
         378.39
        ],
        [
         "2014-12-02",
         379.25
        ]
       ],
       "datasetInfos": [],
       "dbfsResultPath": null,
       "isJsonSchema": true,
       "metadata": {},
       "overflow": false,
       "plotOptions": {
        "customPlotOptions": {},
        "displayType": "table",
        "pivotAggregation": null,
        "pivotColumns": null,
        "xColumns": null,
        "yColumns": null
       },
       "removedWidgets": [],
       "schema": [
        {
         "metadata": "{}",
         "name": "date",
         "type": "\"date\""
        },
        {
         "metadata": "{}",
         "name": "btc_close",
         "type": "\"double\""
        }
       ],
       "type": "table"
      }
     },
     "output_type": "display_data"
    }
   ],
   "source": [
    "btc_spark_df = spark.read.csv(\"dbfs:/FileStore/BTC_Daily.csv\", header=True, inferSchema=True)\n",
    "\n",
    "# Select only date and close columns, convert date to date type and close to double\n",
    "btc_spark_df = (\n",
    "    btc_spark_df.select(\n",
    "        to_date(col(\"date\"), \"yyyy-MM-dd\").alias(\"date\"),\n",
    "        col(\"close\").cast(\"double\").alias(\"btc_close\")\n",
    "    )\n",
    "    .filter(col(\"date\").isNotNull() & col(\"btc_close\").isNotNull())\n",
    "    .orderBy(\"date\")\n",
    ")\n",
    "\n",
    "display(btc_spark_df.limit(5))"
   ]
  },
  {
   "cell_type": "markdown",
   "metadata": {
    "application/vnd.databricks.v1+cell": {
     "cellMetadata": {},
     "inputWidgets": {},
     "nuid": "82da7fb6-60de-49d6-9c13-d536c967aaa2",
     "showTitle": false,
     "tableResultSettingsMap": {},
     "title": ""
    }
   },
   "source": [
    "### Sentiment df"
   ]
  },
  {
   "cell_type": "markdown",
   "metadata": {
    "application/vnd.databricks.v1+cell": {
     "cellMetadata": {},
     "inputWidgets": {},
     "nuid": "a4a18f0a-7fd4-4b53-b33a-6306a2c29653",
     "showTitle": false,
     "tableResultSettingsMap": {},
     "title": ""
    }
   },
   "source": [
    "**I preferred to use `sentiment_category` instead of `sentiment_score` in order to speed up the code.**"
   ]
  },
  {
   "cell_type": "code",
   "execution_count": 0,
   "metadata": {
    "application/vnd.databricks.v1+cell": {
     "cellMetadata": {
      "byteLimit": 2048000,
      "rowLimit": 10000
     },
     "inputWidgets": {},
     "nuid": "f3ad67a6-f24b-463b-96bc-ef3e0f6d9d7a",
     "showTitle": false,
     "tableResultSettingsMap": {},
     "title": ""
    }
   },
   "outputs": [],
   "source": [
    "# 1. Group by date and sentiment cat\n",
    "daily_sentiment = (\n",
    "    lemmatized_spark_df\n",
    "    .filter(col(\"date\").isNotNull())  # ensure date is present\n",
    "    .groupBy(\"date\", \"sentiment_category\")\n",
    "    .agg(count(\"*\").alias(\"count\"))\n",
    "    .orderBy(\"date\")\n",
    ")\n",
    "\n",
    "# 2. Convert in pandas for pivot\n",
    "daily_sentiment_pd = daily_sentiment.toPandas()\n",
    "\n",
    "# 3. Create pivot\n",
    "pivot_df = daily_sentiment_pd.pivot(\n",
    "    index=\"date\",\n",
    "    columns=\"sentiment_category\",\n",
    "    values=\"count\"\n",
    ").fillna(0)\n",
    "\n",
    "# 4. col net_sentiment = (Positive - Negative)\n",
    "pivot_df[\"net_sentiment\"] = pivot_df[\"Positive\"] - pivot_df[\"Negative\"]\n",
    "\n",
    "# 5. Reset index to transform date in col\n",
    "pivot_df_reset = pivot_df.reset_index()\n",
    "\n",
    "# 6. Convert in Spark DataFrame\n",
    "spark_pivot_df = spark.createDataFrame(pivot_df_reset)\n",
    "\n",
    "# 7. Ensure col \"date\" is Spark data type\n",
    "spark_pivot_df = spark_pivot_df.withColumn(\"date\", to_date(col(\"date\"), \"yyyy-MM-dd\"))"
   ]
  },
  {
   "cell_type": "markdown",
   "metadata": {
    "application/vnd.databricks.v1+cell": {
     "cellMetadata": {},
     "inputWidgets": {},
     "nuid": "59399267-7be3-4737-b3da-357ba0917158",
     "showTitle": false,
     "tableResultSettingsMap": {},
     "title": ""
    }
   },
   "source": [
    "### Join"
   ]
  },
  {
   "cell_type": "code",
   "execution_count": 0,
   "metadata": {
    "application/vnd.databricks.v1+cell": {
     "cellMetadata": {
      "byteLimit": 2048000,
      "rowLimit": 10000
     },
     "inputWidgets": {},
     "nuid": "410f1b6f-0fe6-4868-9ee1-76c0dc1b0cec",
     "showTitle": false,
     "tableResultSettingsMap": {},
     "title": ""
    }
   },
   "outputs": [
    {
     "output_type": "display_data",
     "data": {
      "text/html": [
       "<style scoped>\n",
       "  .table-result-container {\n",
       "    max-height: 300px;\n",
       "    overflow: auto;\n",
       "  }\n",
       "  table, th, td {\n",
       "    border: 1px solid black;\n",
       "    border-collapse: collapse;\n",
       "  }\n",
       "  th, td {\n",
       "    padding: 5px;\n",
       "  }\n",
       "  th {\n",
       "    text-align: left;\n",
       "  }\n",
       "</style><div class='table-result-container'><table class='table-result'><thead style='background-color: white'><tr><th>date</th><th>Negative</th><th>Neutral</th><th>Positive</th><th>net_sentiment</th><th>btc_close</th></tr></thead><tbody><tr><td>2019-05-27</td><td>222.0</td><td>803.0</td><td>666.0</td><td>444.0</td><td>8770.73</td></tr><tr><td>2019-05-26</td><td>10.0</td><td>20.0</td><td>40.0</td><td>30.0</td><td>8733.26</td></tr><tr><td>2019-05-25</td><td>0.0</td><td>6.0</td><td>9.0</td><td>9.0</td><td>8064.64</td></tr><tr><td>2019-05-24</td><td>1.0</td><td>3.0</td><td>3.0</td><td>2.0</td><td>7999.02</td></tr><tr><td>2019-05-23</td><td>0.0</td><td>2.0</td><td>4.0</td><td>4.0</td><td>7880.22</td></tr><tr><td>2019-05-22</td><td>0.0</td><td>2.0</td><td>4.0</td><td>4.0</td><td>7624.95</td></tr><tr><td>2019-05-21</td><td>1.0</td><td>1.0</td><td>3.0</td><td>2.0</td><td>7955.16</td></tr><tr><td>2019-05-20</td><td>0.0</td><td>1.0</td><td>3.0</td><td>3.0</td><td>8005.64</td></tr><tr><td>2019-05-19</td><td>1.0</td><td>1.0</td><td>0.0</td><td>-1.0</td><td>8200.0</td></tr><tr><td>2019-05-18</td><td>1.0</td><td>0.0</td><td>0.0</td><td>-1.0</td><td>7260.12</td></tr></tbody></table></div>"
      ]
     },
     "metadata": {
      "application/vnd.databricks.v1+output": {
       "addedWidgets": {},
       "aggData": [],
       "aggError": "",
       "aggOverflow": false,
       "aggSchema": [],
       "aggSeriesLimitReached": false,
       "aggType": "",
       "arguments": {},
       "columnCustomDisplayInfos": {},
       "data": [
        [
         "2019-05-27",
         222.0,
         803.0,
         666.0,
         444.0,
         8770.73
        ],
        [
         "2019-05-26",
         10.0,
         20.0,
         40.0,
         30.0,
         8733.26
        ],
        [
         "2019-05-25",
         0.0,
         6.0,
         9.0,
         9.0,
         8064.64
        ],
        [
         "2019-05-24",
         1.0,
         3.0,
         3.0,
         2.0,
         7999.02
        ],
        [
         "2019-05-23",
         0.0,
         2.0,
         4.0,
         4.0,
         7880.22
        ],
        [
         "2019-05-22",
         0.0,
         2.0,
         4.0,
         4.0,
         7624.95
        ],
        [
         "2019-05-21",
         1.0,
         1.0,
         3.0,
         2.0,
         7955.16
        ],
        [
         "2019-05-20",
         0.0,
         1.0,
         3.0,
         3.0,
         8005.64
        ],
        [
         "2019-05-19",
         1.0,
         1.0,
         0.0,
         -1.0,
         8200.0
        ],
        [
         "2019-05-18",
         1.0,
         0.0,
         0.0,
         -1.0,
         7260.12
        ]
       ],
       "datasetInfos": [],
       "dbfsResultPath": null,
       "isJsonSchema": true,
       "metadata": {},
       "overflow": false,
       "plotOptions": {
        "customPlotOptions": {},
        "displayType": "table",
        "pivotAggregation": null,
        "pivotColumns": null,
        "xColumns": null,
        "yColumns": null
       },
       "removedWidgets": [],
       "schema": [
        {
         "metadata": "{}",
         "name": "date",
         "type": "\"date\""
        },
        {
         "metadata": "{}",
         "name": "Negative",
         "type": "\"double\""
        },
        {
         "metadata": "{}",
         "name": "Neutral",
         "type": "\"double\""
        },
        {
         "metadata": "{}",
         "name": "Positive",
         "type": "\"double\""
        },
        {
         "metadata": "{}",
         "name": "net_sentiment",
         "type": "\"double\""
        },
        {
         "metadata": "{}",
         "name": "btc_close",
         "type": "\"double\""
        }
       ],
       "type": "table"
      }
     },
     "output_type": "display_data"
    }
   ],
   "source": [
    "# Join with BTC Spark DataFrame (btc_spark_df) on 'date'\n",
    "joined_df = spark_pivot_df.join(btc_spark_df, on=\"date\", how=\"inner\")\n",
    "\n",
    "display(joined_df.limit(10))"
   ]
  },
  {
   "cell_type": "markdown",
   "metadata": {
    "application/vnd.databricks.v1+cell": {
     "cellMetadata": {},
     "inputWidgets": {},
     "nuid": "807e3e8c-7007-4de9-8a5b-5e5529d35b65",
     "showTitle": false,
     "tableResultSettingsMap": {},
     "title": ""
    }
   },
   "source": [
    "## Final result"
   ]
  },
  {
   "cell_type": "code",
   "execution_count": 0,
   "metadata": {
    "application/vnd.databricks.v1+cell": {
     "cellMetadata": {
      "byteLimit": 2048000,
      "rowLimit": 10000
     },
     "inputWidgets": {},
     "nuid": "10c56c6b-716c-400e-b255-86661aa24c46",
     "showTitle": false,
     "tableResultSettingsMap": {},
     "title": ""
    }
   },
   "outputs": [
    {
     "output_type": "stream",
     "name": "stdout",
     "output_type": "stream",
     "text": [
      "Correlation matrix:\n                  sentiment_change  price_change\nsentiment_change          1.000000      0.020268\nprice_change              0.020268      1.000000\n"
     ]
    },
    {
     "output_type": "display_data",
     "data": {
      "image/png": "[encoded data removed]"
     },
     "metadata": {
      "application/vnd.databricks.v1+output": {
       "addedWidgets": {},
       "arguments": {},
       "data": "data:image/png;base64,iVBORw0KGgoAAAANSUhEUgAAAmYAAAGDCAYAAACBTdwmAAAAOXRFWHRTb2Z0d2FyZQBNYXRwbG90bGliIHZlcnNpb24zLjUuMSwgaHR0cHM6Ly9tYXRwbG90bGliLm9yZy/YYfK9AAAACXBIWXMAAAsTAAALEwEAmpwYAABPGklEQVR4nO3de3wcV33//9dnVytpbckrO3YU2c7FuRjsuASIE5ICrg0JONxCfwVCyyVpAX8LhUIKpdBQoAVaCm0DNNwMAcLVhBBKuMSQUIyBJoEYQnAi4jh2braiOI61kuyVtJfP748ZyStF2l3Z2p219v18PGTPzszOfPbs7Oqjc86cY+6OiIiIiEQvFnUAIiIiIhJQYiYiIiJSJ5SYiYiIiNQJJWYiIiIidUKJmYiIiEidUGImIiIiUieUmElNmdllZvaLo3j+jWZ26UzGFB73S2b2wZk+7mxiZoNmdmq4fEyUV3HMxxozu9/MLog6jlo6Vl+zmX3GzP6pxuc8xczczJpqeV6pPiVmDcjM/sLMbg9/afWEyc6zoo5rIjN7v5l9tXidu1/k7tdEFdNkjoUkxcy2mNmQmQ2YWb+ZbTOzd5lZS6XHcPc2d981A7H8o5ntDq+/h83sm0d7zPC4W8zs9cXrZirmI4ilbIJhZvPM7GNm9mBYFveFjxfWKs5jSfg5GwnLaiC8hv8k3PaP4frB8DrPFz2+K9zn+Wa2NXzuPjP7mZm9ZIpzvd/MsuHz+8zs/8zs/Klic/e/dvcPVOE1Lzezb5nZY2aWNrM7zezvzCw+0+eS+qHErMGY2d8BHwP+FegETgI+BVx8BMd6wl9q+uutrr3Z3duBLuDtwCuBH5qZ1SqAsLbzNcAF7t4GrAZ+Uqvz1wszayZ43WcC64F5wPnAfuDcCEOrdx8Jr5t5wKeB680s7u7/GibhbcBfA7eMPnb3M83sZcC3gC8DSwm++94LvLjEub4ZHm8R8IvwXE/4rFQrSTKz04DbgIeAP3L3FPBygs9MezXOKXXC3fXTID9AChgEXl5inxaCxG1v+PMxoCXcthZ4GPgH4BHgK8D7geuArwL9wOvD81wN9AB7gA8C8fAYlwG/KDrfxwm+ePqBbcCzw/XrgREgG8b8u3D9FuD14XIMeA/wAPAowZduKtx2CuDApcCDwGPAFSVe95eAzwA3AQPAz4CTi7Y/Odz2OHAP8Ipw/YYwxpEwzu8Bfwl8r+i59wLfKnr8EPDUUsctei/+I4y/N4wvOeG9eHv42nuAvyzx+sbKrWjdScAh4EXh43OBW4C+8HhXAc1F+ztwelF5fTBc3g68uGi/RFjeT5skjquAj5W5RkteO2GZHAB2AxeF2z4E5IGh8H24aoqYPwXcGO7zS+AEgmv8APCH4piBxcC3gX3huf62aNv7gWsJrrkB4C5gdbjtK0AByITneeckr/P14XvaVqIs7gfeAdwJpIFvAq3htvnA98PYDoTLSye83x8IX+MA8GNgYdH21xJ8bvYD/xSe64Kiz9W7gPvC7dcCC6aI8WjjeE1RHFcUxzHFZ/SDRY/nhO/v4gn7Xcb47xgj+Az9/TS+K98PfLXo8ZnhuRaGcXwa+CFwELhgktguBu4g+F67D1hf7vqeJIavAj8oEeMplPiOo7LP818TfD/1AZ8ELNwWB/4zPOZu4M3h/k3TfR36mf6Pasway/lAK/CdEvtcAZwHPBU4i+DD/Z6i7ScAC4CTCZISCL6ErgM6gK8RfEnlgNOBpwHPI/hFNJlfh+daAHwd+JaZtbr7ZoJavW968FfvWZM897LwZx1wKtBG8OVT7FnAk4DnAu81sxUlXvurCH6JLCT4Uv0agJnNJUievg4cT1DT9CkzW+nuG8P9PhLG+WKCpO7ZZhYzs8VAM0HZE/Z3agPuLHXcMJ4PA8vD8jkdWELwV/6oEwi+IJcArwM+aWbzS7y+cdz9QeB24Nnhqjxwefj6zw/L7E0VHOrLwKuLHr8A6HH3306y763Aa83s781s9SS1DV+i9LXzDIIEdiHwEeBqMzN3vwL4OUGtYJu7v3mKWF9BcD0vBIYJfnH9Jnx8HfBfAGYWI0iyf0dQvs8F3mZmzy861kuATQTX/Q2E1567v4bgF+WLw1g+MkkcFwCb3X1wijiL410PLAOeQnC9Q5A8fZHgc3gSQRI48dr/C4I/Eo4nuAbfEb62lQQJ6qsIak9Hr6FRbwFeCvwJQXJ6gOCX9mSONo5PEyRni4HjCGqzygqvm9cSJA29ZXZ/EnAiwfs7bWFz/2XAQ+7+WLj6Lwj+GGgn+GOheP9zCT4Tf09wbawhSDhhet+NF1QY81TfcZV8nl8EnENwbb0CGL2+3wBcRPDd83SC66HYdF6HTFfUmaF+avdD8EX8SJl97gNeUPT4+cD94fJagpqh1qLt7we2Fj3uJPiFlyxa9+fAT8Plyyj6a3aS8x8Azio69lcnbN/C4RqznwBvKtr2JILaqyYO/zVZ/Nf7r4BXTnHeLwGbih63EXyxnQhcAvx8wv6fBd5X9NwPTtj+EMEX2iuBjeG5n0zwC+qGcJ8pj0vwV/5B4LSibecDu4veiwzhX7DhukeB86Z4fWPlNmH9JuBzUzznbcB3ih5PVWO2mKA2ZF74+DomqSWacB3eHL6+/cA/TOPa2Vm0bbTG5ISpXuMkMX+uaNtbgO6ix38E9IXLzwAenHCsdwNfLLo2by7athLIFD2+nylqfsLtNwEfLvNZvB94ddHjjwCfmWLfpwIHJrzf7yl6/CaCRBCC5P4bE8pxhMM1Zt3Ac4u2dxF+rkrFe4RxFH/m5hbHMcVndIigdicTLr9qkv0uY3yN2TPD66C1XPxFz3l/GEsfwefqf4Gzi+L48iSxjX4ePgtcOckxS17fk+yfJaxpm2L7KUzvO+5tPPHz/Kyix9cC7wqX/xf4f0XbLgj3b5ru69DP9H/UH6ix7AcWmlmTu+em2GcxQdPCqAfCdaP2ufvQhOc8VLR8MkFTVk9Rd4zYhH3GmNk7CGp7FhN88OcR/IVXicliHf3iGPVI0fIhgoRrKmMxuvugmT0enuNk4Blm1le0bxNBk9VUfkaQPJ0eLvcR1ECcHz6mzHEXEfzC3FZUjkbQxDBq/4T3sdzrm8wS4P8g6GhMUGO0Ojx3E0HzcknuvtfMfgn8mZl9h+Av7beW2P9rwNfMLEHwl/jXzOwOgqS83LXzSNFxDoX7Tec1F9euZCZ5PHqsk4HFE96bOEGt3BNiISj71jKfrWL7CRKeciaeYzGAmc0BriSoTRutJW0P+1vlp3ju6GtbzPhr/ZCZ7S/a92TgO2ZWKFqXJ/hc7SkObobjODghjsn8h7u/J+zrdSbwYzN73N1vLPGc0WN2EdSwVepad3/1FNsm/T4LnUjQzDnRtL4bOfJrpA0q/jxX9N5wFN/xMn1qymwstxD8pfPSEvvsJfjgjTopXDfKJ3lO8bqHwnMsdPeO8Geeu5858Ulm9mzgnQRV6PPdvYOgL83op32yc5WLNUf5po2pnFgUWxtB8+pegtf0s6LX0+FBE9UbS8Q5mpg9O1z+GUFi9iccTsxKHfcxgkThzKJtKQ86I88IMzsROJvDycanCfpZneHu84B/5PB7Uc41BM2ZLyfoeL2nzP64e9bdv0XQh2oV07h2pjpkhftV4iGC2sni96bd3V8wQ7HcDDw/bM4+Em8nqCF+RvherQnXV/J+9VDUZGhmSYJmxFEPEfTdK37trVO8p0cbR/Fnbs6EOKbkge0EfddeWGb3ewhe059VcuwKlXp/HwJOm2L9dK7vmzm6mI/m8zzuGqHofeLoP6dShhKzBuLuaYLmg0+a2UvNbI6ZJczsIjMb7QfzDeA9ZrYovG3/vQSdUCs9Rw9BB9//DIcDiJnZaaO3tU/QTpBI7QOazOy9BDVmo3qBU8L+PpP5BnC5mS0LE6nRPmmV1FhM5gVm9qzwjrkPALe6+0MEHZqXm9lrwvJKmNk5RX05egn6uBX7GUHft6S7P0yQ/Kwn+MUz2vdqyuO6ewH4HHClmR0PYGZLJvRxOiLh+/4nwHcJmj5G/7pvJ+isPGhmTwbeOMUhJvM/BE23byXoXzPVuS8zsxeaWXt4bVxEUPNx2zSvnclM9j4cqV8BA2b2D2aWNLO4ma0ys3NmKJavEPyC+7aZPTl8rcdZMOxDJclfO0Hi3mdmCwiavyt1HfBiM/vj8Fp/P+N/YX8G+JCZnQwQfhdcXKU4XlT0mfsXpvE7KbxGn0Vw48WU3N2BvwP+ycz+sujaepaZbZxGvJW6GvhLM3tueJ4lZvbkI7i+3wf8sZl91MxOADCz083sq2bWUUEcR/N5vhZ4axh7B8ENX8C0v+PlCCgxazDu/p8EX1LvIUiIHiK44+Z/wl0+SNAh/E7g9wQdo6c7RtdrCTr53k3QPHUdk1fJ/wjYDOwgaIYcYnx1+LfC//eb2W8mef4XCH7BbSVoohgi6Dd0pL5O8GX4OEFN0qsB3H2AoHPrKwlq0B4B/p3grkkIvohXWjDe0f+Ez9lBcEfez8PH/cAu4JejTTwVHPcfgJ3ArWbWT/AX9JOO4vVdZWYDBEnDxwjuOFwfJoEQdMr+C4L+Yp8juAuwIu6eCY+3DLi+xK79BH+5P0jQvPsR4I3uPtqButJrZzIfB15mZgfM7BOVxj6Z8D16EUGfqd0ENZifJ+goX4l/I/gDp8+C5vqJxx8m6LfzB4L+Zv0EyeBCgiESyvkYkAzjupXgc1QRd7+L4HOyiaBmZJCgH9VwuMvHCW5m+HF4vdxK0OeuGnH8DcHnrofg/X64zNPeacHYYgcJkoMvEvTpKneu6wj6dP4VwWetl+B77buVxlspd/8VQV/SKwlaAH7G4Zr9iq9vd7+PoOvDKcBdZpYm+IzdTvAZLeeIP8/h/j8m+D3wW4I/3nIETdrTeh0yfaO3xoqIHJWwxnN5iX45UofC2uY+giav6fTBkgYR1mx/xt1PLruzHDXVmInIUQubsV5HcAeq1Dkze3HYpD2XYFy433N4SAdpcGHz/QvMrMnMlhC0JHwn6rgahRIzETkqZvYGgiboG919a9TxSEUu5vAg0mcQDLGg5hMZZcA/EzRT/pZgCJX3lnyGzBg1ZYqIiIjUCdWYiYiIiNQJJWYiIiIidWJWjPy/cOFCP+WUU6IOY0YcPHiQuXOPdMzJ2U/lU57KqDSVT3kqo9JUPuWpjErbtm3bY+6+aLJtsyIxO+WUU7j99tujDmNGbNmyhbVr10YdRt1S+ZSnMipN5VOeyqg0lU95KqPSzOyBqbapKVNERESkTigxExEREakTSsxERERE6oQSMxEREZE6ocRMREREpE4oMRMRERGpE0rMREREROqEEjMRERGROqHETERERKROzIqR/48V3T1pNm/vZU9fhiUdSdav6mRFVyrqsERERKROqMasRrp70mzcupt0JktXqpV0JsvGrbvp7klHHZqIiIjUCSVmNbJ5ey+pZIJUMkHMbGx58/beqEMTERGROqHErEb29GVobx3fctze2sSevkxEEYmIiEi9UWJWI0s6kgwM5catGxjKsaQjGVFEIiIiUm+UmNXI+lWdpDNZ0pksBfex5fWrOqMOTUREROqEErMaWdGVYsOaZaSSCXrSQ6SSCTasWaa7MkVERGSMhsuooRVdKSViIiIiMiXVmImIiIjUicgTMzOLm9lvzez74eNlZnabme00s2+aWXPUMYqIiIjUQuSJGfBWoLvo8b8DV7r76cAB4HWRRCUiIiJSY5EmZma2FHgh8PnwsQHPAa4Ld7kGeGkkwYmIiIjUmLl7dCc3uw74N6AdeAdwGXBrWFuGmZ0I3OjuqyZ57gZgA0BnZ+fZmzZtqlXYVTU4OEhbW1vUYdQtlU95KqPSVD7lqYxKU/mUpzIqbd26ddvcffVk2yK7K9PMXgQ86u7bzGztdJ/v7huBjQCrV6/2tWunfYi6tGXLFmbLa6kGlU95KqPSVD7lqYxKU/mUpzI6clEOl/FM4CVm9gKgFZgHfBzoMLMmd88BS4E9EcYoIiIiUjOR9TFz93e7+1J3PwV4JfC/7v4q4KfAy8LdLgW+G1GIIiIiIjVVD3dlTvQPwN+Z2U7gOODqiOMRERERqYm6GPnf3bcAW8LlXcC5UcYjIiIiEoV6rDETERERaUhKzERERETqhBIzERERkTqhxExERESkTigxExEREakTSsxERERE6oQSMxEREZE6ocRMREREpE4oMRMRERGpE0rMREREROqEEjMRERGROqHETERERKROKDETERERqRNKzERERETqhBIzERERkTqhxExERESkTigxExEREakTSsxERERE6oQSMxEREZE6ocRMREREpE4oMRMRERGpE0rMREREROqEEjMRERGROqHETERERKROKDETERERqRNKzERERETqhBIzERERkTqhxExERESkTigxExEREakTSsxERERE6oQSMxEREZE6ocRMREREpE4oMRMRERGpE0rMREREROpEZImZmbWa2a/M7HdmdpeZ/XO4fpmZ3WZmO83sm2bWHFWMIiIiIrUUZY3ZMPAcdz8LeCqw3szOA/4duNLdTwcOAK+LLkQRERGR2oksMfPAYPgwEf448BzgunD9NcBLax+diIiISO2Zu0d3crM4sA04Hfgk8FHg1rC2DDM7EbjR3VdN8twNwAaAzs7Oszdt2lSzuKtpcHCQtra2qMOoWyqf8lRGpal8ylMZlabyKU9lVNq6deu2ufvqybY11TqYYu6eB55qZh3Ad4AnT+O5G4GNAKtXr/a1a9dWI8Sa6e5Js3l7L4uy93FvdjHrV3WyoisVdVh1Z8uWLRzr73W1qYxKU/mUpzIqTeVTnsroyNXFXZnu3gf8FDgf6DCz0YRxKbAnqrhqpbsnzcatu0lnsiTiMdKZLBu37qa7Jx11aCIiIlJDUd6VuSisKcPMksCFQDdBgvaycLdLge9GEmANbd7eSyqZIJVMYMbY8ubtvVGHJiIiIjUUZVNmF3BN2M8sBlzr7t83s7uBTWb2QeC3wNURxlgTe/oydKVax61rb21iT18moohEREQkCpElZu5+J/C0SdbvAs6tfUTRWdKRJJ3JkkomxtYNDOVY0pGMMCoRERGptUg7/zey0c7+e/oytMSNvekhTj5uLouBdCZLOpPlknOWRh2miIiI1JASswiMdvZPJRN0pVoZGMoRM2MklydrBVJtCS45Z6nuyhQREWkwSswiUNzZH4LO/iyYQyqZYGkiyavXLo84QhEREYlCXQyX0Wj29GVobx2fE6uzv4iIiCgxi8CSjiQDQ7lx69TZX0RERJSYRWD9qs6xDv4F97Hl9as6ow5NREREIqTELAIrulJsWLOMVDJBT3qIVDLBhjXL1NlfRESkwanzf0RWdKWUiImIiMg4qjETERERqRNKzERERETqhJoyI1I88v+SjiTrV3WqaVNERKTBqcYsAqMj/6czWbpSraQzWTZu3U13Tzrq0ERERCRCSswiUDzyf8xsbHnz9t6oQxMREZEIKTGLgEb+FxERkckoMYuARv4XERGRySgxi4BG/hcREZHJKDGLgEb+FxERkclouIyIaOR/ERERmUg1ZiIiIiJ1QomZiIiISJ1QYiYiIiJSJ5SYiYiIiNQJJWYiIiIidUKJmYiIiEidqGi4DDObDywGMsD97l6oalQiIiIiDWjKxMzMUsDfAH8ONAP7gFag08xuBT7l7j+tSZQiIiIiDaBUjdl1wJeBZ7t7X/EGMzsbeI2ZneruV1cxvlmruyfN5u297OnLsKQjyfpVnRpwVkREpMFNmZi5+4Ultm0DtlUlogbQ3ZNm49bdpJIJulKtpDNZNm7dzYY1y6IOTURERCJUced/M1tkZh80s/80szOqGdRst3l7L6lkglQyQcxsbHnz9t6oQxMREZEITeeuzP8EfgR8B/h6dcJpDHv6MrS3jq+sbG9tYk9fJqKIREREpB5MmZiZ2Y/MbE3Rqmbg/vCnpbphzW5LOpIMDOXGrRsYyrGkIxlRRCIiIlIPStWYvQJ4sZl9w8xOA/4J+Dfg48CbahHcbLV+VSfpTJZ0JkvBfWx5/arOqEMTERGRCJXq/J8G/t7MTgU+BOwF3jzxDk2ZvhVdKTasWTbursxLzlnKiq4UvfdEHZ2IiIhEpdQ4ZqcBbwRGgLcDpwHfNLMfAJ909/zRnNjMTiQYjqMTcGCju3/czBYA3wROIWg2fYW7Hziac9WjFV0pDY8hIiIi45RqyvwGcD3wU+Ar7v5zd38+0Af8eAbOnQPe7u4rgfOAvzGzlcC7gJ+4+xnAT8LHIiIiIrNeqcSsBdhNUGs1Z3Slu38ZeNHRntjde9z9N+HyANANLAEuBq4Jd7sGeOnRnktERETkWFBq5P83AVcRNGX+dfEGd5/RcR3M7BTgacBtQKe794SbHiFo6hQRERGZ9czdow3ArA34GfAhd7/ezPrcvaNo+wF3nz/J8zYAGwA6OzvP3rRpU61CrqrBwUHa2tqiDqNuqXzKUxmVpvIpT2VUmsqnPJVRaevWrdvm7qsn21aq8//3gM8CP3L37IRtpwKXAfe7+xeONDAzSwDfBr7m7teHq3vNrMvde8ysC3h0sue6+0ZgI8Dq1at97dq1RxpGXdmyZQuz5bVUg8qnPJVRaSqf8lRGpal8ylMZHblSfczeAKwB/mBmvzazH5rZ/5rZLoKEbdtRJmUGXA10u/t/FW26Abg0XL4U+O6RnkNERETkWFJqHLNHgHcC7wz7gHUBGWCHux+agXM/E3gN8HszuyNc94/Ah4Frzex1wAMEA902nO6e9Lhxztav6tTwGiIiIrNcqc7/Y9z9foK7M2eMu/8CsCk2P3cmz3Ws6e5Js3HrblLJBF2pVtKZLBu37mbDmmVKzkRERGax6UxiLjWyeXsvqWSCVDJBzGxsefP23qhDExERkSpSYlaH9vRlaG8dX5nZ3trEnr4ZHaVERERE6kxFiZmZJc3sSdUORgJLOpIMDOXGrRsYyrGkIxlRRCIiIlILZRMzM3sxcAewOXz8VDO7ocpxNbT1qzpJZ7KkM1kK7mPL61dprF0REZHZrJIas/cD5xLMkYm73wEsq1pEwoquFBvWLCOVTNCTHiKVTKjjv4iISAOo5K7MrLung2HHxkQ7XUADWNGVUiImIiLSYCpJzO4ys78A4mZ2BvC3wP9VN6zZSWOTiYiISCmVNGW+BTgTGAa+AfQDb6tiTLPS6Nhk6Ux23Nhk3T3pqEMTERGROlG2xiwc5f+K8EeOUPHYZMDY/5u396rWTERERIAKErNwMvOJfcrSwO3AZ919qBqBzTZ7+jJ0pVrHrSsem2y0mXPRYIYrb9qhZk4REZEGVElT5i5gEPhc+NMPDADLw8dSgVJjkxU3cybiMTVzioiINKhKOv//sbufU/T4e2b2a3c/x8zuqlZgs836VZ1s3LobCGrKBoZypDNZLjln6bhmThuCVKuaOUVERBpRJTVmbWZ20uiDcLktfDhSlahmoVJjk2kKJhEREYHKaszeDvzCzO4DjGBw2TeZ2VzgmmoGN9tMNTbZko4k6Ux27IYA0BRMIiIijaiSuzJ/GI5f9uRw1T1FHf4/Vq3AGklxM+diGJuC6ZJzlkYbmIiIiNRURZOYA2cTjGV2FvAKM3tt9UJqPMXNnNl8QVMwiYiINKhKhsv4CnAawUTm+XC1A1+uXliz32SzAFx+4XK2bNnLq9cujzo8ERERiUAlfcxWAyvdXfNjzpDR4TFSycS4WQA2rNHc8CIiIo2sksRsO3AC0FPlWBrG5u295PMF7u7pZ3AohxlkcwXefu2dXHbqMN09aTVjioiINKBKErOFwN1m9iuC+TIBcPeXVC2qWe6uvWl29g6QyRYYyuUZyhZojhnHtTeTL/hY7ZmSMxERkcZSSWL2/moH0Wh60kM8fihLMhEjXygQM2c47xwczhOPGalkQoPLioiINKBKhsv4WS0CaSSHRnLEDMDIFwwDzJxsvgBocFkREZFGVXa4DDM7z8x+bWaDZjZiZnkz669FcLNVMtHE8e0tNMUNcMygJR5jOFegP5Nl6459NMct6jBFRESkxioZx+wq4M+Be4Ek8Hrgk9UMarbq7klz5U07yGRzPDowQltLE6cunEuh4AwM58nnC+Tyzv7BYXr7hzWJuYiISIOppI8Z7r7TzOLunge+aGa/Bd5d3dBml+IhMp6xbAG/uHc/vf3DzEkYuQLEDCxm5N3DCc6Hed8Nd3PSgjlj45ypz5mIiMjsVkmN2SEzawbuMLOPmNnlFT5Pimze3ksqmSCVTNA5L8ma5Qs5+bg5jBQg2RynrSVOR7KZeMwwg989lKanLzNunDPVoImIiMxulSRYrwn3ezNwEDgR+LNqBjUb7enL0N56uIJyUXsrK7rayeYLZPMFRvJOwR0DcoWg31nenZjZWEK3eXtvdC9AREREqq6SuzIfCBeHgH+ubjiz15KOJOlMllQyAcC+gSF+vfsALU0x8vkC2YLTP5Sl4M5IrkA8FqMlfjhv1p2aIiIis18ld2U+08xuMrMdZrZr9KcWwc0m61d1ks5kSWeC5Ouuvf04sPrk+bQkmmhpihOPGQWHeMzoSDaxaF7r2PMHhnIs6UhG9wJERESk6irp/H81cDmwjcOTmMs0rehKsWHNsrGJy7N55xmnzuf49iDZum33AWIGMTOeccp87nvsECe0t1AYuxkgyyXnLI34VYiIiEg1VZKYpd39xqpH0gBWdKXG7qy88qYdpDNZAM7onMf8uc1s39NPUzzLWSct4OXnnMiO3oPs6cuwpCPJJecs1V2ZIiIis9yUiZmZPT1c/KmZfRS4nvFzZf6myrHNautXdbJx624g6D+WiMc5dVEbJ84fZv2FywF4YZQBioiISM2VqjH7zwmPVxctO/CcmQ+ncUxs2hytFeu9py/q0ERERCQiUyZm7r6uloE0mu6e9LikbHQA2d57oo5MREREojLlXZlm9ndm9rpJ1r/OzN42Eyc3sy+Y2aNmtr1o3YLwLtB7w//nz8S56snoLADpTHZsANmPbL6HK66/k4cPZLjyph0aTFZERKQBlRou41XAlydZ/xXgr2bo/F8C1k9Y9y7gJ+5+BvCT8PGsUjwLQMyMkVyeB/cfYvvefhLxmEb6FxERaVClErMmd89OXOnuI4DNxMndfSvw+ITVFwPXhMvXAC+diXPVk4mzAOzcd5C2ljgj+QJmaKR/ERGRBlWq83/MzDrdfVx2YGadVY6p0917wuVHgGqfr2qm6kc2cRaAwaEc2VyOQ9kC/Zkst+zdz6kL5zA4nIv4FYiIiEgtmbtPvsHstcDfAm8HRofGOBv4KHCVu18z6ROnG4DZKcD33X1V+LjP3TuKth9w9yf0MzOzDcAGgM7OzrM3bdo0E+HMmKFsnscGR4jHjJgZBXfyBWdhWzPAuG39mSzZfIFEU4wFiTx9uTj5AsxtiWu0/wkGBwdpa2uLOoy6pjIqTeVTnsqoNJVPeSqj0tatW7fN3VdPtq3UXZlfNrN9wL8AqwiGyLgLeG+VB5ztNbMud+8xsy7g0Sni2whsBFi9erWvXbu2iiFN35U37SAdP1wrBpDOZNlHgssvXM4P7tzDNbc8SG//EIeGY+TyBZqb4lx2aoYv7WqlKWasfdIiXrX2KRG+ivqzZcsW6u29rjcqo9JUPuWpjEpT+ZSnMjpyJefKdPcb3f1P3P04d18YLld7FoAbgEvD5UuB71b5fFUxsR8ZHJ6IvLsnzc3d+1jZNY+XnLUYAwaH8xw4NELBfaz2rHdgePKDi4iIyKxUdhLzajKzbwC3AE8ys4fD4Tk+DFxoZvcCF4SPjzlLOpIMDI3vIzY6EXnxXZn7B4cZGM5hBs1NMeIxw8wwoH9IfcxEREQaSSVzZVaNu//5FJueW9NAqmDilEvFE5Ff/Yv7aYrB3T397No3SDZXoADkR/IUCkGNWTqT5fTOw+3zU91IICIiIrNHpDVms9nolEupZIKe9BCpZIINa5axoitFc9z49e4DDGfzZPMFHBi9B8MhaMqMw8ow8ZpsQFqNcyYiIjL7lK0xC4fH+FdgsbtfZGYrgfPd/eqqR3eMW9GVmrRWywgSMICRbB734HHBwXEK7gznnPWrgpFCips+gbH/N2/vVa2ZiIjILFJJjdmXgB8Bi8PHO4C3VSmehjCcd55x6nzyBWek4GNJmof/5PNOPHb4rSl1I4GIiIjMHpUkZgvd/VqgAODuOSBf1ahmuSUdSVqampjT0sRxc5tpaYrRFIOmGJgZ85IJls5Pjo38X+pGAhEREZk9KknMDprZcYQVOmZ2HqDOTUdh/apOHth/kHt7BxgayTOSLwCQiAdvx8GRPF2plrEasfWrOklnsqQzWQruY8ujTZ0iIiIyO1SSmP0dwdhip5nZLwkmNn9LVaNqADEzmuMxYjGjKWbkC5AvBI2ac5vj7Og9SEs8mJK01I0EIiIiMnuU7fzv7r8xsz8BnkTQb/2eySY3l8pt3t7LiQvm0Dmvhd882Mej/UOkD2XJF02PNZLNUzxZ1lQ3EoiIiMjsUbbGzMz+Bmhz97vcfTvQZmZvqn5os9doZ/5F7a08/aQO8u7EYgYOZtAUN5qaYjyqkf9FREQaSiVNmW9w977RB+5+AHhD1SJqAEs6kjzw2EFu2bWfOx5KUyg4rU0xOlOttCbiLFvYRmsirpH/RUREGkwliVnczGz0gZnFgebqhTT7Le+cy28f6qM/k2Vucwwn6PB/cCjHcLbA/Y8dJDOSI5WMdGIGERERqbFKfvNvBr5pZp8NH/+/cJ0coR29B3n6SR080j9M/1CWZCJOvuBkCwVGh57NF5zj21qiDVRERERqqpLE7B8IkrE3ho9vAj5ftYgawJ6+DHNa4kVrnKaY0RSPkYjncZx0JscdD6fp7kmr07+IiEiDKNuU6e4Fd/+0u78s/Pmsu2uA2aPQEjdu23WAoWye9pYmcgUoFBzcGckXMIwT5ycZyuY1J6aIiEgDmbLGzMyudfdXmNnvYdzIDQC4+1OqGtks5sBIrsAj6Qy5gjOSy4MFNWYtTTFOWTg3SNqScVLJxLg5Mbt70mze3suevgxLOpKsX9WpGjUREZFZolRT5lvD/19Ui0Aayb7BYXKFPIPDOYZzBUaHLxvJB8tD2TzDuQKrlswbNydmd0+ajVt3k0om6Eq1ks5k2bh1twabFRERmSWmTMzcvSe8A/NL7r6uhjHNat09ae54sI++QyPEYhA3IxY3RrIFCgVnJFcgX3DOPrmDhW1B8jU6J+bm7b2kkglSyQTA2P/FNWoiIiJy7CrZ+d/d82ZWMLOUu6uj01H6wZ17+O+f3MeBQ1nyBfBgWnjIh1VmDgV39vZlWDq/le17+jlwKMuqxe384/V38sv79tPZ3sIZnW0sbGsFGFejJiIiIse2Su7KHAR+b2Y3AQdHV7r731YtqlmouyfNf//vfWAQM2eqoWMdePxQli07HuPk+XM4s6uNPzwyiAFtLcGgs9se6BurURsYyo3VqImIiMixrZLE7PrwR6apuKP+g48fYnAoy+KOJDEzJrmfYhwvOImmGI8fytHeGrxNuYKPPe/e3kES8TjpTJZLzlla5VciIiIitVAyMTOzlwKLgN+7+49qEtEsMbGj/m8fPEAmW+DAoRGc8onZcN65u6efmEFrIs7xbc20Nid4+kkd7Hx0kN6BYc5PJrjknKXqXyYiIjJLlBou41PAmcD/AR8ws3Pd/QM1i+wYN7Gj/sK2FgruPH4wSz5fqOgYBQ9+MiN5HjyQ4eQFxqL2Vpqb4pyfTHD5hcur+RJERESkxkrVmK0BzgpvAJgD/BxQYlahPX0ZulKtY49PP34ufYdGmNMc58Chyo8Tt6BurVCA/QdHSGeyar4UERGZYfUyTmipkf9HRkf4d/dDgJXYVyZY0pFkYOhwF/+Fba10pVrJu4+NW1YJM2hNxGiOBxOdp5IJjVsmIiIyg0a7H6Uz2XHjhEYx806pGrMnm9md4bIBp4WPDXCN/F/a+lWdbNy6GwiGtHhw/0Hu23eQ1SfN54f9PeQqa81k/pxmmptiDGeD2QEuv3A5P7hzD++74W56+4fonNfKpeefxAufsqSKr0ZERGT2qqdxQkslZitqFsUsMbEa9IIVi9jRe5A9fRl6+od52okdtLU2UagwKQMYyeWD2QByBZ59+kJ+cOcePnzjPcxtaeL4tmb6M1k+fOM9AErOREREjsDE7kcQ3TihUzZluvsDpX5qGeSxYLJq0Ju797F+VSf/8fKzOGnBHIZzeX50Vy82jUbh9FCe/swIJy+Yw99ecAbX3PIgc1uaSCUTxGIxUskEc1uauOaWB6v34kRERGaxid2PgMjGCS3Vx0ymobgaNGY2trx5ey8AzXHjtvsPYEy/s16uAB52TOvtH6K9JT5ue3tLnN7+oRl4FSIiIo1n/arOsZvrCu5jy+tXddY8lkoGmJUKTFYNOpzLcdPdj7OnL8M9Pf0cGs5idngGpkoVgPv3H+ITN99L57xW+jNZUsnDOfXAcJ7Oea1TH0BERESmtKIrxYY1y8Z1R4pqnNBS45gtAha5+90T1q8E9rn7vmoHdyxZ0pEkncmOdRh8bHCI23YdoL21ia5UK7ft2s9I/siPP5wrcMuu/XzoT1eN9Slrb4kzMJzn4HCOtzzntJl4GSIiIg1pRVeqLkY8KNWU+d/AwknWHwd8vDrhHLsmVoNu39OPAWcunkfMjIGh7FGNN5J36MvkuOaWB7lw5SLmJRM8OjjCvGSCd130JHX8FxERmQVKNWWe7u5bJ65095+b2aerGNMxaWI16Ei+wOnHz2XnvoPc8VCa/qFcmUmYKvNoOsNNfRklYyIiIrNQqcSsvcS2xEwHMhsUV4P+4/V3ctuux2lrbaKtJU5hJrIyoHdgmPnJBNfc8iCnLmqri1GKRUREZGaUasrcaWYvmLjSzC4CdlUvpNlh4jTlM3n7677BYX5z/+O87NO38I1fPcDBoZFIRykWERGRmVGqxuxtwA/M7BXAtnDdauB84EVVjquuHMn8WcN55xmnzmfXvkP0D2WJxZjWwLJTKRQKZAtB4je3JU6+AL+873Gedbpx/LxkJKMUF6uXucZERESORaUqcp4P/BHwM+CU8OdnwFPcfUe1AzOz9WZ2j5ntNLN3Vft8U+nuSfORzfew5Z5HuWtPmi33PMpHNt9TtmZqSUeSlqYmzjv1OJ638gQS8RhNdvQTjg4X3dnZn8mSGckxnM3z03v2cffeNHdHWGNWT3ONiYiIHItKJWZ/5e7D7v5Fd397+PMFd6/6SKZmFgc+CVwErAT+PBymo+a+cssDPLj/EBBMzwDw4P5DfOWW0pMfTLxLsykc7r9phto0g6ZSZzhXIFdwsvkC/UM5HtqfiSwRKjfIroiIiJRWryP/nwvsdPdd7j4CbAIujiKQ3z7URzwGjw0Os+uxgzw2OEw8FqwvZfQuzVQyQU96iJMWziUWg+wMNGdCMOjsSA4KzrgbC5Z3tkWWCO3py4wlr6OimmtMRETkWGSjU/08YYNZDjg02SbA3X1e1YIyexmw3t1fHz5+DfAMd39z0T4bgA0AnZ2dZ2/atKkqsezoHSBXcGJFE1wW3GmKGcs7S924Ol46k+XBxycrzvE6k9BbYR5TfINBzIyOOQmaYjGy+QJL5z9xfq+hbJ7+oRwjuQLNTTHmtTbRmog/Yb8j9ejAMPmCE48dLqvRx8e3t8zIOQYHB2lra5uRY81WKqPSVD7lqYxKU/mUpzIqbd26ddvcffVk20p1/v+9uz+tSjEdNXffCGwEWL16ta9du7Yq5/mPT/ycB/cfItkcJx4z8gUnM5LnpOPm8P1Lnl3xcf7x+jvZ9PuHKFdh9vY/yvGfv69spqyYBT+tiTjzkglefvaJwewDbQlevXb5uH1H+3+lkgna5zYxMJQj/XiWDWuWzVjn/HHnaA3PMTSz59iyZQvVeq9nC5VRaSqf8lRGpal8ylMZHbl6bcrcA5xY9HhpuK7mTki1sqCtOezPlcdxFrQ1c0JqenNT3nR3b9mkbLpWnNBOW2tQS9Yct5KTrtai/9fE5ttUMjGjSZmIiMhsV6pq5ls1i+KJfg2cYWbLCBKyVwJ/EUUgZy5OMScR55GBYQaHcrS1NnFCewvLFk2vivbAoeyMx+YYSzqSZHMFmuIxUsnElJOuTjbJejX6f9XLXGMiIiLHolKJ2ZVmdilwAPge8E7g2cB9wAfc/bFqBeXuOTN7M/AjIA58wd3vqtb5Slm/qpONWw+xsmve4ea5olqpqMbtSiZiPHfF8WPxlKuZmjjJOsDAUI4lHU/siyYiIiLRKNWUeQ3wPOCvgC3AScBVwADwpWoH5u4/dPfl7n6au3+o2uebSqnmuemM2zW3JXbUY5iNmtNknLaobVrNhROH7yjV7CkiIiLRKFVjttLdV5lZE/Cwu/9JuH6zmf2uBrHVjama54r7bQFj/082+v4fLUnxi52PH1UciRiYGfPmNPPGtadOaxLziZOsL+lITtnsKSIiItEolZiNwFiz4t4J2/KT7N9wyvXbKm7m3Ns3RFuzcXDEmc585nGDWMzAIe/OnESMJ5/Qzo7eg7xwmvGq/5eIiEh9K5WYLTWzTxAMlzW6TPi48qqaWWxiv619A0PctbefbN654vo72Zse4uTj5gbNnIeyZLJOS5MxlKs8NSs4eMFpaYphBVicStKTHiLRpGmOREREZptSidnfFy3fPmHbxMcNKbgxYDcAQ9kcv959AAeecep8tu/tZ3AoR1eqlZglGM7lKTjk8tOpLwsHkPVgANm2ZBPz5zaH/cNyM/56REREJFpTJmbufk0tAzkWFffbum33ftpam1i1ZB4L21q5I5+mrSXOzn0HWdTeSt6DeTIdgylmW5iKA4VCgePb5zCUzYPDvNbKBqEVERGRY4d+ux+l0X5bo/3NRqdumteaIDOSY3AoqNlqboqRyxdgWj3Mgj5m+XA+zEw2z8LWBCcvmDPtcdRERESk/tXryP/HnCUdSQaGDjcvnn78XAaH8yTiRsGdjmSCvAdTKFU6bIYR3OnZHAcsGNl/OJvn4Ehew1yIiIjMQmUTMzM7rhaBHOsmjhOWiMdZ2NZMruDc8Lu9ZEbyzEnESMRjFdeZOcGdmE0xoykGuULwzMI0m0JFRETk2FBJjdmtZvYtM3uBmc3UGKmzzoquFBesWMTdPf3c8Lu9bLv/cQrunHPKAl5y1mJaEnEKDi1N8WkdNzOSI+/GgrnNPPmEeax90vGcfNzcGZ3jUkREROpDJYnZcmAj8BrgXjP7VzNbXt2wjj3dPWlu7t7Hyq55vOSsxcRixoGDWUZyeWIWNGc2N8VpbZ5eYpbLg7uzf3CE4+YGw3JUY45LERERiV7ZxMwDN7n7nwNvAC4FfmVmPzOz86se4TGieBaAmBkj+cLYXZkAibjhFNg/OFzxMQ9XTwbNmQ88HiRjmuNSRERkdqqoj5mZvdXMbgfeAbwFWAi8Hfh6leM7Zuzpy9BeNITFvNYEDmN3Zba1JMhmgwQrWeG9sMlEjPlzE8RjMRJNMXrTQ5rjUkREZBarpCnzFmAe8FJ3f6G7X+/uOXe/HfhMdcM7dpS7KzObKxCLG4s7kvzR0vksmFM+O8sVnJamOC1NMeJmZAuFiictFxERkWNPJXU3T3Kf/DZAd//3GY7nmFU8C0B7axOJeJxlC+fSOa+FnvQQsbjxrNOP4+EDQ+zoHSCTLTCvOc6hXJ5cYfJjjuSdfKFAS1OcuS1NXHjqAi6/UN37REREZqspEzMz+x7haKiT3Yzp7i+pXljHnuJZAPb0ZVjSkeSS5y8fq9m68qYd7N43GNaCxWiOxyg4DOfzlJpc6dBInq5UkhMXzOHV559cmxcjIiIikShVY/YfNYtilhidBWAy61d1cvmmR8CCJsqmmDGSK9DcFGc4n5/ymOeddhwru1KsX9Wp5ksREZFZrtRcmT+rZSCz3YquFCcelyR9KMtjg0Y2VyCbL5Cdqh0TaG+J8bnXnkN3T5rN23u5+hf3s6QjqSRNRERklpqy87+ZXRv+/3szu3PiT+1CnD1WdqVYuTjFuafMZzjvDGUL5KYYxN+A9tYE3T1pNm7dTTqTpSvVSjqTZePW3XT3pGsau4iIiFRfqabMt4b/v6gWgTSC0RsE7tt3sOztsK1NRseclnHjowFj/2/e3qtaMxERkVmmVFNmT/j/A7ULZ/YbHsmx89FBCg5mgDPp3Jlm8LQTU+zpy9CVah23TSP/i4iIzE6VDDB7npn92swGzWzEzPJm1l+L4GaT7p40//GjHfyhd5CmeDApeWGKpAwgk3UeePwgzXEbNz4aaOR/ERGR2aqSAWavAv4cuBdIAq8HPlnNoGajzdt7efDxgxwczpHPO9mp+/xjQCIGO3oH6e0f5oH9B0lnshTcNfK/iIjILFZJYoa77wTi7p539y8C66sb1uxz1940vf1DOD5lLRlAzIy5LXHi8RjDuQInLpjD4lQrqWSCnvSQRv4XERGZxSoZ+f+QmTUDd5jZR4AeKkzo5LD+oRzN8TgWTk3eFIN84XBTZszAPagtG51oYW5LE+2tTfSkcxrxX0REpAFUkmC9JtzvzcBB4ETgz6oZ1GyUSjbR1hJnOFfALOhfZkDcYE4imAUAgkQtm3diBk9dmlJ/MhERkQZStsbM3R8ws0Xh8j9XP6TZaWVXijmJOLv2HeT+/QUGh/M0xYLhL9pamnikfwjDcM/T1tLEM5bN5/h5SdKZLJecszTq8EVERKQGSg0wa2b2fjN7DLgH2GFm+8zsvbULb/ZYv6qTWCzG2acs4LJnLuPsk1M0xWMMDucYKTiXX3gG3R+8iNOPn8trzj+Fua3N6k8mIiLSYErVmF0OPBM4x913A5jZqcCnzexyd7+yFgHOFsWTnN/dk2ZwqMCFKzo5eeFcBoZy/OGRg3T3pGlNxLl8rfqTiYiINKJSidlrgAvd/bHRFe6+y8xeDfwYUGI2TaOTnF950w6WdMyZdDT/pyWijFBERESiVKrzf6I4KRvl7vsApQ9HYU9fhvbW8TmxRvMXERGRUonZyBFukzKWdCQ1mr+IiIg8QammzLOmmHrJgNZJ1kuFRiczBxjK5ujuGeChxw/SFIuRPH2IT332Fi49/yRe+JQlEUcqIiIitVRqEvN4LQNpJCu6UlywYhGf2rKL+x87SNxgOFcAy5PLF7inp58PfL8bQMmZiIhIA9EI/hHo7klzc/c+mmLG6Yvmki04I3nHMMyMXME5OJznM1t2RR2qiIiI1FAkiZmZvdzM7jKzgpmtnrDt3Wa208zuMbPnRxFftW3e3ksqmSCbd1oScUZyBQzIu2NAwZ3WhPHgAd0MICIi0kiiqjHbDvx/wNbilWa2EnglcCbBROmfMrNZ16Q6eldmW2vT2BRNZsEcmQ40xQx3SMQt6lBFRESkhiJJzNy9293vmWTTxcAmdx8OB7XdCZxb2+iqb/SuzNMXzWU4V2BOIk7BGZsvM2bGUK7AOSfPjzZQERERqSlz9+hObrYFeIe73x4+vgq41d2/Gj6+GrjR3a+b5LkbgA0AnZ2dZ2/atKlmcR+toWyexwZHiMeMgjuHRvIMZ/OYGce3OvtHYjTHYyzuaKU1MesqDI/K4OAgbW1tUYdR11RGpal8ylMZlabyKU9lVNq6deu2ufvqybaVncT8SJnZzcAJk2y6wt2/e7THd/eNwEaA1atX+9q1a4/2kDXV3ZNm8/Ze9vRlWDI/yZxm4yd/eIznxh/jf9MLufT8k1ivOzKfYMuWLRxr73WtqYxKU/mUpzIqTeVTnsroyFUtMXP3C47gaXuAE4seLw3XzTqj0zNBkKRt3LqblV3z6KCflcl53Ny9j1MXtbGiKzU+ietIsn5VpyY2FxERmYXqbbiMG4BXmlmLmS0DzgB+FXFMVTd6l2YqmcCMseXN23vHkrZ0JktXqpV0JsvGrbvp7klHHbaIiIjMsKiGy/hTM3sYOB/4gZn9CMDd7wKuBe4GNgN/4+75KGKspVJzZxYnbTGzcUmbiIiIzC5Va8osxd2/A3xnim0fAj5U24iitaQjSTqTJZU8PDf86NyZe/oydKXGz4ClCc9FRERmp3prymxI61d1ks5kSWeyuDO2vH5VpyY8FxERaSBKzOrAiq4UG9YsC2cDKJBKJtiwZhkrulLjkraC+7ikTURERGaXSJoy5YlG79LcsmUvr167fNz6DWuWjbsr85JzluquTBERkVlIidkxoHhoDREREZm9lJhFbOIYZSuY9TehioiIyBTUxyxCk41R9tjgiMYoExERaVBKzCI02Rhl8ZhpjDIREZEGpcQsQpMNLBsz0xhlIiIiDUqJWYQmG6Os4K4xykRERBqUOv/X0MSO/ss753Jz9z4gGM1/YCjHooJrjDIREZEGpRqzGpmso//N3fu4YMUiUskEPekhUskEC9uaNTSGiIhIg1KNWY0Ud/QHxv7f0XuQyy88PKDsli17I4lPREREoqcasxqZrKO/JiMXERGRYkrMamRiR/99A0Ns3bGPu/f2c+VNOzR2mYiIiCgxq5Xiych7+zPctutxBoZynHXiPNKZLBu37lZyJiIi0uCUmNXI6GTkqWSC3z2cpq21ifNPW8Dx7cmxvmcaWFZERKSxqfN/DY1ORr6nL0NXqpWY2di20f5mT1sUYYAiIiISKSVmEVjSkSSdyZJKJnhscIidjx7kscFhjmtrYahDk5iLiIg0KjVlRmC0v9n9jw1y+/0HSGeyJGIxTmhv0STmIiIiDUyJWQRG+5v19A+TL8C8ZIKnn9zBskVtmsRcRESkgakpMyIrulKctGAOz1i2YFxfM01iLiIi0riUmEVgdM7Mu/amubd3gFVL5rGwrRXQJOYiIiKNTE2ZNVY8Z+ZZS1MMDuW45b7HeXQgQzqTJa9JzEVERBqWErMaK54zs3NekmecuoD21iZu2/U4d/f0ky84m7f36gYAERGRBqTErMYmzpm5qL2VFV3t5AqwsmserYm4ZgIQERFpUErMamzinJkA3T0DzJ8T1KKZoZkAREREGpQSsxornjOz4E46k+XAoSwrF7eP2290JgARERFpHErMaqx4zsye9BCpZIJnn34cLU3jb5AdGMrp7kwREZEGo+EyIjA6Z+ao0Ts1ARbDWI3aJecsjShCERERiYJqzOpAcS1aNl8glUywYc2yccmbiIiIzH6qMasTo7VoW7bs5dVrl0cdjoiIiERANWYiIiIidUKJmYiIiEidUGImIiIiUiciSczM7KNm9gczu9PMvmNmHUXb3m1mO83sHjN7fhTxiYiIiEQhqhqzm4BV7v4UYAfwbgAzWwm8EjgTWA98ysziEcUoIiIiUlORJGbu/mN3H52X6FZgdMCui4FN7j7s7ruBncC5UcQoIiIiUmvm7tEGYPY94Jvu/lUzuwq41d2/Gm67GrjR3a+b5HkbgA0AnZ2dZ2/atKmWYVfN4OAgbW1tUYdRt1Q+5amMSlP5lKcyKk3lU57KqLR169Ztc/fVk22r2jhmZnYzcMIkm65w9++G+1wB5ICvTff47r4R2AiwevVqX7t27ZEHW0e2bNnCbHkt1aDyKU9lVJrKpzyVUWkqn/JURkeuaomZu19QaruZXQa8CHiuH6622wOcWLTb0nCdiIiIyKwX1V2Z64F3Ai9x90NFm24AXmlmLWa2DDgD+FUUMYqIiIjUWlRTMl0FtAA3mRkE/cr+2t3vMrNrgbsJmjj/xt3zEcUoIiIiUlORJGbufnqJbR8CPlTDcERERETqgkb+FxEREakTSsxERERE6oQSszrR3ZPmypt28PCBDFfetIPunnTUIYmIiEiNKTGrA909aTZu3U06kyURj5HOZNm4dbeSMxERkQajxKwObN7eSyqZIJVMYMbY8ubtvVGHJiIiIjWkxKwO7OnL0N46/gbZ9tYm9vRlIopIREREoqDErA4s6UgyMJQbt25gKMeSjmREEYmIiEgUohpgtuF196TZvL2XPX0ZWuLG3vQQJx83l8VAOpMlnclyyTlLow5TREREakiJWQRGO/unkgm6Uq0MDOWImTGSy5O1Aqm2BJecs5QVXamoQxUREZEaUmIWgeLO/hB09mfBHFLJBEsTSV69dnnEEYqIiEgU1McsAursLyIiIpNRYhYBdfYXERGRySgxi8D6VZ1jHfwL7mPL61d1Rh2aiIiIREiJWQRWdKXYsGYZqWSCnvQQqWSCDWuWqbO/iIhIg1Pn/4is6EopERMREZFxVGMmIiIiUieUmImIiIjUCSVmIiIiInVCiZmIiIhInVBiJiIiIlInlJiJiIiI1AklZiIiIiJ1QuOYRaS7J83m7b3s6cuwpCPJ+lWdGtdMRESkwanGLALdPWk2bt1NOpOlK9VKOpNl49bddPekow5NREREIqTELAKbt/eSSiZIJRPEzMaWN2/vjTo0ERERiZASswjs6cvQ3jq+Fbm9tYk9fZmIIhIREZF6oMQsAks6kgwM5catGxjKsaQjGVFEIiIiUg+UmEVg/apO0pks6UyWgvvY8vpVnVGHJiIiIhFSYhaBFV0pNqxZRiqZoCc9RCqZYMOaZborU0REpMFpuIyIrOhKKRETERGRcVRjJiIiIlInlJiJiIiI1AklZiIiIiJ1IpLEzMw+YGZ3mtkdZvZjM1scrjcz+4SZ7Qy3Pz2K+ERERESiEFWN2Ufd/Snu/lTg+8B7w/UXAWeEPxuAT0cTnoiIiEjtRZKYuXt/0cO5gIfLFwNf9sCtQIeZddU8QBEREZEIRDZchpl9CHgtkAbWhauXAA8V7fZwuK6nttGJiIiI1J65e/m9juTAZjcDJ0yy6Qp3/27Rfu8GWt39fWb2feDD7v6LcNtPgH9w99snOf4GguZOOjs7z960aVM1XkbNDQ4O0tbWFnUYdUvlU57KqDSVT3kqo9JUPuWpjEpbt27dNndfPdm2qiVmlTKzk4AfuvsqM/sssMXdvxFuuwdY6+4la8xWr17tt9/+hNztmLRlyxbWrl0bdRh1S+VTnsqoNJVPeSqj0lQ+5amMSjOzKROzqO7KPKPo4cXAH8LlG4DXhndnngekyyVlIiIiIrNFJDVmZvZt4ElAAXgA+Gt332NmBlwFrAcOAX85WTPmJMfbFx5nNlgIPBZ1EHVM5VOeyqg0lU95KqPSVD7lqYxKO9ndF022IfKmTBnPzG6fqnpTVD6VUBmVpvIpT2VUmsqnPJXRkdPI/yIiIiJ1QomZiIiISJ1QYlZ/NkYdQJ1T+ZSnMipN5VOeyqg0lU95KqMjpD5mIiIiInVCNWYiIiIidUKJWZ0ws/Vmdo+Z7TSzd0UdTy2Z2Ylm9lMzu9vM7jKzt4brF5jZTWZ2b/j//HC9mdknwrK608yeXnSsS8P97zWzS6N6TdVgZnEz+204QwZmtszMbgvL4Ztm1hyubwkf7wy3n1J0jHeH6+8xs+dH9FKqwsw6zOw6M/uDmXWb2fm6hg4zs8vDz9d2M/uGmbU2+jVkZl8ws0fNbHvRuhm7ZszsbDP7fficT4RDQh0zpiifj4afsTvN7Dtm1lG0bdJrY6rfb1Ndfw3P3fUT8Q8QB+4DTgWagd8BK6OOq4avvwt4erjcDuwAVgIfAd4Vrn8X8O/h8guAGwEDzgNuC9cvAHaF/88Pl+dH/fpmsJz+Dvg68P3w8bXAK8PlzwBvDJffBHwmXH4l8M1weWV4bbUAy8JrLh7165rB8rkGeH243Ax06BoaK5slwG4gWXTtXNbo1xCwBng6sL1o3YxdM8Cvwn0tfO5FUb/mGSif5wFN4fK/F5XPpNcGJX6/TXX9NfqPaszqw7nATnff5e4jwCaCGREagrv3uPtvwuUBoJvgF8nFBL9sCf9/abh8MfBlD9wKdJhZF/B84CZ3f9zdDwA3EQxWfMwzs6XAC4HPh48NeA5wXbjLxPIZLbfrgOeG+18MbHL3YXffDewkuPaOeWaWIvglcjWAu4+4ex+6hoo1AUkzawLmAD00+DXk7luBxyesnpFrJtw2z91v9SDz+HLRsY4Jk5WPu//Y3XPhw1uBpeHyVNfGpL/fynyHNTQlZvVhCfBQ0eOHw3UNJ2wyeRpwG9Dph6fkegToDJenKq/ZXI4fA95JMFsGwHFAX9EXZPFrHSuHcHs63H82l88yYB/wxbC59/NmNhddQwC4+x7gP4AHCRKyNLANXUOTmalrZkm4PHH9bPJXBDWBMP3yKfUd1tCUmEndMLM24NvA29y9v3hb+BdnQ95CbGYvAh51921Rx1LHmgiaXD7t7k8DDhI0Q41p8GtoPkGNxjJgMTCX2VMTWDWNfM2UY2ZXADnga1HHMtsoMasPe4ATix4vDdc1DDNLECRlX3P368PVvWFzAOH/j4brpyqv2VqOzwReYmb3EzQDPAf4OEFTSlO4T/FrHSuHcHsK2M/sLR8I/tp+2N1vCx9fR5Co6RoKXADsdvd97p4Frie4rnQNPdFMXTN7ONzMV7z+mGdmlwEvAl4VJq8w/fLZz9TXX0NTYlYffg2cEd6h0kzQ2faGiGOqmbCvwdVAt7v/V9GmG4DRO5wuBb5btP614V1S5wHpsOnhR8DzzGx+WEPwvHDdMc3d3+3uS939FIJr43/d/VXAT4GXhbtNLJ/RcntZuL+H618Z3nG3DDiDoHPyMc/dHwEeMrMnhaueC9yNrqFRDwLnmdmc8PM2Wj66hp5oRq6ZcFu/mZ0Xlvlri451zDKz9QTdKl7i7oeKNk11bUz6+y28nqa6/hpb1Hcf6Cf4IbjjZwfB3StXRB1PjV/7swiaC+4E7gh/XkDQB+EnwL3AzcCCcH8DPhmW1e+B1UXH+iuCTqc7gb+M+rVVoazWcviuzFMJvvh2At8CWsL1reHjneH2U4uef0VYbvdwjN0hVkHZPBW4PbyO/ofgDjldQ4df1z8DfwC2A18huHuuoa8h4BsEfe6yBLWur5vJawZYHZb3fcBVhIO6Hys/U5TPToI+Y6Pf1Z8pd20wxe+3qa6/Rv/RyP8iIiIidUJNmSIiIiJ1QomZiIiISJ1QYiYiIiJSJ5SYiYiIiNQJJWYiIiIidUKJmYhgZnkzu8PM7jKz35nZ282s5PeDmS02s+vC5bVm9v1pnK/TzL4fnutuM/vhUcR+mZktLnr8eTNbeaTHq/CcbzOzOVNsS5jZh83sXjP7jZndYmYXhdsGqxnXdJjZS83sveHyW8xsu5n9MBxrCjN7lpldWbT/IjPbHFW8Io1CiZmIAGTc/anufiZwIXAR8L5ST3D3ve7+slL7lPAvBBM/n+XuK5kwfdI0XUYwzdBoXK9397uP4niVeBvBROCT+QDQBaxy96cTTMzcXuV4jsQ7gU+Fy68CngL8H/D8cEDUfyJ4LQC4+z6gx8yeWetARRqJEjMRGcfdHwU2AG8ORzk/xcx+Htb+/MbM/hiCCefNbHvxc80sFtYULSp6vHP0cZEuiiZ4dvc7i47x92b2azO708z+uehc3Wb2ubBW78dmljSzlxEM4vm1sMYvaWZbzGx1+LxBM/to+JybzezccPsuM3tJuE883Gf0nP8vXL823Pc6M/uDmX0tLI+/JUgEf2pmP53w+ucAbwDe4u7D4Wvrdfdri/b5UFhTeKuZdYbrXmxmt1kwAfvNRevfb2ZfKIr5b4uO809mdo+Z/cLMvmFm7wjXn2Zmm81sW/i+PXnie2xmy4Fhd39sdBWQIEg2s8CrgRvd/fEJT/0fgiRORKpEiZmIPIG77wLiwPEEcwVeGNb+XAJ8osTzCsBXOfzL+wLgd2FtS7FPAleb2U/N7IrRpkgzex7BVC7nEozkf7aZrQmfcwbwybBWrw/4M3e/jmC0/1eFNX6ZCeeZSzCd0JnAAPBBghrBPyWotYNgNPO0u58DnAO8wYIpZQCeRlA7tpJglPJnuvsngL3AOndfN+F8pwMPunv/FEU0F7jV3c8CthIkcQC/AM7zYAL2TQS1WaOeDDw/LJP3hU2l5wB/BpxFULu5umj/jQSJ4dnAOzhcK1bsmcBvih5fBdwKnAT8EvhLgvdootuBZ0/x2kRkBjSV30VEGlwCuMrMngrkgeVl9v8CwZx3HyOYquaLE3dw9x+Z2anAeoLE4rdmtopgnsHnAb8Nd20jSMgeJJiE+45w/TbglApiHwFG+0X9nqCWKGtmvy96/vOAp4S1bxBM2H1G+NxfufvDAGZ2R/icX1Rw3lLxjPbF20aQJEIwgfM3LZg0uxnYXfScH4S1b8Nm9ijQSZBYfdfdh4AhM/teGGMb8MfAt4LWSCCYemmiLmAsWXb3rxBM00TY7+wTwEVm9lqC6XfeHibdj1LUbCwiM0+JmYg8QZg05Ql+Eb8P6CWonYkBQ6We6+4PmVmvmT2HoJZn0qavsJns68DXLbhxYA1Bk9q/uftnJ8RzCjBctCoPJCt4KVk/PO9cYfQY7l4ws9HvPyOoYRo3WbmZrZ3knOW+M3cCJ5nZvClqzYrjKT7efwP/5e43hOd9f9FzphNDDOhz96eWiTNDkICOE9Zcnuvu/2JmPwOeA7yHYNLzmwjm0JxYKykiM0hNmSIyTtgf7DPAVWESkQJ6whqT1xA0cZbzeYImzW+5e36Sczwn7I+FmbUDpxHUiv0I+Kuw5gczW2Jmx5c51wBH17n+R8AbzSwRnnO5mc09knO6+yHgauDjdvjuxkVm9vIyx0sBe8LlSyuI+ZfAi82sNSyrF4Xn7wd2j54v7BN31iTP7yZodp3oA8B7w+Uk4AQJ7eiNDssJJuUWkSpRYiYiAMmw8/xdwM3Aj4F/Drd9CrjUzH5H0N/pYAXHu4GgGfIJzZihs4HbzexO4Bbg8+7+a3f/MUEt2i1hc+N1lE+6vgR8ZrTzfwWxTfR54G7gNxbczPBZyteMbQQ2T+z8H3oPQTPh3eHxvg9M1eds1PsJmh+3AY+V2Rd3/zVBGd8J3EjQTJsON78KeF34ft0FXDzJIbYCT7Oi9k4ze1p47NG+Z18Pj/tMDjcHrwN+UC4+ETlydrhWXURkZoR3RV7p7uooXiVm1ubug2HN41ZgQ1FSVcnzPw58z91vnsZztgIXu/uB6UcsIpVQjZmIzCgzexfwbeDdUccyy20Mb0j4DfDt6SRloX9l6rHYniBs4v4vJWUi1aUaMxEREZE6oRozERERkTqhxExERESkTigxExEREakTSsxERERE6oQSMxEREZE6ocRMREREpE78/yfDE1SDfFmJAAAAAElFTkSuQmCC\n",
       "datasetInfos": [],
       "metadata": {},
       "removedWidgets": [],
       "type": "image"
      }
     },
     "output_type": "display_data"
    }
   ],
   "source": [
    "# 1. Define a window ordered by date\n",
    "window_spec = Window.orderBy(\"date\")\n",
    "\n",
    "# 2. Compute previous day's net_sentiment and btc_close\n",
    "joined_df = joined_df.withColumn(\"net_sentiment_prev\", lag(\"net_sentiment\").over(window_spec))\n",
    "joined_df = joined_df.withColumn(\"btc_close_prev\", lag(\"btc_close\").over(window_spec))\n",
    "\n",
    "# 3. Calculate daily percentage change for net_sentiment\n",
    "joined_df = joined_df.withColumn(\n",
    "    \"sentiment_change\",\n",
    "    ((col(\"net_sentiment\") - col(\"net_sentiment_prev\")) / col(\"net_sentiment_prev\")) * 100\n",
    ")\n",
    "\n",
    "# 4. Calculate daily percentage change for BTC close price\n",
    "joined_df = joined_df.withColumn(\n",
    "    \"price_change\",\n",
    "    ((col(\"btc_close\") - col(\"btc_close_prev\")) / col(\"btc_close_prev\")) * 100\n",
    ")\n",
    "\n",
    "# 5. Filter out rows where changes are null (e.g. first row has no lag)\n",
    "joined_df = joined_df.filter(\n",
    "    col(\"sentiment_change\").isNotNull() & col(\"price_change\").isNotNull()\n",
    ")\n",
    "\n",
    "# 6. Convert to Pandas for correlation analysis\n",
    "joined_pd = joined_df.select(\"sentiment_change\", \"price_change\").toPandas()\n",
    "\n",
    "# 7. Compute Pearson correlation\n",
    "corr_matrix = joined_pd.corr(method=\"pearson\")\n",
    "print(\"Correlation matrix:\")\n",
    "print(corr_matrix)\n",
    "\n",
    "# 8. Scatter plot to visualize the relationship\n",
    "plt.figure(figsize=(10,6))\n",
    "plt.scatter(joined_pd[\"sentiment_change\"], joined_pd[\"price_change\"], alpha=0.5)\n",
    "plt.xlabel(\"Daily Sentiment Change (%)\")\n",
    "plt.ylabel(\"Daily BTC Price Change (%)\")\n",
    "plt.title(\"Correlation between Daily Sentiment Change and BTC Price Change\")\n",
    "plt.grid(True)\n",
    "plt.show()"
   ]
  },
  {
   "cell_type": "markdown",
   "metadata": {
    "application/vnd.databricks.v1+cell": {
     "cellMetadata": {},
     "inputWidgets": {},
     "nuid": "a53ac2f2-7073-4658-8d56-f02ab3519a1d",
     "showTitle": false,
     "tableResultSettingsMap": {},
     "title": ""
    }
   },
   "source": [
    "There's no correlation between `sentiment_change` and `price_change` and viceversa."
   ]
  }
 ],
 "metadata": {
  "application/vnd.databricks.v1+notebook": {
   "computePreferences": null,
   "dashboards": [],
   "environmentMetadata": {
    "base_environment": "",
    "environment_version": "1"
   },
   "inputWidgetPreferences": null,
   "language": "python",
   "notebookMetadata": {
    "pythonIndentUnit": 4
   },
   "notebookName": "[Data Analytics] progetto_finale_big_data",
   "widgets": {}
  }
 },
 "nbformat": 4,
 "nbformat_minor": 0
}